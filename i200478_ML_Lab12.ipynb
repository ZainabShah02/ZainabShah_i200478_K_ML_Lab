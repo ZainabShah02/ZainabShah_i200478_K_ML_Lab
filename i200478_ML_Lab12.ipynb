{
 "cells": [
  {
   "cell_type": "markdown",
   "id": "8b141f04",
   "metadata": {},
   "source": [
    "## Task 1\n",
    "## Implementing Gradient Descent From Scratch and Finding the Linear Relationship for the Given Dataset  "
   ]
  },
  {
   "cell_type": "code",
   "execution_count": 4,
   "id": "b18a3d23",
   "metadata": {},
   "outputs": [],
   "source": [
    "import pandas as pd\n",
    "import numpy as np"
   ]
  },
  {
   "cell_type": "code",
   "execution_count": 5,
   "id": "ba42f937",
   "metadata": {},
   "outputs": [],
   "source": [
    "def hypothesis(X1, thetas1):\n",
    "    return np.dot(X1,thetas1)"
   ]
  },
  {
   "cell_type": "code",
   "execution_count": 6,
   "id": "2d126959",
   "metadata": {},
   "outputs": [],
   "source": [
    "def loss_fun(y_act, y_pred):\n",
    "    return np.mean((y_act-y_pred)**2)"
   ]
  },
  {
   "cell_type": "code",
   "execution_count": 7,
   "id": "9bd63ae7",
   "metadata": {},
   "outputs": [],
   "source": [
    "def gradient_descent(alpha, thetas2, g_thetas):\n",
    "    return (thetas2-alpha*g_thetas)"
   ]
  },
  {
   "cell_type": "code",
   "execution_count": 8,
   "id": "dbc7b5dd",
   "metadata": {},
   "outputs": [],
   "source": [
    "def der_loss_fun(x,y,thetas3):\n",
    "    hp=hypothesis(x,thetas3)\n",
    "    diff = y-hp\n",
    "    f1=np.dot(diff.T,X)\n",
    "    f1=-2*f1/float(x.shape[0])\n",
    "    return f1"
   ]
  },
  {
   "cell_type": "code",
   "execution_count": 9,
   "id": "5719b5b6",
   "metadata": {},
   "outputs": [
    {
     "data": {
      "text/html": [
       "<div>\n",
       "<style scoped>\n",
       "    .dataframe tbody tr th:only-of-type {\n",
       "        vertical-align: middle;\n",
       "    }\n",
       "\n",
       "    .dataframe tbody tr th {\n",
       "        vertical-align: top;\n",
       "    }\n",
       "\n",
       "    .dataframe thead th {\n",
       "        text-align: right;\n",
       "    }\n",
       "</style>\n",
       "<table border=\"1\" class=\"dataframe\">\n",
       "  <thead>\n",
       "    <tr style=\"text-align: right;\">\n",
       "      <th></th>\n",
       "      <th>TV</th>\n",
       "      <th>radio</th>\n",
       "      <th>newspaper</th>\n",
       "      <th>sales</th>\n",
       "    </tr>\n",
       "  </thead>\n",
       "  <tbody>\n",
       "    <tr>\n",
       "      <th>0</th>\n",
       "      <td>230.1</td>\n",
       "      <td>37.8</td>\n",
       "      <td>69.2</td>\n",
       "      <td>22.1</td>\n",
       "    </tr>\n",
       "    <tr>\n",
       "      <th>1</th>\n",
       "      <td>44.5</td>\n",
       "      <td>39.3</td>\n",
       "      <td>45.1</td>\n",
       "      <td>10.4</td>\n",
       "    </tr>\n",
       "    <tr>\n",
       "      <th>2</th>\n",
       "      <td>17.2</td>\n",
       "      <td>45.9</td>\n",
       "      <td>69.3</td>\n",
       "      <td>9.3</td>\n",
       "    </tr>\n",
       "    <tr>\n",
       "      <th>3</th>\n",
       "      <td>151.5</td>\n",
       "      <td>41.3</td>\n",
       "      <td>58.5</td>\n",
       "      <td>18.5</td>\n",
       "    </tr>\n",
       "    <tr>\n",
       "      <th>4</th>\n",
       "      <td>180.8</td>\n",
       "      <td>10.8</td>\n",
       "      <td>58.4</td>\n",
       "      <td>12.9</td>\n",
       "    </tr>\n",
       "    <tr>\n",
       "      <th>...</th>\n",
       "      <td>...</td>\n",
       "      <td>...</td>\n",
       "      <td>...</td>\n",
       "      <td>...</td>\n",
       "    </tr>\n",
       "    <tr>\n",
       "      <th>195</th>\n",
       "      <td>38.2</td>\n",
       "      <td>3.7</td>\n",
       "      <td>13.8</td>\n",
       "      <td>7.6</td>\n",
       "    </tr>\n",
       "    <tr>\n",
       "      <th>196</th>\n",
       "      <td>94.2</td>\n",
       "      <td>4.9</td>\n",
       "      <td>8.1</td>\n",
       "      <td>9.7</td>\n",
       "    </tr>\n",
       "    <tr>\n",
       "      <th>197</th>\n",
       "      <td>177.0</td>\n",
       "      <td>9.3</td>\n",
       "      <td>6.4</td>\n",
       "      <td>12.8</td>\n",
       "    </tr>\n",
       "    <tr>\n",
       "      <th>198</th>\n",
       "      <td>283.6</td>\n",
       "      <td>42.0</td>\n",
       "      <td>66.2</td>\n",
       "      <td>25.5</td>\n",
       "    </tr>\n",
       "    <tr>\n",
       "      <th>199</th>\n",
       "      <td>232.1</td>\n",
       "      <td>8.6</td>\n",
       "      <td>8.7</td>\n",
       "      <td>13.4</td>\n",
       "    </tr>\n",
       "  </tbody>\n",
       "</table>\n",
       "<p>200 rows × 4 columns</p>\n",
       "</div>"
      ],
      "text/plain": [
       "        TV  radio  newspaper  sales\n",
       "0    230.1   37.8       69.2   22.1\n",
       "1     44.5   39.3       45.1   10.4\n",
       "2     17.2   45.9       69.3    9.3\n",
       "3    151.5   41.3       58.5   18.5\n",
       "4    180.8   10.8       58.4   12.9\n",
       "..     ...    ...        ...    ...\n",
       "195   38.2    3.7       13.8    7.6\n",
       "196   94.2    4.9        8.1    9.7\n",
       "197  177.0    9.3        6.4   12.8\n",
       "198  283.6   42.0       66.2   25.5\n",
       "199  232.1    8.6        8.7   13.4\n",
       "\n",
       "[200 rows x 4 columns]"
      ]
     },
     "execution_count": 9,
     "metadata": {},
     "output_type": "execute_result"
    }
   ],
   "source": [
    "df = pd.read_csv (\"Advertising.csv\")\n",
    "df = df.iloc[: , 1:]\n",
    "df"
   ]
  },
  {
   "cell_type": "code",
   "execution_count": 10,
   "id": "8e0cdd05",
   "metadata": {},
   "outputs": [
    {
     "name": "stdout",
     "output_type": "stream",
     "text": [
      "X Shape:  (200, 4)\n",
      "Y Shape:  (200, 1)\n",
      "Thetas Shape:  (4, 1)\n"
     ]
    }
   ],
   "source": [
    "one = np.ones(200)\n",
    "X = df.iloc[: , :-1]\n",
    "X['One'] = one\n",
    "X = np.array(X)\n",
    "Y = df.iloc[:,-1:]\n",
    "Y = np.array(Y)\n",
    "thetas = np.array([[100] , [50] , [75] , [1]])\n",
    "print(\"X Shape: \" , X.shape)\n",
    "print(\"Y Shape: \" , Y.shape)\n",
    "print(\"Thetas Shape: \" , thetas.shape)\n",
    "alpha = 0.0001"
   ]
  },
  {
   "cell_type": "code",
   "execution_count": 11,
   "id": "1af95af3",
   "metadata": {},
   "outputs": [
    {
     "data": {
      "text/plain": [
       "(200, 1)"
      ]
     },
     "execution_count": 11,
     "metadata": {},
     "output_type": "execute_result"
    }
   ],
   "source": [
    "y_pred = hypothesis(X , thetas)\n",
    "print(y_pred.shape)\n",
    "MSE = loss_fun(Y , y_pred)\n",
    "print(\"MSE\",MSE)\n",
    "g_thetas = der_loss_fun(X , Y , thetas)\n",
    "g_thetas = g_thetas.T\n",
    "print(\"g_thetas: \",g_thetas.shape)"
   ]
  },
  {
   "cell_type": "code",
   "execution_count": 13,
   "id": "76eac5c5",
   "metadata": {},
   "outputs": [
    {
     "data": {
      "text/plain": [
       "(4, 1)"
      ]
     },
     "execution_count": 13,
     "metadata": {},
     "output_type": "execute_result"
    }
   ],
   "source": [
    "g_thetas = der_loss_fun(X , Y , thetas)\n",
    "g_thetas = g_thetas.T\n",
    "g_thetas.shape"
   ]
  },
  {
   "cell_type": "code",
   "execution_count": 14,
   "id": "454b49cd",
   "metadata": {},
   "outputs": [
    {
     "data": {
      "text/plain": [
       "array([[-582.53413416],\n",
       "       [ -39.71310866],\n",
       "       [ -46.20737077],\n",
       "       [  -2.6291955 ]])"
      ]
     },
     "execution_count": 14,
     "metadata": {},
     "output_type": "execute_result"
    }
   ],
   "source": [
    "n_thetas = gradient_descent(alpha , thetas , g_thetas)\n",
    "n_thetas"
   ]
  },
  {
   "cell_type": "code",
   "execution_count": 15,
   "id": "19e6ddcc",
   "metadata": {},
   "outputs": [
    {
     "name": "stdout",
     "output_type": "stream",
     "text": [
      "10245565150.439655\n",
      "258935092657.69717\n",
      "6545610952253.798\n",
      "165467377974489.9\n",
      "4182872848598500.5\n",
      "1.0573942473738139e+17\n",
      "2.6730016307310454e+18\n",
      "6.757118015031627e+19\n",
      "1.7081412650160984e+21\n",
      "4.318034071271364e+22\n",
      "1.0915618410801993e+24\n",
      "2.7593743662878932e+25\n",
      "6.975460855055013e+26\n",
      "1.7633364553524422e+28\n",
      "4.4575627609201046e+29\n",
      "1.126833492679661e+31\n",
      "2.8485380651433593e+32\n",
      "7.200859010034225e+33\n",
      "1.820315168573373e+35\n",
      "4.6016000428851093e+36\n",
      "1.163244877604102e+38\n",
      "2.940582911729526e+39\n",
      "7.433540458450766e+40\n",
      "1.8791350356764578e+42\n",
      "4.750291603367011e+43\n",
      "1.2008328240708885e+45\n",
      "3.035602004609516e+46\n",
      "7.67374054545776e+47\n",
      "1.939855549890413e+49\n",
      "4.903787836126482e+50\n",
      "1.2396353503280457e+52\n",
      "3.1336914506415056e+53\n",
      "7.921702220919224e+54\n",
      "2.0025381268494114e+56\n",
      "5.062243994599709e+57\n",
      "1.279691703107727e+59\n",
      "3.234950462185786e+60\n",
      "8.177676285141211e+61\n",
      "2.06724616671179e+63\n",
      "5.225820348929106e+64\n",
      "1.3210423973222382e+66\n",
      "3.339481457452914e+67\n",
      "8.441921642543259e+68\n",
      "2.1340451182860062e+70\n",
      "5.394682348068237e+71\n",
      "1.3637292570427598e+73\n",
      "3.4473901640943717e+74\n",
      "8.714705563526664e+75\n",
      "2.203002545228692e+77\n",
      "5.569000787124808e+78\n",
      "1.4077954578022153e+80\n",
      "3.5587857261405922e+81\n",
      "8.996303954804612e+82\n",
      "2.274188194381776e+84\n",
      "5.748951980110993e+85\n",
      "1.4532855702650726e+87\n",
      "3.673780814394453e+88\n",
      "9.287001638467415e+89\n",
      "2.347674066317773e+91\n",
      "5.934717938275903e+92\n",
      "1.5002456053082444e+94\n",
      "3.792491740391899e+95\n",
      "9.587092640065175e+96\n",
      "2.4235344881646067e+98\n",
      "6.12648655420039e+99\n",
      "1.5487230605586853e+101\n",
      "3.9150385740450085e+102\n",
      "9.896880485999306e+103\n",
      "2.5018461887836264e+105\n",
      "6.324451791840703e+106\n",
      "1.5987669684347796e+108\n",
      "4.041545265086456e+109\n",
      "1.021667851052371e+111\n",
      "2.5826883763768553e+112\n",
      "6.528813882712837e+113\n",
      "1.6504279457400635e+115\n",
      "4.1721397684381984e+116\n",
      "1.0546810172665998e+118\n",
      "2.6661428186019498e+119\n",
      "6.739779528416338e+120\n",
      "1.703758244859491e+122\n",
      "4.306954173631211e+123\n",
      "1.0887609383389428e+125\n",
      "2.752293925275919e+126\n",
      "6.957562109702095e+127\n",
      "1.7588118066099853e+129\n",
      "4.446124838407132e+130\n",
      "1.1239420843326405e+132\n",
      "2.8412288337512593e+133\n",
      "7.182381902295946e+134\n",
      "1.8156443147987787e+136\n",
      "4.589792526637068e+137\n",
      "1.1602600391425323e+139\n",
      "2.9330374970508536e+140\n",
      "7.414466299696059e+141\n",
      "1.8743132525446685e+143\n",
      "4.738102550696852e+144\n",
      "1.1977515364862942e+146\n",
      "3.027812774850739e+147\n",
      "7.654050043169551e+148\n"
     ]
    }
   ],
   "source": [
    "# Finding gradient descent in a loop \n",
    "for i in range(100):\n",
    "    y_pred = hypothesis(X , n_thetas)\n",
    "    g_thetas = der_loss_fun(X , Y , n_thetas)\n",
    "    g_thetas = g_thetas.T\n",
    "    n_thetas = gradient_descent (alpha , n_thetas , g_thetas)\n",
    "    print(loss_fun(Y , y_pred))"
   ]
  },
  {
   "cell_type": "code",
   "execution_count": 16,
   "id": "18da031e",
   "metadata": {},
   "outputs": [
    {
     "name": "stdout",
     "output_type": "stream",
     "text": [
      "[[9.41034181e+76]\n",
      " [1.16123904e+76]\n",
      " [1.53927734e+76]\n",
      " [4.83694180e+74]]\n"
     ]
    }
   ],
   "source": [
    "print(g_thetas)  # final thetas"
   ]
  },
  {
   "cell_type": "markdown",
   "id": "952d3962",
   "metadata": {},
   "source": [
    "By looking at the inital thetas and final thetas we can see the linear relationship between features and outputs"
   ]
  },
  {
   "cell_type": "markdown",
   "id": "8c0aac92",
   "metadata": {},
   "source": [
    "## Task 2\n",
    "## Write a code that finds out the relationship between two linear arrays"
   ]
  },
  {
   "cell_type": "code",
   "execution_count": 18,
   "id": "052abcd7",
   "metadata": {},
   "outputs": [],
   "source": [
    "X = np.array([[1,2,3,4,5] , [1,1,1,1,1]]).T\n",
    "Y = np.array([[3],[5],[7],[9],[11]])\n",
    "n_thetas = np.array([[10] , [1]])\n",
    "thetas = n_thetas\n",
    "alpha = 0.08"
   ]
  },
  {
   "cell_type": "code",
   "execution_count": 22,
   "id": "bf46ebc3",
   "metadata": {},
   "outputs": [
    {
     "name": "stdout",
     "output_type": "stream",
     "text": [
      "0.0032012587154832276\n",
      "0.0030304119632972816\n",
      "0.002868685360626619\n",
      "0.002715591590299211\n",
      "0.002570669468149646\n",
      "0.002433482522544196\n",
      "0.002303617654959978\n",
      "0.002180683876228796\n",
      "0.002064311113557927\n",
      "0.0019541490838762684\n",
      "0.0018498662294253025\n",
      "0.0017511487118442484\n",
      "0.001657699461284009\n",
      "0.0015692372773406\n",
      "0.0014854959788240653\n",
      "0.0014062235995834786\n",
      "0.001331181627791238\n",
      "0.0012601442862571028\n",
      "0.0011928978514944956\n",
      "0.0011292400094003463\n",
      "0.0010689792455390271\n",
      "0.0010119342681389407\n",
      "0.0009579334620204285\n",
      "0.000906814371775765\n",
      "0.0008584232126182071\n",
      "0.0008126144074046378\n",
      "0.0007692501484214684\n",
      "0.0007281999826004049\n",
      "0.0006893404189045667\n",
      "0.0006525545566950392\n",
      "0.000617731733951751\n",
      "0.0005847671942851643\n",
      "0.0005535617717320773\n",
      "0.0005240215923832013\n",
      "0.0004960577919427018\n",
      "0.00046958624836704115\n",
      "0.00044452732877703273\n",
      "0.00042080564988053866\n",
      "0.00039834985118344777\n",
      "0.0003770923803061784\n",
      "0.0003569692897587051\n",
      "0.0003379200445624973\n",
      "0.00031988734013985284\n",
      "0.00030281692992272744\n",
      "0.00028665746216183214\n",
      "0.00027136032544503453\n",
      "0.0002568795024600919\n",
      "0.00024317143156170432\n",
      "0.00023019487572623152\n",
      "0.00021791079849972118\n",
      "0.00020628224656623495\n",
      "0.00019527423858279987\n",
      "0.0001848536599467906\n",
      "0.0001749891631791528\n",
      "0.00016565107362342304\n",
      "0.00015681130017726325\n",
      "0.00014844325078775824\n",
      "0.0001405217524561868\n",
      "0.0001330229755116873\n",
      "0.00012592436192610998\n",
      "0.00011920455745411575\n",
      "0.00011284334739472344\n",
      "0.00010682159578078866\n",
      "0.00010112118781355691\n",
      "9.572497536926648e-05\n",
      "9.061672541356028e-05\n",
      "8.578107116885691e-05\n",
      "8.120346588754339e-05\n",
      "7.687013909202527e-05\n",
      "7.27680551499964e-05\n",
      "6.888487406026203e-05\n",
      "6.520891433121383e-05\n",
      "6.172911784024958e-05\n",
      "5.8435016568379554e-05\n",
      "5.531670111009328e-05\n",
      "5.236479086356906e-05\n",
      "4.957040581170042e-05\n",
      "4.692513980899403e-05\n",
      "4.4421035293963356e-05\n",
      "4.2050559350965955e-05\n",
      "3.980658104947799e-05\n",
      "3.768234999266732e-05\n",
      "3.5671476010621285e-05\n",
      "3.3767909937268746e-05\n",
      "3.196592541314259e-05\n",
      "3.0260101659164873e-05\n",
      "2.864530716970309e-05\n",
      "2.7116684275859532e-05\n",
      "2.566963453247785e-05\n",
      "2.429980488498434e-05\n",
      "2.3003074574410456e-05\n",
      "2.177554274120744e-05\n",
      "2.0613516690579747e-05\n",
      "1.951350078401429e-05\n",
      "1.8472185923604073e-05\n",
      "1.7486439597546388e-05\n",
      "1.6553296456802733e-05\n",
      "1.566994939468889e-05\n",
      "1.4833741102434324e-05\n",
      "1.4042156075416072e-05\n"
     ]
    }
   ],
   "source": [
    "for i in range(100):\n",
    "    y_pred = hypothesis(X , n_thetas)\n",
    "    g_thetas = der_loss_fun(X , Y , n_thetas)\n",
    "    g_thetas = g_thetas.T\n",
    "    n_thetas = gradient_descent (alpha , n_thetas , g_thetas)\n",
    "    print(loss_fun(Y , y_pred))"
   ]
  },
  {
   "cell_type": "code",
   "execution_count": 23,
   "id": "07756cfc",
   "metadata": {
    "scrolled": true
   },
   "outputs": [
    {
     "data": {
      "text/plain": [
       "array([[2.00236705],\n",
       "       [0.99145422]])"
      ]
     },
     "execution_count": 23,
     "metadata": {},
     "output_type": "execute_result"
    }
   ],
   "source": [
    "n_thetas # Final"
   ]
  },
  {
   "cell_type": "markdown",
   "id": "58f0e3f7",
   "metadata": {},
   "source": [
    "Q- Is linear regression good for classification? If yes, then why, and if no, then why?\n",
    "\n",
    "A- Linear regression is not suitable because it only works for continuos values whereas classification problems mandate discrete values. "
   ]
  },
  {
   "cell_type": "markdown",
   "id": "afdd0f45",
   "metadata": {},
   "source": [
    "Q- Why do we use mse (mean squared error) over squared error? What is the benefit of mse?\n",
    "\n",
    "A- MSE calculates the average squared difference between the observed and predicted values, if we only took squared error it would increase w.r.t to the number of examples rather than telling us what the overall loss is. It's benefit is that its graph is a parabola so the minimum point has only one gradient. When a model has no error, the MSE equals zero. As model error increases, its value increases."
   ]
  },
  {
   "cell_type": "markdown",
   "id": "ead3b78a",
   "metadata": {},
   "source": [
    "Q- Can you find a better estimator than mse?\n",
    "\n",
    "A- MSE is a function of the parameter, there is not one \"best\" estimator, rather which estimator works best is situational."
   ]
  },
  {
   "cell_type": "code",
   "execution_count": null,
   "id": "c768d943",
   "metadata": {},
   "outputs": [],
   "source": []
  }
 ],
 "metadata": {
  "kernelspec": {
   "display_name": "Python 3",
   "language": "python",
   "name": "python3"
  },
  "language_info": {
   "codemirror_mode": {
    "name": "ipython",
    "version": 3
   },
   "file_extension": ".py",
   "mimetype": "text/x-python",
   "name": "python",
   "nbconvert_exporter": "python",
   "pygments_lexer": "ipython3",
   "version": "3.8.8"
  }
 },
 "nbformat": 4,
 "nbformat_minor": 5
}
