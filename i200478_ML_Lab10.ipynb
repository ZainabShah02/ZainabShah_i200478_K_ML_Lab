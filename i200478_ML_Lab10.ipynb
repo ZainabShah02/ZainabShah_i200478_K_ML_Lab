{
 "cells": [
  {
   "cell_type": "markdown",
   "id": "eae7df67",
   "metadata": {},
   "source": [
    "Task 1: \n",
    "Create a numpy array of int, characters, float and find their shapes"
   ]
  },
  {
   "cell_type": "code",
   "execution_count": 11,
   "id": "47186252",
   "metadata": {},
   "outputs": [
    {
     "name": "stdout",
     "output_type": "stream",
     "text": [
      "Integer Array:\n",
      " [ 6 45 12 35 27 14  8 14  9  0]\n",
      "Shape of Integer Array:  (10,)\n",
      "Character Array:\n",
      " ['a' 'b' 'c' 'd']\n",
      "Shape of Character Array :  (4,)\n",
      "Float Array:\n",
      " [[0.85419236 0.72271308]\n",
      " [0.54538045 0.74602798]\n",
      " [0.2364607  0.0080223 ]\n",
      " [0.66635628 0.3929054 ]\n",
      " [0.30854144 0.10142369]]\n",
      "Shape of Float Array :  (5, 2)\n"
     ]
    }
   ],
   "source": [
    "# integer array\n",
    "import numpy as np \n",
    "array= np.random.randint(0,50,10) # array of size 10 range 0-50\n",
    "print(\"Integer Array:\\n\", array)\n",
    "print(\"Shape of Integer Array: \",np.shape(array))\n",
    "\n",
    "# character array \n",
    "array = np.array(['a','b' ,'c', 'd'])\n",
    "print(\"Character Array:\\n\", array)\n",
    "print(\"Shape of Character Array : \",np.shape(array))\n",
    "\n",
    "# float array \n",
    "array = np.random.rand(5, 2)\n",
    "print(\"Float Array:\\n\", array)\n",
    "print(\"Shape of Float Array : \",np.shape(array))\n",
    "\n",
    "\n"
   ]
  },
  {
   "cell_type": "markdown",
   "id": "a845c5d9",
   "metadata": {},
   "source": [
    "Task 2:\n",
    "Create a zeros, empty, identity , eye and a full array"
   ]
  },
  {
   "cell_type": "code",
   "execution_count": 15,
   "id": "91ff9f04",
   "metadata": {},
   "outputs": [
    {
     "name": "stdout",
     "output_type": "stream",
     "text": [
      "Zero Array: \n",
      " [[0 0 0]\n",
      " [0 0 0]]\n",
      "Empty Array: \n",
      " [[0 0 0]\n",
      " [0 0 0]]\n",
      "Identity Array: \n",
      " [[1 0]\n",
      " [0 1]]\n",
      "Eye Array: \n",
      " [[0 0 0 1 0 0 0 0 0]\n",
      " [0 0 0 0 1 0 0 0 0]\n",
      " [0 0 0 0 0 1 0 0 0]\n",
      " [0 0 0 0 0 0 1 0 0]\n",
      " [0 0 0 0 0 0 0 1 0]\n",
      " [0 0 0 0 0 0 0 0 1]\n",
      " [0 0 0 0 0 0 0 0 0]\n",
      " [0 0 0 0 0 0 0 0 0]\n",
      " [0 0 0 0 0 0 0 0 0]]\n",
      "Full Array: \n",
      " [[11 11]\n",
      " [11 11]\n",
      " [11 11]\n",
      " [11 11]]\n"
     ]
    }
   ],
   "source": [
    "arr = np.zeros((2,3), dtype=int)\n",
    "print(\"Zero Array: \\n\", arr)\n",
    "\n",
    "arr = np.empty((2,3), dtype = int)\n",
    "print(\"Empty Array: \\n\", arr)\n",
    "\n",
    "arr = np.identity(2, dtype = int)\n",
    "print(\"Identity Array: \\n\", arr)\n",
    "\n",
    "arr = np.eye(9,k = 3, dtype = int) #k is the diagnol\n",
    "print(\"Eye Array: \\n\", arr)\n",
    "\n",
    "arr = np.full([4, 2],11, dtype = int)\n",
    "print(\"Full Array: \\n\", arr)"
   ]
  },
  {
   "cell_type": "markdown",
   "id": "62fce23f",
   "metadata": {},
   "source": [
    "Task 3:\n",
    "Declare an array having the datatype of object, is it possible?\n"
   ]
  },
  {
   "cell_type": "code",
   "execution_count": 19,
   "id": "5b566e7d",
   "metadata": {},
   "outputs": [
    {
     "data": {
      "text/plain": [
       "array([[None, None, None],\n",
       "       [None, None, None],\n",
       "       [None, None, None]], dtype=object)"
      ]
     },
     "execution_count": 19,
     "metadata": {},
     "output_type": "execute_result"
    }
   ],
   "source": [
    "arr = np.empty((3,3), dtype = object) \n",
    "arr"
   ]
  },
  {
   "cell_type": "markdown",
   "id": "308f0e27",
   "metadata": {},
   "source": [
    "Task 4:\n",
    "Create an array having 5 equally spaced numbers ranging from 5 to 15\n"
   ]
  },
  {
   "cell_type": "code",
   "execution_count": 20,
   "id": "531fcd9a",
   "metadata": {},
   "outputs": [
    {
     "data": {
      "text/plain": [
       "array([ 5,  7, 10, 12, 15])"
      ]
     },
     "execution_count": 20,
     "metadata": {},
     "output_type": "execute_result"
    }
   ],
   "source": [
    "arr = np.linspace(5, 15, num = 5, dtype = int)\n",
    "arr"
   ]
  },
  {
   "cell_type": "markdown",
   "id": "ee7493fd",
   "metadata": {},
   "source": [
    "Task 5:\n",
    "Create a numpy array ranging from 1 to 100."
   ]
  },
  {
   "cell_type": "code",
   "execution_count": 21,
   "id": "9dfa29e5",
   "metadata": {},
   "outputs": [
    {
     "data": {
      "text/plain": [
       "array([  1,   2,   3,   4,   5,   6,   7,   8,   9,  10,  11,  12,  13,\n",
       "        14,  15,  16,  17,  18,  19,  20,  21,  22,  23,  24,  25,  26,\n",
       "        27,  28,  29,  30,  31,  32,  33,  34,  35,  36,  37,  38,  39,\n",
       "        40,  41,  42,  43,  44,  45,  46,  47,  48,  49,  50,  51,  52,\n",
       "        53,  54,  55,  56,  57,  58,  59,  60,  61,  62,  63,  64,  65,\n",
       "        66,  67,  68,  69,  70,  71,  72,  73,  74,  75,  76,  77,  78,\n",
       "        79,  80,  81,  82,  83,  84,  85,  86,  87,  88,  89,  90,  91,\n",
       "        92,  93,  94,  95,  96,  97,  98,  99, 100])"
      ]
     },
     "execution_count": 21,
     "metadata": {},
     "output_type": "execute_result"
    }
   ],
   "source": [
    "arr = np.arange(1,101, dtype= int)\n",
    "arr"
   ]
  },
  {
   "cell_type": "markdown",
   "id": "7128deb1",
   "metadata": {},
   "source": [
    "Task 6: \n",
    "Reshape the above array into (100,15). Is it possible?"
   ]
  },
  {
   "cell_type": "code",
   "execution_count": 24,
   "id": "8f2c2783",
   "metadata": {},
   "outputs": [],
   "source": [
    "#arr = arr.reshape(100, 15)"
   ]
  },
  {
   "cell_type": "markdown",
   "id": "641ff876",
   "metadata": {},
   "source": [
    "It is not possible"
   ]
  },
  {
   "cell_type": "markdown",
   "id": "b4893c38",
   "metadata": {},
   "source": [
    "Task 7: \n",
    "Reshape the array into (100,10)."
   ]
  },
  {
   "cell_type": "code",
   "execution_count": 25,
   "id": "1903b4d5",
   "metadata": {},
   "outputs": [],
   "source": [
    "#arr = arr.reshape(100, 10)"
   ]
  },
  {
   "cell_type": "markdown",
   "id": "809100b9",
   "metadata": {},
   "source": [
    "It is not possible "
   ]
  },
  {
   "cell_type": "markdown",
   "id": "8e5b8c80",
   "metadata": {},
   "source": [
    "Task 8:\n",
    "Flatten and ravel the reshaped array. What is the difference?"
   ]
  },
  {
   "cell_type": "code",
   "execution_count": 27,
   "id": "7e4bf345",
   "metadata": {},
   "outputs": [
    {
     "name": "stdout",
     "output_type": "stream",
     "text": [
      "Reshape Array: \n",
      " [[  1   2]\n",
      " [  3   4]\n",
      " [  5   6]\n",
      " [  7   8]\n",
      " [  9  10]\n",
      " [ 11  12]\n",
      " [ 13  14]\n",
      " [ 15  16]\n",
      " [ 17  18]\n",
      " [ 19  20]\n",
      " [ 21  22]\n",
      " [ 23  24]\n",
      " [ 25  26]\n",
      " [ 27  28]\n",
      " [ 29  30]\n",
      " [ 31  32]\n",
      " [ 33  34]\n",
      " [ 35  36]\n",
      " [ 37  38]\n",
      " [ 39  40]\n",
      " [ 41  42]\n",
      " [ 43  44]\n",
      " [ 45  46]\n",
      " [ 47  48]\n",
      " [ 49  50]\n",
      " [ 51  52]\n",
      " [ 53  54]\n",
      " [ 55  56]\n",
      " [ 57  58]\n",
      " [ 59  60]\n",
      " [ 61  62]\n",
      " [ 63  64]\n",
      " [ 65  66]\n",
      " [ 67  68]\n",
      " [ 69  70]\n",
      " [ 71  72]\n",
      " [ 73  74]\n",
      " [ 75  76]\n",
      " [ 77  78]\n",
      " [ 79  80]\n",
      " [ 81  82]\n",
      " [ 83  84]\n",
      " [ 85  86]\n",
      " [ 87  88]\n",
      " [ 89  90]\n",
      " [ 91  92]\n",
      " [ 93  94]\n",
      " [ 95  96]\n",
      " [ 97  98]\n",
      " [ 99 100]]\n",
      "Flatten Array: \n",
      " [  1   2   3   4   5   6   7   8   9  10  11  12  13  14  15  16  17  18\n",
      "  19  20  21  22  23  24  25  26  27  28  29  30  31  32  33  34  35  36\n",
      "  37  38  39  40  41  42  43  44  45  46  47  48  49  50  51  52  53  54\n",
      "  55  56  57  58  59  60  61  62  63  64  65  66  67  68  69  70  71  72\n",
      "  73  74  75  76  77  78  79  80  81  82  83  84  85  86  87  88  89  90\n",
      "  91  92  93  94  95  96  97  98  99 100]\n",
      "Ravel Array: \n",
      " [  1   2   3   4   5   6   7   8   9  10  11  12  13  14  15  16  17  18\n",
      "  19  20  21  22  23  24  25  26  27  28  29  30  31  32  33  34  35  36\n",
      "  37  38  39  40  41  42  43  44  45  46  47  48  49  50  51  52  53  54\n",
      "  55  56  57  58  59  60  61  62  63  64  65  66  67  68  69  70  71  72\n",
      "  73  74  75  76  77  78  79  80  81  82  83  84  85  86  87  88  89  90\n",
      "  91  92  93  94  95  96  97  98  99 100]\n"
     ]
    }
   ],
   "source": [
    "arr = np.reshape(arr, (50,-1))\n",
    "print(\"Reshape Array: \\n\", arr)\n",
    "arr = arr.flatten()\n",
    "print(\"Flatten Array: \\n\", arr)\n",
    "arr = np.ravel(arr) \n",
    "print(\"Ravel Array: \\n\", arr)\n",
    "\n",
    "## order: C COLUMN WISE AND F ROW WISE"
   ]
  },
  {
   "cell_type": "markdown",
   "id": "e107a432",
   "metadata": {},
   "source": [
    "Task 9: \n",
    "Take an array [[1 2 3] [4 5 6] [ 7 8 9]]. Sum it along 0 and 1 axis\n"
   ]
  },
  {
   "cell_type": "code",
   "execution_count": 28,
   "id": "69cb2b76",
   "metadata": {},
   "outputs": [
    {
     "name": "stdout",
     "output_type": "stream",
     "text": [
      "Along 0 Axis:\n",
      " [12 15 18]\n",
      "Along 1 Axis: \n",
      " [ 6 15 24]\n"
     ]
    }
   ],
   "source": [
    "arr = [[1,2,3],[4,5,6],[7,8,9]]\n",
    "arr0 = np.sum(arr, axis = 0)\n",
    "print(\"Along 0 Axis:\\n\", arr0)\n",
    "arr1 = np.sum(arr, axis = 1)\n",
    "print(\"Along 1 Axis: \\n\", arr1)"
   ]
  },
  {
   "cell_type": "markdown",
   "id": "c91b37c0",
   "metadata": {},
   "source": [
    "Task 10: \n",
    "Find the number of bytes used by your array"
   ]
  },
  {
   "cell_type": "code",
   "execution_count": 29,
   "id": "4bb79378",
   "metadata": {},
   "outputs": [
    {
     "name": "stdout",
     "output_type": "stream",
     "text": [
      "400\n"
     ]
    }
   ],
   "source": [
    "arr = np.arange(1, 101)\n",
    "print(arr.nbytes)"
   ]
  },
  {
   "cell_type": "markdown",
   "id": "14d864ef",
   "metadata": {},
   "source": [
    "Task 11:\n",
    "Find the maximum and minimum values in a 1D array."
   ]
  },
  {
   "cell_type": "code",
   "execution_count": 30,
   "id": "c9b14060",
   "metadata": {},
   "outputs": [
    {
     "name": "stdout",
     "output_type": "stream",
     "text": [
      "100\n",
      "1\n"
     ]
    }
   ],
   "source": [
    "maxA = arr.max()\n",
    "print(maxA)\n",
    "minA = arr.min()\n",
    "print(minA)"
   ]
  },
  {
   "cell_type": "markdown",
   "id": "8179d72d",
   "metadata": {},
   "source": [
    "Task 12:\n",
    "Find the maximum and minimum values in 2D array"
   ]
  },
  {
   "cell_type": "code",
   "execution_count": 33,
   "id": "066084fc",
   "metadata": {},
   "outputs": [
    {
     "name": "stdout",
     "output_type": "stream",
     "text": [
      "13\n",
      "1\n"
     ]
    }
   ],
   "source": [
    "arr = np.array([[4,7,1],[2,13,9]])\n",
    "maxA = arr.max()\n",
    "minA = arr.min()\n",
    "print(maxA)\n",
    "print(minA)"
   ]
  },
  {
   "cell_type": "markdown",
   "id": "e4ee7a86",
   "metadata": {},
   "source": [
    "Task 13:\n",
    "Sort an array"
   ]
  },
  {
   "cell_type": "code",
   "execution_count": 34,
   "id": "b0afdce6",
   "metadata": {},
   "outputs": [
    {
     "name": "stdout",
     "output_type": "stream",
     "text": [
      "[[ 1  4  7]\n",
      " [ 2  9 13]]\n"
     ]
    }
   ],
   "source": [
    "arr = np.sort(arr)\n",
    "print(arr)"
   ]
  },
  {
   "cell_type": "markdown",
   "id": "ca6b1fc5",
   "metadata": {},
   "source": [
    "Task 14:\n",
    "Is * and mul the same as dot product for numpy arrays and matrices? Check."
   ]
  },
  {
   "cell_type": "code",
   "execution_count": 42,
   "id": "b2bfc6d2",
   "metadata": {},
   "outputs": [
    {
     "name": "stdout",
     "output_type": "stream",
     "text": [
      "[ 1  4  9 16 25 36]\n",
      "91\n",
      "91\n"
     ]
    }
   ],
   "source": [
    "array1 = np.array([1,2,3,4,5,6])\n",
    "array2 = np.array([1,2,3,4,5,6])\n",
    "print(array1 * array2)\n",
    "print(np.multiply(array1, array2).sum())\n",
    "print(np.dot(array1, array2))"
   ]
  },
  {
   "cell_type": "markdown",
   "id": "6a7ee04c",
   "metadata": {},
   "source": [
    "Task 15:\n",
    "Take the square root and norm of an array."
   ]
  },
  {
   "cell_type": "code",
   "execution_count": 36,
   "id": "b7e7d340",
   "metadata": {},
   "outputs": [
    {
     "name": "stdout",
     "output_type": "stream",
     "text": [
      "91\n"
     ]
    }
   ],
   "source": [
    "array1 = np.matrix([[1,2,3],[4,5,6]])\n",
    "array2 = np.matrix([[1,2,3],[4,5,6]])\n",
    "print(np.multiply(array1, array2).sum())"
   ]
  },
  {
   "cell_type": "markdown",
   "id": "12f581ea",
   "metadata": {},
   "source": [
    "Task 16:\n",
    "Find the std, non-zero, zero values and mean of an array."
   ]
  },
  {
   "cell_type": "code",
   "execution_count": 37,
   "id": "b3981fe1",
   "metadata": {},
   "outputs": [
    {
     "name": "stdout",
     "output_type": "stream",
     "text": [
      "2.260776661041756\n",
      "[1 2 3 4 5 6 6]\n",
      "[0 0]\n",
      "3.0\n"
     ]
    }
   ],
   "source": [
    "array1 = np.array([0,0,1,2,3,4,5,6,6])\n",
    "arr1 = np.std(array1)\n",
    "print(arr1)\n",
    "arr2 = array1[np.nonzero(array1)]\n",
    "print(arr2)\n",
    "arr3 = array1[np.nonzero(array1 == 0)]\n",
    "print(arr3)\n",
    "arr4 = np.mean(array1)\n",
    "print(arr4)"
   ]
  },
  {
   "cell_type": "markdown",
   "id": "2ed861ae",
   "metadata": {},
   "source": [
    "Task 17:\n",
    "Convert some angles to radians and vice versa."
   ]
  },
  {
   "cell_type": "code",
   "execution_count": 38,
   "id": "8f02108b",
   "metadata": {},
   "outputs": [
    {
     "name": "stdout",
     "output_type": "stream",
     "text": [
      "0.03874630939427412\n",
      "2.22\n",
      "back from degree to radian >>  0.03874630939427412\n"
     ]
    }
   ],
   "source": [
    "radian = np.radians(2.22)\n",
    "print(radian)\n",
    "degree = np.rad2deg(radian)\n",
    "print(degree)\n",
    "r2 = np.radians(degree)\n",
    "print(\"back from degree to radian >> \", r2)"
   ]
  },
  {
   "cell_type": "markdown",
   "id": "7f690070",
   "metadata": {},
   "source": [
    "Task 18:\n",
    "Save and load some of your arrays"
   ]
  },
  {
   "cell_type": "code",
   "execution_count": 39,
   "id": "308061e2",
   "metadata": {},
   "outputs": [
    {
     "name": "stdout",
     "output_type": "stream",
     "text": [
      "[1 0 1 0]\n",
      "[1. 0. 1. 0.]\n"
     ]
    }
   ],
   "source": [
    "array = np.array([1,0,1,0])\n",
    "np.savetxt('file.txt', array)\n",
    "loaded = np.loadtxt('file.txt')\n",
    "print(array)\n",
    "print(loaded)"
   ]
  },
  {
   "cell_type": "markdown",
   "id": "4f91e922",
   "metadata": {},
   "source": [
    "Task 19:\n",
    "Calculate the mean, std, var, max, min, of an array with shape (3,3,12,3) containing floats drawn from a normal distribution with mean 21 and sigma 4.5. see the np.random.normal."
   ]
  },
  {
   "cell_type": "code",
   "execution_count": 40,
   "id": "926bcccf",
   "metadata": {},
   "outputs": [
    {
     "name": "stdout",
     "output_type": "stream",
     "text": [
      "21.141898497719673\n",
      "4.6190197611526544\n",
      "21.335343553918726\n",
      "34.33874441120789\n",
      "7.928832035230224\n"
     ]
    }
   ],
   "source": [
    "a = np.random.normal(21, 4.5, (3,3,12,3))\n",
    "print(np.mean(a))\n",
    "print(np.std(a))\n",
    "print(np.var(a))\n",
    "print(np.max(a))\n",
    "print(np.min(a))"
   ]
  },
  {
   "cell_type": "code",
   "execution_count": null,
   "id": "8ccc3d73",
   "metadata": {},
   "outputs": [],
   "source": []
  }
 ],
 "metadata": {
  "kernelspec": {
   "display_name": "Python 3",
   "language": "python",
   "name": "python3"
  },
  "language_info": {
   "codemirror_mode": {
    "name": "ipython",
    "version": 3
   },
   "file_extension": ".py",
   "mimetype": "text/x-python",
   "name": "python",
   "nbconvert_exporter": "python",
   "pygments_lexer": "ipython3",
   "version": "3.8.8"
  }
 },
 "nbformat": 4,
 "nbformat_minor": 5
}
