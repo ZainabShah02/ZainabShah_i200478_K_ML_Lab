{
 "cells": [
  {
   "cell_type": "markdown",
   "id": "b1f434a7",
   "metadata": {},
   "source": [
    "##  20I-0478 \n",
    "## Zainab Shah\n",
    "## Lab 6"
   ]
  },
  {
   "cell_type": "markdown",
   "id": "00da3e73",
   "metadata": {},
   "source": [
    "### Task 1 "
   ]
  },
  {
   "cell_type": "code",
   "execution_count": 1,
   "id": "60bda012",
   "metadata": {},
   "outputs": [],
   "source": [
    "import numpy as np\n",
    "import pandas as pd "
   ]
  },
  {
   "cell_type": "code",
   "execution_count": 2,
   "id": "291e29b0",
   "metadata": {},
   "outputs": [
    {
     "data": {
      "text/html": [
       "<div>\n",
       "<style scoped>\n",
       "    .dataframe tbody tr th:only-of-type {\n",
       "        vertical-align: middle;\n",
       "    }\n",
       "\n",
       "    .dataframe tbody tr th {\n",
       "        vertical-align: top;\n",
       "    }\n",
       "\n",
       "    .dataframe thead th {\n",
       "        text-align: right;\n",
       "    }\n",
       "</style>\n",
       "<table border=\"1\" class=\"dataframe\">\n",
       "  <thead>\n",
       "    <tr style=\"text-align: right;\">\n",
       "      <th></th>\n",
       "      <th>day</th>\n",
       "      <th>outlook</th>\n",
       "      <th>temp</th>\n",
       "      <th>humidity</th>\n",
       "      <th>wind</th>\n",
       "      <th>play</th>\n",
       "    </tr>\n",
       "  </thead>\n",
       "  <tbody>\n",
       "    <tr>\n",
       "      <th>0</th>\n",
       "      <td>D1</td>\n",
       "      <td>Sunny</td>\n",
       "      <td>Hot</td>\n",
       "      <td>High</td>\n",
       "      <td>Weak</td>\n",
       "      <td>No</td>\n",
       "    </tr>\n",
       "    <tr>\n",
       "      <th>1</th>\n",
       "      <td>D2</td>\n",
       "      <td>Sunny</td>\n",
       "      <td>Hot</td>\n",
       "      <td>High</td>\n",
       "      <td>Strong</td>\n",
       "      <td>No</td>\n",
       "    </tr>\n",
       "    <tr>\n",
       "      <th>2</th>\n",
       "      <td>D3</td>\n",
       "      <td>Overcast</td>\n",
       "      <td>Hot</td>\n",
       "      <td>High</td>\n",
       "      <td>Weak</td>\n",
       "      <td>Yes</td>\n",
       "    </tr>\n",
       "    <tr>\n",
       "      <th>3</th>\n",
       "      <td>D4</td>\n",
       "      <td>Rain</td>\n",
       "      <td>Mild</td>\n",
       "      <td>High</td>\n",
       "      <td>Weak</td>\n",
       "      <td>Yes</td>\n",
       "    </tr>\n",
       "    <tr>\n",
       "      <th>4</th>\n",
       "      <td>D5</td>\n",
       "      <td>Rain</td>\n",
       "      <td>Cool</td>\n",
       "      <td>Normal</td>\n",
       "      <td>Weak</td>\n",
       "      <td>Yes</td>\n",
       "    </tr>\n",
       "    <tr>\n",
       "      <th>5</th>\n",
       "      <td>D6</td>\n",
       "      <td>Rain</td>\n",
       "      <td>Cool</td>\n",
       "      <td>Normal</td>\n",
       "      <td>Strong</td>\n",
       "      <td>No</td>\n",
       "    </tr>\n",
       "    <tr>\n",
       "      <th>6</th>\n",
       "      <td>D7</td>\n",
       "      <td>Overcast</td>\n",
       "      <td>Cool</td>\n",
       "      <td>Normal</td>\n",
       "      <td>Strong</td>\n",
       "      <td>Yes</td>\n",
       "    </tr>\n",
       "    <tr>\n",
       "      <th>7</th>\n",
       "      <td>D8</td>\n",
       "      <td>Sunny</td>\n",
       "      <td>Mild</td>\n",
       "      <td>High</td>\n",
       "      <td>Weak</td>\n",
       "      <td>No</td>\n",
       "    </tr>\n",
       "    <tr>\n",
       "      <th>8</th>\n",
       "      <td>D9</td>\n",
       "      <td>Sunny</td>\n",
       "      <td>Cool</td>\n",
       "      <td>Normal</td>\n",
       "      <td>Weak</td>\n",
       "      <td>Yes</td>\n",
       "    </tr>\n",
       "    <tr>\n",
       "      <th>9</th>\n",
       "      <td>D10</td>\n",
       "      <td>Rain</td>\n",
       "      <td>Mild</td>\n",
       "      <td>Normal</td>\n",
       "      <td>Weak</td>\n",
       "      <td>Yes</td>\n",
       "    </tr>\n",
       "    <tr>\n",
       "      <th>10</th>\n",
       "      <td>D11</td>\n",
       "      <td>Sunny</td>\n",
       "      <td>Mild</td>\n",
       "      <td>Normal</td>\n",
       "      <td>Strong</td>\n",
       "      <td>Yes</td>\n",
       "    </tr>\n",
       "    <tr>\n",
       "      <th>11</th>\n",
       "      <td>D12</td>\n",
       "      <td>Overcast</td>\n",
       "      <td>Mild</td>\n",
       "      <td>High</td>\n",
       "      <td>Strong</td>\n",
       "      <td>Yes</td>\n",
       "    </tr>\n",
       "    <tr>\n",
       "      <th>12</th>\n",
       "      <td>D13</td>\n",
       "      <td>Overcast</td>\n",
       "      <td>Hot</td>\n",
       "      <td>Normal</td>\n",
       "      <td>Weak</td>\n",
       "      <td>Yes</td>\n",
       "    </tr>\n",
       "    <tr>\n",
       "      <th>13</th>\n",
       "      <td>D14</td>\n",
       "      <td>Rain</td>\n",
       "      <td>Mild</td>\n",
       "      <td>High</td>\n",
       "      <td>Strong</td>\n",
       "      <td>No</td>\n",
       "    </tr>\n",
       "  </tbody>\n",
       "</table>\n",
       "</div>"
      ],
      "text/plain": [
       "    day   outlook  temp humidity    wind play\n",
       "0    D1     Sunny   Hot     High    Weak   No\n",
       "1    D2     Sunny   Hot     High  Strong   No\n",
       "2    D3  Overcast   Hot     High    Weak  Yes\n",
       "3    D4      Rain  Mild     High    Weak  Yes\n",
       "4    D5      Rain  Cool   Normal    Weak  Yes\n",
       "5    D6      Rain  Cool   Normal  Strong   No\n",
       "6    D7  Overcast  Cool   Normal  Strong  Yes\n",
       "7    D8     Sunny  Mild     High    Weak   No\n",
       "8    D9     Sunny  Cool   Normal    Weak  Yes\n",
       "9   D10      Rain  Mild   Normal    Weak  Yes\n",
       "10  D11     Sunny  Mild   Normal  Strong  Yes\n",
       "11  D12  Overcast  Mild     High  Strong  Yes\n",
       "12  D13  Overcast   Hot   Normal    Weak  Yes\n",
       "13  D14      Rain  Mild     High  Strong   No"
      ]
     },
     "execution_count": 2,
     "metadata": {},
     "output_type": "execute_result"
    }
   ],
   "source": [
    "df = pd.read_csv('play_tennis.csv')\n",
    "df"
   ]
  },
  {
   "cell_type": "code",
   "execution_count": 5,
   "id": "73df9412",
   "metadata": {},
   "outputs": [
    {
     "data": {
      "text/plain": [
       "day         14\n",
       "outlook      3\n",
       "temp         3\n",
       "humidity     2\n",
       "wind         2\n",
       "play         2\n",
       "dtype: int64"
      ]
     },
     "execution_count": 5,
     "metadata": {},
     "output_type": "execute_result"
    }
   ],
   "source": [
    "df.nunique()"
   ]
  },
  {
   "cell_type": "code",
   "execution_count": 6,
   "id": "4b5622c5",
   "metadata": {},
   "outputs": [],
   "source": [
    "df.drop(['day'], axis=1, inplace = True)"
   ]
  },
  {
   "cell_type": "code",
   "execution_count": 9,
   "id": "bc060cfc",
   "metadata": {},
   "outputs": [
    {
     "data": {
      "text/html": [
       "<div>\n",
       "<style scoped>\n",
       "    .dataframe tbody tr th:only-of-type {\n",
       "        vertical-align: middle;\n",
       "    }\n",
       "\n",
       "    .dataframe tbody tr th {\n",
       "        vertical-align: top;\n",
       "    }\n",
       "\n",
       "    .dataframe thead th {\n",
       "        text-align: right;\n",
       "    }\n",
       "</style>\n",
       "<table border=\"1\" class=\"dataframe\">\n",
       "  <thead>\n",
       "    <tr style=\"text-align: right;\">\n",
       "      <th></th>\n",
       "      <th>outlook</th>\n",
       "      <th>temp</th>\n",
       "      <th>humidity</th>\n",
       "      <th>wind</th>\n",
       "      <th>play</th>\n",
       "    </tr>\n",
       "  </thead>\n",
       "  <tbody>\n",
       "    <tr>\n",
       "      <th>0</th>\n",
       "      <td>Sunny</td>\n",
       "      <td>Hot</td>\n",
       "      <td>High</td>\n",
       "      <td>Weak</td>\n",
       "      <td>No</td>\n",
       "    </tr>\n",
       "    <tr>\n",
       "      <th>1</th>\n",
       "      <td>Sunny</td>\n",
       "      <td>Hot</td>\n",
       "      <td>High</td>\n",
       "      <td>Strong</td>\n",
       "      <td>No</td>\n",
       "    </tr>\n",
       "    <tr>\n",
       "      <th>2</th>\n",
       "      <td>Overcast</td>\n",
       "      <td>Hot</td>\n",
       "      <td>High</td>\n",
       "      <td>Weak</td>\n",
       "      <td>Yes</td>\n",
       "    </tr>\n",
       "    <tr>\n",
       "      <th>3</th>\n",
       "      <td>Rain</td>\n",
       "      <td>Mild</td>\n",
       "      <td>High</td>\n",
       "      <td>Weak</td>\n",
       "      <td>Yes</td>\n",
       "    </tr>\n",
       "    <tr>\n",
       "      <th>4</th>\n",
       "      <td>Rain</td>\n",
       "      <td>Cool</td>\n",
       "      <td>Normal</td>\n",
       "      <td>Weak</td>\n",
       "      <td>Yes</td>\n",
       "    </tr>\n",
       "    <tr>\n",
       "      <th>5</th>\n",
       "      <td>Rain</td>\n",
       "      <td>Cool</td>\n",
       "      <td>Normal</td>\n",
       "      <td>Strong</td>\n",
       "      <td>No</td>\n",
       "    </tr>\n",
       "    <tr>\n",
       "      <th>6</th>\n",
       "      <td>Overcast</td>\n",
       "      <td>Cool</td>\n",
       "      <td>Normal</td>\n",
       "      <td>Strong</td>\n",
       "      <td>Yes</td>\n",
       "    </tr>\n",
       "    <tr>\n",
       "      <th>7</th>\n",
       "      <td>Sunny</td>\n",
       "      <td>Mild</td>\n",
       "      <td>High</td>\n",
       "      <td>Weak</td>\n",
       "      <td>No</td>\n",
       "    </tr>\n",
       "    <tr>\n",
       "      <th>8</th>\n",
       "      <td>Sunny</td>\n",
       "      <td>Cool</td>\n",
       "      <td>Normal</td>\n",
       "      <td>Weak</td>\n",
       "      <td>Yes</td>\n",
       "    </tr>\n",
       "    <tr>\n",
       "      <th>9</th>\n",
       "      <td>Rain</td>\n",
       "      <td>Mild</td>\n",
       "      <td>Normal</td>\n",
       "      <td>Weak</td>\n",
       "      <td>Yes</td>\n",
       "    </tr>\n",
       "    <tr>\n",
       "      <th>10</th>\n",
       "      <td>Sunny</td>\n",
       "      <td>Mild</td>\n",
       "      <td>Normal</td>\n",
       "      <td>Strong</td>\n",
       "      <td>Yes</td>\n",
       "    </tr>\n",
       "    <tr>\n",
       "      <th>11</th>\n",
       "      <td>Overcast</td>\n",
       "      <td>Mild</td>\n",
       "      <td>High</td>\n",
       "      <td>Strong</td>\n",
       "      <td>Yes</td>\n",
       "    </tr>\n",
       "    <tr>\n",
       "      <th>12</th>\n",
       "      <td>Overcast</td>\n",
       "      <td>Hot</td>\n",
       "      <td>Normal</td>\n",
       "      <td>Weak</td>\n",
       "      <td>Yes</td>\n",
       "    </tr>\n",
       "    <tr>\n",
       "      <th>13</th>\n",
       "      <td>Rain</td>\n",
       "      <td>Mild</td>\n",
       "      <td>High</td>\n",
       "      <td>Strong</td>\n",
       "      <td>No</td>\n",
       "    </tr>\n",
       "  </tbody>\n",
       "</table>\n",
       "</div>"
      ],
      "text/plain": [
       "     outlook  temp humidity    wind play\n",
       "0      Sunny   Hot     High    Weak   No\n",
       "1      Sunny   Hot     High  Strong   No\n",
       "2   Overcast   Hot     High    Weak  Yes\n",
       "3       Rain  Mild     High    Weak  Yes\n",
       "4       Rain  Cool   Normal    Weak  Yes\n",
       "5       Rain  Cool   Normal  Strong   No\n",
       "6   Overcast  Cool   Normal  Strong  Yes\n",
       "7      Sunny  Mild     High    Weak   No\n",
       "8      Sunny  Cool   Normal    Weak  Yes\n",
       "9       Rain  Mild   Normal    Weak  Yes\n",
       "10     Sunny  Mild   Normal  Strong  Yes\n",
       "11  Overcast  Mild     High  Strong  Yes\n",
       "12  Overcast   Hot   Normal    Weak  Yes\n",
       "13      Rain  Mild     High  Strong   No"
      ]
     },
     "execution_count": 9,
     "metadata": {},
     "output_type": "execute_result"
    }
   ],
   "source": [
    "df"
   ]
  },
  {
   "cell_type": "code",
   "execution_count": 43,
   "id": "be06069c",
   "metadata": {},
   "outputs": [
    {
     "name": "stdout",
     "output_type": "stream",
     "text": [
      "Overcast Hot High Weak\n",
      "Player will play\n"
     ]
    }
   ],
   "source": [
    "def NaiveBayes(f1, f2, f3, f4):\n",
    "    cNo1=cNo2=cNo3=cNo4 = 0 \n",
    "    cYes1 = cYes2 = cYes3 = cYes4 = 0   \n",
    "    totalYes  = 0\n",
    "    totalNo  = 0\n",
    "    \n",
    "    total = len(df['outlook'])\n",
    "\n",
    "    for i in range (0, total):\n",
    "        \n",
    "        ## check for outlook feature \n",
    "        if ((df['outlook'][i] == f1) and (df['play'][i] == 'No')):\n",
    "            cNo1+=1\n",
    "            \n",
    "        if ((df['outlook'][i] == f1) and (df['play'][i] == 'Yes')):\n",
    "            cYes1+=1\n",
    "\n",
    "            \n",
    "        # check for temp\n",
    "        if ((df['temp'][i] == f2)   and (df['play'][i] == 'No')):\n",
    "            cNo2+=1\n",
    "            \n",
    "        if ((df['temp'][i] == f2)   and (df['play'][i] == 'Yes')):\n",
    "            cYes2+=1\n",
    "\n",
    "        #check for humidity \n",
    "        if ((df['humidity'][i] == f3)   and (df['play'][i] == 'No')):\n",
    "            cNo3+=1\n",
    "            \n",
    "        if ((df['humidity'][i] == f3)   and (df['play'][i] == 'Yes')):\n",
    "            cYes3+=1\n",
    "            \n",
    "            \n",
    "        # check for wind \n",
    "        if ((df['wind'][i] == f4)   and (df['play'][i] == 'No')):\n",
    "            cNo4+=1\n",
    "            \n",
    "        if ((df['wind'][i] == f4)   and (df['play'][i] == 'Yes')):\n",
    "            cYes4+=1\n",
    "\n",
    "        # total probabilities\n",
    "        if df['play'][i] == 'Yes':\n",
    "            totalYes+=1\n",
    "\n",
    "        if df['play'][i] == 'No':\n",
    "            totalNo+=1\n",
    "            \n",
    "    probyes = ((cYes1/totalYes) * (cYes2/totalYes) * (cYes3/totalYes) * (cYes4/totalYes) * (totalYes/total))\n",
    "    probno = ((cNo1/totalNo) * (cNo2/totalNo) * (cNo3/totalNo) * (cNo4/totalNo) * (totalNo/total))\n",
    "\n",
    "    \n",
    "    if probyes > probno:\n",
    "        print(\"Player will play\")\n",
    "    else:\n",
    "        print(\"Player will not play\")\n",
    "        \n",
    "        \n",
    "print(\"Overcast\", \"Hot\", \"High\", \"Weak\")    \n",
    "NaiveBayes(\"Overcast\", \"Hot\", \"High\", \"Weak\")\n"
   ]
  },
  {
   "cell_type": "code",
   "execution_count": 44,
   "id": "a741b377",
   "metadata": {},
   "outputs": [
    {
     "name": "stdout",
     "output_type": "stream",
     "text": [
      "Sunny Mild High Weak\n",
      "Player will not play\n"
     ]
    }
   ],
   "source": [
    "print(\"Sunny\", \"Mild\", \"High\", \"Weak\")    \n",
    "NaiveBayes(\"Sunny\", \"Mild\", \"High\", \"Weak\")"
   ]
  },
  {
   "cell_type": "markdown",
   "id": "277df3d4",
   "metadata": {},
   "source": [
    "### Task 2 "
   ]
  },
  {
   "cell_type": "code",
   "execution_count": 23,
   "id": "07c92ee7",
   "metadata": {},
   "outputs": [
    {
     "name": "stdout",
     "output_type": "stream",
     "text": [
      "i love mangoes mangoes are a lot tastier than other fruits i like mangoes because they are good apples are good too but i prefer mangoes people say mango is the king of fruit so that is why mangoes are good mangoes are good because they are juicy\n"
     ]
    }
   ],
   "source": [
    "positive = \"I love Mangoes mangoes are a lot tastier than other fruits I like mangoes because they are good Apples are good too but I prefer mangoes People say mango is the king of fruit so that is why mangoes are good mangoes are good because they are juicy\"\n",
    "positive = positive.lower()\n",
    "print(positive)"
   ]
  },
  {
   "cell_type": "code",
   "execution_count": 24,
   "id": "a307e141",
   "metadata": {},
   "outputs": [
    {
     "name": "stdout",
     "output_type": "stream",
     "text": [
      "eating too many mangoes can have a negative impact on your health mangoes are good but not too good, i like apples more than mangoes i don’t like mangoes because they are expensive mangoes are not good i don’t like mangoes\n"
     ]
    }
   ],
   "source": [
    "negative = \"Eating too many Mangoes can have a negative impact on your health mangoes are good but not too good, I like apples more than mangoes I don’t like mangoes because they are expensive Mangoes are not good I don’t like mangoes\"\n",
    "negative = negative.lower()\n",
    "print(negative)"
   ]
  },
  {
   "cell_type": "code",
   "execution_count": 40,
   "id": "ef683cd2",
   "metadata": {},
   "outputs": [],
   "source": [
    "def naivebayes2(sentence):\n",
    "    \n",
    "    \n",
    "    # making sure all the letters are in lowercase \n",
    "    sentence = sentence.lower()\n",
    "    #splitting the sentence to separate the words\n",
    "    array = sentence.split()\n",
    "    \n",
    "    \n",
    "    #splitting the positive sentence\n",
    "    posi = positive.split()\n",
    "    \n",
    "    #splitting the negative sentence\n",
    "    nega = negative.split()\n",
    "\n",
    "    p = len(posi)\n",
    "    n = len(nega)\n",
    "    \n",
    "    pos = 0\n",
    "    neg = 0 \n",
    "    \n",
    "    resP = 1\n",
    "    resN = 1\n",
    "    length = len(array)\n",
    "    for i in range (0, len(array)):  # traversing word wise of the sentence to calculate the porb of neg and pos words\n",
    "        a = array[i]\n",
    "        pos = positive.count(a)       # count is used to count the number of occurences of the word \n",
    "        neg = negative.count(a)\n",
    "        \n",
    "        resP *= pos/p  # probability of each word is being totalled in the for loop to make it generic \n",
    "        resN *= neg/n\n",
    "  \n",
    "    resP *= (p/(p+n))  # muliplying the prob of each positive word to total positve words over all the words \n",
    "    resN *= (n/(p+n)) # same with negativde \n",
    "    \n",
    "\n",
    "    \n",
    "    if resP > resN: # comparing the probabilities \n",
    "        print(\"POSTIVE\")\n",
    "    else:\n",
    "        print(\"NEGATIVE\")\n",
    "        "
   ]
  },
  {
   "cell_type": "code",
   "execution_count": 41,
   "id": "5250c7cf",
   "metadata": {},
   "outputs": [
    {
     "name": "stdout",
     "output_type": "stream",
     "text": [
      "POSTIVE\n"
     ]
    }
   ],
   "source": [
    "naivebayes2(\"mangoes are good\")"
   ]
  },
  {
   "cell_type": "code",
   "execution_count": 42,
   "id": "9789803a",
   "metadata": {},
   "outputs": [
    {
     "name": "stdout",
     "output_type": "stream",
     "text": [
      "NEGATIVE\n"
     ]
    }
   ],
   "source": [
    "naivebayes2(\"mangoes are not good\")"
   ]
  },
  {
   "cell_type": "code",
   "execution_count": 45,
   "id": "bc006f2f",
   "metadata": {},
   "outputs": [],
   "source": [
    "def Bayes(sentence):\n",
    "    \n",
    "    \n",
    "    # making sure all the letters are in lowercase \n",
    "    sentence = sentence.lower()\n",
    "    #splitting the sentence to separate the words\n",
    "    array = sentence.split()\n",
    "    \n",
    "    \n",
    "    #splitting the positive sentence\n",
    "    posi = positive.split()\n",
    "    \n",
    "    #splitting the negative sentence\n",
    "    nega = negative.split()\n",
    "\n",
    "    p = len(posi)\n",
    "    n = len(nega)\n",
    "    \n",
    "    pos = 0\n",
    "    neg = 0 \n",
    "    \n",
    "    resP = 1\n",
    "    resN = 1\n",
    "    length = len(array)\n",
    "    for i in range (0, len(array)):  # traversing word wise of the sentence to calculate the porb of neg and pos words\n",
    "        a = array[i]\n",
    "        pos = positive.count(a)       # count is used to count the number of occurences of the word \n",
    "        if (pos == 0):  # condition that if the given word did not appear then probability will not exist as dependency exists \n",
    "            resP = 0\n",
    "            break\n",
    "        neg = negative.count(a)\n",
    "        if (neg == 0):\n",
    "            resN = 0 \n",
    "            break\n",
    "        \n",
    "        resP *= pos/p  # probability of each word is being totalled in the for loop to make it generic \n",
    "        resN *= neg/n\n",
    "  \n",
    "    resP *= (p/(p+n))  # muliplying the prob of each positive word to total positve words over all the words \n",
    "    resN *= (n/(p+n)) # same with negativde \n",
    "    \n",
    "\n",
    "    \n",
    "    if resP > resN: # comparing the probabilities \n",
    "        print(\"POSTIVE\")\n",
    "    else:\n",
    "        print(\"NEGATIVE\")\n",
    "        "
   ]
  },
  {
   "cell_type": "code",
   "execution_count": 46,
   "id": "4d77dff8",
   "metadata": {},
   "outputs": [
    {
     "name": "stdout",
     "output_type": "stream",
     "text": [
      "POSTIVE\n"
     ]
    }
   ],
   "source": [
    "Bayes(\"mangoes are good\")"
   ]
  },
  {
   "cell_type": "code",
   "execution_count": 47,
   "id": "897b0e63",
   "metadata": {},
   "outputs": [
    {
     "name": "stdout",
     "output_type": "stream",
     "text": [
      "NEGATIVE\n"
     ]
    }
   ],
   "source": [
    "Bayes(\"mangoes are not good\")"
   ]
  },
  {
   "cell_type": "code",
   "execution_count": null,
   "id": "0e15f881",
   "metadata": {},
   "outputs": [],
   "source": []
  }
 ],
 "metadata": {
  "kernelspec": {
   "display_name": "Python 3",
   "language": "python",
   "name": "python3"
  },
  "language_info": {
   "codemirror_mode": {
    "name": "ipython",
    "version": 3
   },
   "file_extension": ".py",
   "mimetype": "text/x-python",
   "name": "python",
   "nbconvert_exporter": "python",
   "pygments_lexer": "ipython3",
   "version": "3.8.8"
  }
 },
 "nbformat": 4,
 "nbformat_minor": 5
}
