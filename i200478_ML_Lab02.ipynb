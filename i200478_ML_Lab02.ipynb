{
 "cells": [
  {
   "cell_type": "markdown",
   "id": "4f11804a",
   "metadata": {},
   "source": [
    "# Zainab Shah \n",
    "# 20I0478 \n",
    "# ML Lab 2 "
   ]
  },
  {
   "cell_type": "markdown",
   "id": "86421415",
   "metadata": {},
   "source": [
    "# Task 1"
   ]
  },
  {
   "cell_type": "code",
   "execution_count": 5,
   "id": "33e50b33",
   "metadata": {},
   "outputs": [],
   "source": [
    "class University:\n",
    "    __campus=6 \n",
    "    def __init__(self,uname,location):\n",
    "        self.uname = uname\n",
    "        self.location = location\n",
    "    def display(self):\n",
    "        print(f'\\nName: {self.uname} \\nLocation: {self.location}')\n",
    "    def _display2(self):\n",
    "        print(\"Protected\")\n",
    "   \n",
    "class Department(University): #Inheritance\n",
    "        def __init__(self,name,program, u_name, u_location):\n",
    "            super().__init__(u_name,u_location)\n",
    "            self.name = name\n",
    "            self.program=program\n",
    "        def display(self):\n",
    "            super().display()\n",
    "            print(f\"\\nName: {self.name} \\nPrograms: {self.program}\")\n"
   ]
  },
  {
   "cell_type": "code",
   "execution_count": 6,
   "id": "2e408960",
   "metadata": {},
   "outputs": [
    {
     "name": "stdout",
     "output_type": "stream",
     "text": [
      "Protected\n"
     ]
    }
   ],
   "source": [
    "obj2 =University(\"FAST\", \"Islamabad\")\n",
    "obj2._display2()"
   ]
  },
  {
   "cell_type": "code",
   "execution_count": 7,
   "id": "1af2fcd1",
   "metadata": {},
   "outputs": [
    {
     "name": "stdout",
     "output_type": "stream",
     "text": [
      "\n",
      "Name: FAST \n",
      "Location: Islamabad\n",
      "\n",
      "Name: AI \n",
      "Programs: 5\n"
     ]
    }
   ],
   "source": [
    "obj1=Department(\"AI\",5,\"FAST\",'Islamabad')\n",
    "obj1.display()"
   ]
  },
  {
   "cell_type": "markdown",
   "id": "04bc09e6",
   "metadata": {},
   "source": [
    "# Task 2"
   ]
  },
  {
   "cell_type": "code",
   "execution_count": 8,
   "id": "a9c3f7e5",
   "metadata": {},
   "outputs": [
    {
     "name": "stdout",
     "output_type": "stream",
     "text": [
      "\n",
      "List of Fruits: \n",
      "\n",
      " 1 Mango\n",
      "\n",
      " 2 Apple\n",
      "\n",
      " 3 Banana\n",
      "\n",
      " 4 Orange\n",
      "\n",
      " 5 Grapes\n",
      "\n",
      " 6 Kiwi\n"
     ]
    }
   ],
   "source": [
    "Fruits = ['Mango', 'Apple', 'Banana', 'Orange', 'Grapes', 'Kiwi']\n",
    "\n",
    "print(\"\\nList of Fruits: \")\n",
    "for i, value in enumerate(Fruits,1):\n",
    "    print('\\n',i,value)"
   ]
  },
  {
   "cell_type": "markdown",
   "id": "be0363ce",
   "metadata": {},
   "source": [
    "# Task 3"
   ]
  },
  {
   "cell_type": "code",
   "execution_count": 7,
   "id": "cb3f649e",
   "metadata": {},
   "outputs": [
    {
     "name": "stdout",
     "output_type": "stream",
     "text": [
      "2\n"
     ]
    }
   ],
   "source": [
    "#1\n",
    "l1 = ['hello', 'from', 'where', 'what', 'mom', 'hobo', 'I', 'wonder', 'from', 'wow']\n",
    "count = 0\n",
    "for i in range(0,len(l1)):\n",
    "    if(len(l1[i])>=2):\n",
    "        first = l1[i][0]\n",
    "        last = l1[i][-1]\n",
    "        if(first==last):\n",
    "            count+=1\n",
    "print(count)"
   ]
  },
  {
   "cell_type": "code",
   "execution_count": 10,
   "id": "0cceb752",
   "metadata": {},
   "outputs": [
    {
     "data": {
      "text/plain": [
       "['xanax', 'xylophone', 'x-ray', 'aged', 'carnival', 'pakistan', 'umm']"
      ]
     },
     "execution_count": 10,
     "metadata": {},
     "output_type": "execute_result"
    }
   ],
   "source": [
    "#2\n",
    "l2 = ['umm', 'carnival', 'xanax', 'xylophone', 'pakistan', 'x-ray', 'aged']\n",
    "group = []\n",
    "for i in range(0,len(l2)):\n",
    "    if(l2[i][0]=='x'):\n",
    "        group.append(l2[i])\n",
    "        \n",
    "for i in group:\n",
    "    for j in l2:\n",
    "        if (j == i):\n",
    "            l2.remove(j)\n",
    "l2.sort()\n",
    "res = group + l2\n",
    "res"
   ]
  },
  {
   "cell_type": "code",
   "execution_count": 11,
   "id": "724ca00d",
   "metadata": {},
   "outputs": [
    {
     "data": {
      "text/plain": [
       "[(5, 1, 2), (4, 5, 6), (9, 3, 6), (1, 6, 8)]"
      ]
     },
     "execution_count": 11,
     "metadata": {},
     "output_type": "execute_result"
    }
   ],
   "source": [
    "#3\n",
    "tup = [(4,5,6), (1,6,8), (9,3,6), (5,1,2)]\n",
    "\n",
    "for i in range(0,len(tup)): \n",
    "    for j in range(0,(len(tup)-i-1)): \n",
    "            if(tup[j][-1]>tup[j+1][-1]): \n",
    "                temp = tup[j] \n",
    "                tup[j] = tup[j + 1] \n",
    "                tup[j+1] = temp \n",
    "tup"
   ]
  },
  {
   "cell_type": "code",
   "execution_count": 12,
   "id": "e4f36853",
   "metadata": {},
   "outputs": [
    {
     "data": {
      "text/plain": [
       "[1, 2, 9, 5, 25, 6, 13, 10, 8]"
      ]
     },
     "execution_count": 12,
     "metadata": {},
     "output_type": "execute_result"
    }
   ],
   "source": [
    "#4\n",
    "l1 = [1,1,2,9,5,25,6,13,13,10,8,8,5]\n",
    "l2 = []\n",
    "for i in range(0,(len(l1)-1)):\n",
    "    if(l1[i]!=l1[i+1]):\n",
    "        l2.append(l1[i])\n",
    "l2"
   ]
  },
  {
   "cell_type": "code",
   "execution_count": 15,
   "id": "b8be1187",
   "metadata": {},
   "outputs": [
    {
     "name": "stdout",
     "output_type": "stream",
     "text": [
      "l1 unsorted:  [5, 1, 3, 7, 8]\n",
      "l1 sorted:  [1, 3, 5, 7, 8]\n",
      "l2 unsorted:  [4, 2, 9, 6]\n",
      "l2 sorted:  [2, 4, 6, 9]\n",
      "l1+l2 merged and sorted [1, 2, 3, 4, 5, 6, 7, 8, 9]\n"
     ]
    }
   ],
   "source": [
    "#5\n",
    "l1 = [5,1,3,7,8]\n",
    "l2 = [4,2,9,6]\n",
    "print(\"l1 unsorted: \", l1)\n",
    "l1.sort()\n",
    "print(\"l1 sorted: \", l1)\n",
    "print(\"l2 unsorted: \", l2)\n",
    "l2.sort()\n",
    "print(\"l2 sorted: \", l2)\n",
    "res = l1 + l2\n",
    "res.sort()\n",
    "print(\"l1+l2 merged and sorted\", res)"
   ]
  },
  {
   "cell_type": "markdown",
   "id": "5a42d264",
   "metadata": {},
   "source": [
    "# Task 4"
   ]
  },
  {
   "cell_type": "code",
   "execution_count": 16,
   "id": "02dd1050",
   "metadata": {},
   "outputs": [],
   "source": [
    "import numpy as np\n",
    "import pandas as pd"
   ]
  },
  {
   "cell_type": "code",
   "execution_count": 18,
   "id": "3aec54e6",
   "metadata": {},
   "outputs": [
    {
     "data": {
      "text/html": [
       "<div>\n",
       "<style scoped>\n",
       "    .dataframe tbody tr th:only-of-type {\n",
       "        vertical-align: middle;\n",
       "    }\n",
       "\n",
       "    .dataframe tbody tr th {\n",
       "        vertical-align: top;\n",
       "    }\n",
       "\n",
       "    .dataframe thead th {\n",
       "        text-align: right;\n",
       "    }\n",
       "</style>\n",
       "<table border=\"1\" class=\"dataframe\">\n",
       "  <thead>\n",
       "    <tr style=\"text-align: right;\">\n",
       "      <th></th>\n",
       "      <th>country</th>\n",
       "      <th>beer_servings</th>\n",
       "      <th>spirit_servings</th>\n",
       "      <th>wine_servings</th>\n",
       "      <th>total_litres_of_pure_alcohol</th>\n",
       "      <th>continent</th>\n",
       "    </tr>\n",
       "  </thead>\n",
       "  <tbody>\n",
       "    <tr>\n",
       "      <th>0</th>\n",
       "      <td>Afghanistan</td>\n",
       "      <td>0</td>\n",
       "      <td>0</td>\n",
       "      <td>0</td>\n",
       "      <td>0.0</td>\n",
       "      <td>AS</td>\n",
       "    </tr>\n",
       "    <tr>\n",
       "      <th>1</th>\n",
       "      <td>Albania</td>\n",
       "      <td>89</td>\n",
       "      <td>132</td>\n",
       "      <td>54</td>\n",
       "      <td>4.9</td>\n",
       "      <td>EU</td>\n",
       "    </tr>\n",
       "    <tr>\n",
       "      <th>2</th>\n",
       "      <td>Algeria</td>\n",
       "      <td>25</td>\n",
       "      <td>0</td>\n",
       "      <td>14</td>\n",
       "      <td>0.7</td>\n",
       "      <td>AF</td>\n",
       "    </tr>\n",
       "    <tr>\n",
       "      <th>3</th>\n",
       "      <td>Andorra</td>\n",
       "      <td>245</td>\n",
       "      <td>138</td>\n",
       "      <td>312</td>\n",
       "      <td>12.4</td>\n",
       "      <td>EU</td>\n",
       "    </tr>\n",
       "    <tr>\n",
       "      <th>4</th>\n",
       "      <td>Angola</td>\n",
       "      <td>217</td>\n",
       "      <td>57</td>\n",
       "      <td>45</td>\n",
       "      <td>5.9</td>\n",
       "      <td>AF</td>\n",
       "    </tr>\n",
       "  </tbody>\n",
       "</table>\n",
       "</div>"
      ],
      "text/plain": [
       "       country  beer_servings  spirit_servings  wine_servings  \\\n",
       "0  Afghanistan              0                0              0   \n",
       "1      Albania             89              132             54   \n",
       "2      Algeria             25                0             14   \n",
       "3      Andorra            245              138            312   \n",
       "4       Angola            217               57             45   \n",
       "\n",
       "   total_litres_of_pure_alcohol continent  \n",
       "0                           0.0        AS  \n",
       "1                           4.9        EU  \n",
       "2                           0.7        AF  \n",
       "3                          12.4        EU  \n",
       "4                           5.9        AF  "
      ]
     },
     "execution_count": 18,
     "metadata": {},
     "output_type": "execute_result"
    }
   ],
   "source": [
    "df = pd.read_csv(\"drinks.csv\")\n",
    "df.head()"
   ]
  },
  {
   "cell_type": "code",
   "execution_count": 19,
   "id": "f47879e6",
   "metadata": {},
   "outputs": [
    {
     "data": {
      "text/plain": [
       "193"
      ]
     },
     "execution_count": 19,
     "metadata": {},
     "output_type": "execute_result"
    }
   ],
   "source": [
    "# Finding no. of rows \n",
    "rows = df.shape[0]\n",
    "rows"
   ]
  },
  {
   "cell_type": "code",
   "execution_count": 20,
   "id": "9226cddc",
   "metadata": {},
   "outputs": [
    {
     "data": {
      "text/html": [
       "<div>\n",
       "<style scoped>\n",
       "    .dataframe tbody tr th:only-of-type {\n",
       "        vertical-align: middle;\n",
       "    }\n",
       "\n",
       "    .dataframe tbody tr th {\n",
       "        vertical-align: top;\n",
       "    }\n",
       "\n",
       "    .dataframe thead th {\n",
       "        text-align: right;\n",
       "    }\n",
       "</style>\n",
       "<table border=\"1\" class=\"dataframe\">\n",
       "  <thead>\n",
       "    <tr style=\"text-align: right;\">\n",
       "      <th></th>\n",
       "      <th>country</th>\n",
       "      <th>beer_servings</th>\n",
       "      <th>spirit_servings</th>\n",
       "      <th>wine_servings</th>\n",
       "      <th>total_litres_of_pure_alcohol</th>\n",
       "      <th>continent</th>\n",
       "    </tr>\n",
       "  </thead>\n",
       "  <tbody>\n",
       "    <tr>\n",
       "      <th>0</th>\n",
       "      <td>Afghanistan</td>\n",
       "      <td>0</td>\n",
       "      <td>0</td>\n",
       "      <td>0</td>\n",
       "      <td>0.0</td>\n",
       "      <td>AS</td>\n",
       "    </tr>\n",
       "    <tr>\n",
       "      <th>1</th>\n",
       "      <td>Albania</td>\n",
       "      <td>89</td>\n",
       "      <td>132</td>\n",
       "      <td>54</td>\n",
       "      <td>4.9</td>\n",
       "      <td>EU</td>\n",
       "    </tr>\n",
       "    <tr>\n",
       "      <th>2</th>\n",
       "      <td>Algeria</td>\n",
       "      <td>25</td>\n",
       "      <td>0</td>\n",
       "      <td>14</td>\n",
       "      <td>0.7</td>\n",
       "      <td>AF</td>\n",
       "    </tr>\n",
       "    <tr>\n",
       "      <th>3</th>\n",
       "      <td>Andorra</td>\n",
       "      <td>245</td>\n",
       "      <td>138</td>\n",
       "      <td>312</td>\n",
       "      <td>12.4</td>\n",
       "      <td>EU</td>\n",
       "    </tr>\n",
       "    <tr>\n",
       "      <th>4</th>\n",
       "      <td>Angola</td>\n",
       "      <td>217</td>\n",
       "      <td>57</td>\n",
       "      <td>45</td>\n",
       "      <td>5.9</td>\n",
       "      <td>AF</td>\n",
       "    </tr>\n",
       "    <tr>\n",
       "      <th>...</th>\n",
       "      <td>...</td>\n",
       "      <td>...</td>\n",
       "      <td>...</td>\n",
       "      <td>...</td>\n",
       "      <td>...</td>\n",
       "      <td>...</td>\n",
       "    </tr>\n",
       "    <tr>\n",
       "      <th>188</th>\n",
       "      <td>Venezuela</td>\n",
       "      <td>333</td>\n",
       "      <td>100</td>\n",
       "      <td>3</td>\n",
       "      <td>7.7</td>\n",
       "      <td>SA</td>\n",
       "    </tr>\n",
       "    <tr>\n",
       "      <th>189</th>\n",
       "      <td>Vietnam</td>\n",
       "      <td>111</td>\n",
       "      <td>2</td>\n",
       "      <td>1</td>\n",
       "      <td>2.0</td>\n",
       "      <td>AS</td>\n",
       "    </tr>\n",
       "    <tr>\n",
       "      <th>190</th>\n",
       "      <td>Yemen</td>\n",
       "      <td>6</td>\n",
       "      <td>0</td>\n",
       "      <td>0</td>\n",
       "      <td>0.1</td>\n",
       "      <td>AS</td>\n",
       "    </tr>\n",
       "    <tr>\n",
       "      <th>191</th>\n",
       "      <td>Zambia</td>\n",
       "      <td>32</td>\n",
       "      <td>19</td>\n",
       "      <td>4</td>\n",
       "      <td>2.5</td>\n",
       "      <td>AF</td>\n",
       "    </tr>\n",
       "    <tr>\n",
       "      <th>192</th>\n",
       "      <td>Zimbabwe</td>\n",
       "      <td>64</td>\n",
       "      <td>18</td>\n",
       "      <td>4</td>\n",
       "      <td>4.7</td>\n",
       "      <td>AF</td>\n",
       "    </tr>\n",
       "  </tbody>\n",
       "</table>\n",
       "<p>170 rows × 6 columns</p>\n",
       "</div>"
      ],
      "text/plain": [
       "         country  beer_servings  spirit_servings  wine_servings  \\\n",
       "0    Afghanistan              0                0              0   \n",
       "1        Albania             89              132             54   \n",
       "2        Algeria             25                0             14   \n",
       "3        Andorra            245              138            312   \n",
       "4         Angola            217               57             45   \n",
       "..           ...            ...              ...            ...   \n",
       "188    Venezuela            333              100              3   \n",
       "189      Vietnam            111                2              1   \n",
       "190        Yemen              6                0              0   \n",
       "191       Zambia             32               19              4   \n",
       "192     Zimbabwe             64               18              4   \n",
       "\n",
       "     total_litres_of_pure_alcohol continent  \n",
       "0                             0.0        AS  \n",
       "1                             4.9        EU  \n",
       "2                             0.7        AF  \n",
       "3                            12.4        EU  \n",
       "4                             5.9        AF  \n",
       "..                            ...       ...  \n",
       "188                           7.7        SA  \n",
       "189                           2.0        AS  \n",
       "190                           0.1        AS  \n",
       "191                           2.5        AF  \n",
       "192                           4.7        AF  \n",
       "\n",
       "[170 rows x 6 columns]"
      ]
     },
     "execution_count": 20,
     "metadata": {},
     "output_type": "execute_result"
    }
   ],
   "source": [
    "# Dropping null values\n",
    "df.dropna(axis = 0, inplace = False)"
   ]
  },
  {
   "cell_type": "code",
   "execution_count": 22,
   "id": "bdcac76d",
   "metadata": {},
   "outputs": [
    {
     "name": "stdout",
     "output_type": "stream",
     "text": [
      "\n",
      "Please enter the name of the column: country\n"
     ]
    },
    {
     "data": {
      "text/plain": [
       "0      Afghanistan\n",
       "1          Albania\n",
       "2          Algeria\n",
       "3          Andorra\n",
       "4           Angola\n",
       "          ...     \n",
       "188      Venezuela\n",
       "189        Vietnam\n",
       "190          Yemen\n",
       "191         Zambia\n",
       "192       Zimbabwe\n",
       "Name: country, Length: 193, dtype: object"
      ]
     },
     "execution_count": 22,
     "metadata": {},
     "output_type": "execute_result"
    }
   ],
   "source": [
    "# taking input of col and displaying value\n",
    "col = input('\\nPlease enter the name of the column: ')\n",
    "df.loc[:,col]"
   ]
  },
  {
   "cell_type": "code",
   "execution_count": 23,
   "id": "e51714bd",
   "metadata": {},
   "outputs": [
    {
     "data": {
      "text/plain": [
       "array([[<AxesSubplot:title={'center':'beer_servings'}>,\n",
       "        <AxesSubplot:title={'center':'spirit_servings'}>],\n",
       "       [<AxesSubplot:title={'center':'wine_servings'}>,\n",
       "        <AxesSubplot:title={'center':'total_litres_of_pure_alcohol'}>]],\n",
       "      dtype=object)"
      ]
     },
     "execution_count": 23,
     "metadata": {},
     "output_type": "execute_result"
    },
    {
     "data": {
      "image/png": "[encoded data removed]",
      "text/plain": [
       "<Figure size 432x288 with 4 Axes>"
      ]
     },
     "metadata": {
      "needs_background": "light"
     },
     "output_type": "display_data"
    }
   ],
   "source": [
    "# plotting histogram\n",
    "df.hist()"
   ]
  },
  {
   "cell_type": "code",
   "execution_count": 24,
   "id": "5995d5b9",
   "metadata": {},
   "outputs": [
    {
     "data": {
      "text/plain": [
       "<matplotlib.collections.PathCollection at 0x1a8387d1130>"
      ]
     },
     "execution_count": 24,
     "metadata": {},
     "output_type": "execute_result"
    },
    {
     "data": {
      "image/png": "[encoded data removed]",
      "text/plain": [
       "<Figure size 432x288 with 1 Axes>"
      ]
     },
     "metadata": {
      "needs_background": "light"
     },
     "output_type": "display_data"
    }
   ],
   "source": [
    "# plotting 2D Scatterplot\n",
    "import matplotlib.pyplot as plt\n",
    "plt.scatter(df.country, df.beer_servings)"
   ]
  },
  {
   "cell_type": "code",
   "execution_count": 25,
   "id": "61d45849",
   "metadata": {},
   "outputs": [
    {
     "data": {
      "image/png": "[encoded data removed]",
      "text/plain": [
       "<Figure size 432x288 with 1 Axes>"
      ]
     },
     "metadata": {
      "needs_background": "light"
     },
     "output_type": "display_data"
    }
   ],
   "source": [
    "# plotting 3D Scatterplot\n",
    "x = df['beer_servings']\n",
    "y = df['spirit_servings']\n",
    "z = df['wine_servings']\n",
    "mplt = plt.figure().gca(projection='3d')\n",
    "mplt.scatter(x,y,z)\n",
    "mplt.set_xlabel('Spirit Servings')\n",
    "mplt.set_ylabel('Wine Servings')\n",
    "mplt.set_zlabel('Beer Servings')\n",
    "plt.show()"
   ]
  },
  {
   "cell_type": "code",
   "execution_count": 26,
   "id": "78e6810c",
   "metadata": {},
   "outputs": [
    {
     "data": {
      "text/plain": [
       "([<matplotlib.patches.Wedge at 0x1a8389fbc40>,\n",
       "  <matplotlib.patches.Wedge at 0x1a8390e1160>,\n",
       "  <matplotlib.patches.Wedge at 0x1a8390e1610>,\n",
       "  <matplotlib.patches.Wedge at 0x1a8390e1a90>,\n",
       "  <matplotlib.patches.Wedge at 0x1a8390e1f10>,\n",
       "  <matplotlib.patches.Wedge at 0x1a8390ea3d0>,\n",
       "  <matplotlib.patches.Wedge at 0x1a8390ea850>,\n",
       "  <matplotlib.patches.Wedge at 0x1a8390eacd0>,\n",
       "  <matplotlib.patches.Wedge at 0x1a8390f8190>,\n",
       "  <matplotlib.patches.Wedge at 0x1a8390f8610>],\n",
       " [Text(1.1, 0.0, 'Afghanistan'),\n",
       "  Text(0.9575905883660052, 0.5413134628594122, 'Albania'),\n",
       "  Text(0.5672358816857307, 0.9424666861636075, 'Algeria'),\n",
       "  Text(0.004287490725212563, 1.099991644251574, 'Andorra'),\n",
       "  Text(-0.7547502936697695, 0.8002199661376845, 'Angola'),\n",
       "  Text(-1.0951905193613276, 0.10275079708238545, 'Antigua & Barbuda'),\n",
       "  Text(-0.9638547200141361, -0.5300793135998344, 'Argentina'),\n",
       "  Text(-0.2964174153241432, -1.05930954677684, 'Armenia'),\n",
       "  Text(0.7132511217730163, -0.8374203468327804, 'Australia'),\n",
       "  Text(1.0533319416526985, -0.3170044490131903, 'Austria')])"
      ]
     },
     "execution_count": 26,
     "metadata": {},
     "output_type": "execute_result"
    },
    {
     "data": {
      "image/png": "[encoded data removed]",
      "text/plain": [
       "<Figure size 720x504 with 1 Axes>"
      ]
     },
     "metadata": {},
     "output_type": "display_data"
    }
   ],
   "source": [
    "# plotting pie chart\n",
    "country = df['country'].head(10)\n",
    "x = df['spirit_servings'].head(10)\n",
    "fig = plt.figure(figsize =(10, 7))\n",
    "plt.pie(x, labels = country)"
   ]
  },
  {
   "cell_type": "code",
   "execution_count": 28,
   "id": "3414e706",
   "metadata": {},
   "outputs": [
    {
     "data": {
      "image/png": "[encoded data removed]",
      "text/plain": [
       "<Figure size 720x360 with 1 Axes>"
      ]
     },
     "metadata": {
      "needs_background": "light"
     },
     "output_type": "display_data"
    }
   ],
   "source": [
    "#bar chart\n",
    "fig = plt.figure(figsize = (10, 5))\n",
    "plt.bar(x, country, color ='maroon', width = 5)\n",
    "plt.ylabel(\"Country\")\n",
    "plt.xlabel(\"Spirit Servings\")\n",
    "plt.title(\"Spirit Servings Across Countries\")\n",
    "plt.show()"
   ]
  },
  {
   "cell_type": "code",
   "execution_count": null,
   "id": "448c348c",
   "metadata": {},
   "outputs": [],
   "source": []
  }
 ],
 "metadata": {
  "kernelspec": {
   "display_name": "Python 3",
   "language": "python",
   "name": "python3"
  },
  "language_info": {
   "codemirror_mode": {
    "name": "ipython",
    "version": 3
   },
   "file_extension": ".py",
   "mimetype": "text/x-python",
   "name": "python",
   "nbconvert_exporter": "python",
   "pygments_lexer": "ipython3",
   "version": "3.8.8"
  }
 },
 "nbformat": 4,
 "nbformat_minor": 5
}
