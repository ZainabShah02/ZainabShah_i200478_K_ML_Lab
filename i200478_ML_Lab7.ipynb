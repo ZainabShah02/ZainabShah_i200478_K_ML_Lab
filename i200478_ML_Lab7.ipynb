{
 "cells": [
  {
   "cell_type": "code",
   "execution_count": 2,
   "id": "36f337f6",
   "metadata": {},
   "outputs": [],
   "source": [
    "import pandas as pd\n",
    "import numpy as np"
   ]
  },
  {
   "cell_type": "code",
   "execution_count": 3,
   "id": "0ebd1b3b",
   "metadata": {},
   "outputs": [
    {
     "name": "stdout",
     "output_type": "stream",
     "text": [
      "i love mangoes mangoes are a lot tastier than other fruits i like mangoes because they are good apples are good too but i prefer mangoes people say mango is the king of fruit so that is why mangoes are good mangoes are good because they are juicy\n"
     ]
    }
   ],
   "source": [
    "positive = \"I love Mangoes mangoes are a lot tastier than other fruits I like mangoes because they are good Apples are good too but I prefer mangoes People say mango is the king of fruit so that is why mangoes are good mangoes are good because they are juicy\"\n",
    "positive = positive.lower()\n",
    "print(positive)"
   ]
  },
  {
   "cell_type": "code",
   "execution_count": 4,
   "id": "f2d106ce",
   "metadata": {},
   "outputs": [
    {
     "name": "stdout",
     "output_type": "stream",
     "text": [
      "eating too many mangoes can have a negative impact on your health mangoes are good but not too good, i like apples more than mangoes i don’t like mangoes because they are expensive mangoes are not good i don’t like mangoes\n"
     ]
    }
   ],
   "source": [
    "negative = \"Eating too many Mangoes can have a negative impact on your health mangoes are good but not too good, I like apples more than mangoes I don’t like mangoes because they are expensive Mangoes are not good I don’t like mangoes\"\n",
    "negative = negative.lower()\n",
    "print(negative)"
   ]
  },
  {
   "cell_type": "code",
   "execution_count": 15,
   "id": "15366ce9",
   "metadata": {},
   "outputs": [],
   "source": [
    "doc=positive+negative\n",
    "doc= doc.split()\n",
    "unique_words = set(doc)\n",
    "lenUW=len(unique_words)\n",
    "#splitting the positive sentence\n",
    "posi = positive.split()\n",
    "    \n",
    "#splitting the negative sentence\n",
    "nega = negative.split()"
   ]
  },
  {
   "cell_type": "code",
   "execution_count": 34,
   "id": "6d6b3a38",
   "metadata": {},
   "outputs": [],
   "source": [
    "def naivebayes2(sentence):\n",
    "    doc=positive+negative\n",
    "    doc= doc.split()\n",
    "    unique_words = set(doc)\n",
    "    lenUW=len(unique_words)\n",
    "    #splitting the positive sentence\n",
    "    posi = positive.split()\n",
    "\n",
    "    #splitting the negative sentence\n",
    "    nega = negative.split()\n",
    "    # Training Postive\n",
    "    Pdictionary = {}\n",
    "    Posprob=[]\n",
    "    Posname=[]\n",
    "\n",
    "    for i in range(0, len(posi)):\n",
    "        Posprob.append( (positive.count(posi[i])+1)/(len(posi)+lenUW) ) # formula to calculate probability when want to consider words not present\n",
    "        Posname.append( posi[i] )\n",
    "\n",
    "    for i in range(len(Posname)):\n",
    "        Pdictionary[Posname[i]] = Posprob[i]\n",
    "    print(\"Positive Probability\")\n",
    "    print(Pdictionary)\n",
    "\n",
    "    # Training Negative \n",
    "\n",
    "    Ndictionary = {}\n",
    "    Negprob=[]\n",
    "    Negname=[]\n",
    "\n",
    "    for i in range(0, len(nega)):\n",
    "        Negprob.append( (negative.count(nega[i])+1)/(len(nega)+lenUW) )  \n",
    "        Negname.append( nega[i] )\n",
    "\n",
    "    for i in range(len(Negname)):\n",
    "        Ndictionary[Negname[i]] = Negprob[i]\n",
    "    print(\"Negative Probability\")\n",
    "    print(Ndictionary)\n",
    "    # making sure all the letters are in lowercase \n",
    "    sentence = sentence.lower()\n",
    "    #splitting the sentence to separate the words\n",
    "    array = sentence.split()\n",
    "    \n",
    "\n",
    "    p = len(posi)\n",
    "    n = len(nega)\n",
    "    resP = 1\n",
    "    resN = 1\n",
    "    for i in range(0, len(array) ):\n",
    "        if test[i] in posi:\n",
    "            resP=resP*Pdictionary[sentence[i]]  \n",
    "\n",
    "        if test[i] in nega:\n",
    "            resN=resN*Ndictionary[sentence[i]]\n",
    "\n",
    "    resP *= (p/(p+n))  # muliplying the prob of each positive word to total positve words over all the words \n",
    "    resN *= (n/(p+n)) # same with negativde \n",
    "    \n",
    "\n",
    "    \n",
    "    if resP > resN: # comparing the probabilities \n",
    "        print(\"POSITIVE\")\n",
    "    else:\n",
    "        print(\"NEGATIVE\")\n",
    "\n"
   ]
  },
  {
   "cell_type": "code",
   "execution_count": 37,
   "id": "90daa5d5",
   "metadata": {},
   "outputs": [
    {
     "name": "stdout",
     "output_type": "stream",
     "text": [
      "Positive Probability\n",
      "{'i': 0.13186813186813187, 'love': 0.02197802197802198, 'mangoes': 0.07692307692307693, 'are': 0.07692307692307693, 'a': 0.24175824175824176, 'lot': 0.02197802197802198, 'tastier': 0.02197802197802198, 'than': 0.02197802197802198, 'other': 0.02197802197802198, 'fruits': 0.02197802197802198, 'like': 0.02197802197802198, 'because': 0.03296703296703297, 'they': 0.03296703296703297, 'good': 0.054945054945054944, 'apples': 0.02197802197802198, 'too': 0.02197802197802198, 'but': 0.02197802197802198, 'prefer': 0.02197802197802198, 'people': 0.02197802197802198, 'say': 0.02197802197802198, 'mango': 0.08791208791208792, 'is': 0.03296703296703297, 'the': 0.054945054945054944, 'king': 0.02197802197802198, 'of': 0.02197802197802198, 'fruit': 0.03296703296703297, 'so': 0.02197802197802198, 'that': 0.02197802197802198, 'why': 0.02197802197802198, 'juicy': 0.02197802197802198}\n",
      "Negative Probability\n",
      "{'eating': 0.023809523809523808, 'too': 0.03571428571428571, 'many': 0.023809523809523808, 'mangoes': 0.08333333333333333, 'can': 0.023809523809523808, 'have': 0.023809523809523808, 'a': 0.25, 'negative': 0.023809523809523808, 'impact': 0.023809523809523808, 'on': 0.047619047619047616, 'your': 0.023809523809523808, 'health': 0.023809523809523808, 'are': 0.047619047619047616, 'good': 0.047619047619047616, 'but': 0.023809523809523808, 'not': 0.03571428571428571, 'good,': 0.023809523809523808, 'i': 0.13095238095238096, 'like': 0.047619047619047616, 'apples': 0.023809523809523808, 'more': 0.023809523809523808, 'than': 0.023809523809523808, 'don’t': 0.03571428571428571, 'because': 0.023809523809523808, 'they': 0.023809523809523808, 'expensive': 0.023809523809523808}\n",
      "POSITIVE\n"
     ]
    }
   ],
   "source": [
    "naivebayes2(\"mangoes are BANANS\") # will consider prob of banana as 1/total prob"
   ]
  },
  {
   "cell_type": "code",
   "execution_count": 36,
   "id": "1a4f0163",
   "metadata": {},
   "outputs": [
    {
     "name": "stdout",
     "output_type": "stream",
     "text": [
      "Positive Probability\n",
      "{'i': 0.13186813186813187, 'love': 0.02197802197802198, 'mangoes': 0.07692307692307693, 'are': 0.07692307692307693, 'a': 0.24175824175824176, 'lot': 0.02197802197802198, 'tastier': 0.02197802197802198, 'than': 0.02197802197802198, 'other': 0.02197802197802198, 'fruits': 0.02197802197802198, 'like': 0.02197802197802198, 'because': 0.03296703296703297, 'they': 0.03296703296703297, 'good': 0.054945054945054944, 'apples': 0.02197802197802198, 'too': 0.02197802197802198, 'but': 0.02197802197802198, 'prefer': 0.02197802197802198, 'people': 0.02197802197802198, 'say': 0.02197802197802198, 'mango': 0.08791208791208792, 'is': 0.03296703296703297, 'the': 0.054945054945054944, 'king': 0.02197802197802198, 'of': 0.02197802197802198, 'fruit': 0.03296703296703297, 'so': 0.02197802197802198, 'that': 0.02197802197802198, 'why': 0.02197802197802198, 'juicy': 0.02197802197802198}\n",
      "Negative Probability\n",
      "{'eating': 0.023809523809523808, 'too': 0.03571428571428571, 'many': 0.023809523809523808, 'mangoes': 0.08333333333333333, 'can': 0.023809523809523808, 'have': 0.023809523809523808, 'a': 0.25, 'negative': 0.023809523809523808, 'impact': 0.023809523809523808, 'on': 0.047619047619047616, 'your': 0.023809523809523808, 'health': 0.023809523809523808, 'are': 0.047619047619047616, 'good': 0.047619047619047616, 'but': 0.023809523809523808, 'not': 0.03571428571428571, 'good,': 0.023809523809523808, 'i': 0.13095238095238096, 'like': 0.047619047619047616, 'apples': 0.023809523809523808, 'more': 0.023809523809523808, 'than': 0.023809523809523808, 'don’t': 0.03571428571428571, 'because': 0.023809523809523808, 'they': 0.023809523809523808, 'expensive': 0.023809523809523808}\n",
      "POSITIVE\n"
     ]
    }
   ],
   "source": [
    "naivebayes2(\"mangoes are not good\")"
   ]
  },
  {
   "cell_type": "code",
   "execution_count": null,
   "id": "b39bd67e",
   "metadata": {},
   "outputs": [],
   "source": []
  }
 ],
 "metadata": {
  "kernelspec": {
   "display_name": "Python 3",
   "language": "python",
   "name": "python3"
  },
  "language_info": {
   "codemirror_mode": {
    "name": "ipython",
    "version": 3
   },
   "file_extension": ".py",
   "mimetype": "text/x-python",
   "name": "python",
   "nbconvert_exporter": "python",
   "pygments_lexer": "ipython3",
   "version": "3.8.8"
  }
 },
 "nbformat": 4,
 "nbformat_minor": 5
}
