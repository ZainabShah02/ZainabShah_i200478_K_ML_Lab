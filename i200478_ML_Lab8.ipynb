{
 "cells": [
  {
   "cell_type": "markdown",
   "id": "25c74e5d",
   "metadata": {},
   "source": [
    "## Zainab Shah \n",
    "## 20I-0478\n",
    "## ML Lab 8"
   ]
  },
  {
   "cell_type": "markdown",
   "id": "b45e3435",
   "metadata": {},
   "source": [
    "### Create a decision tree on the Tennis Dataset, your algorithm should be ID3"
   ]
  },
  {
   "cell_type": "code",
   "execution_count": 1,
   "id": "1de769f2",
   "metadata": {},
   "outputs": [],
   "source": [
    "import pandas as pd \n",
    "import numpy as np "
   ]
  },
  {
   "cell_type": "code",
   "execution_count": 2,
   "id": "371cd15a",
   "metadata": {},
   "outputs": [
    {
     "data": {
      "text/html": [
       "<div>\n",
       "<style scoped>\n",
       "    .dataframe tbody tr th:only-of-type {\n",
       "        vertical-align: middle;\n",
       "    }\n",
       "\n",
       "    .dataframe tbody tr th {\n",
       "        vertical-align: top;\n",
       "    }\n",
       "\n",
       "    .dataframe thead th {\n",
       "        text-align: right;\n",
       "    }\n",
       "</style>\n",
       "<table border=\"1\" class=\"dataframe\">\n",
       "  <thead>\n",
       "    <tr style=\"text-align: right;\">\n",
       "      <th></th>\n",
       "      <th>day</th>\n",
       "      <th>outlook</th>\n",
       "      <th>temp</th>\n",
       "      <th>humidity</th>\n",
       "      <th>wind</th>\n",
       "      <th>play</th>\n",
       "    </tr>\n",
       "  </thead>\n",
       "  <tbody>\n",
       "    <tr>\n",
       "      <th>0</th>\n",
       "      <td>D1</td>\n",
       "      <td>Sunny</td>\n",
       "      <td>Hot</td>\n",
       "      <td>High</td>\n",
       "      <td>Weak</td>\n",
       "      <td>No</td>\n",
       "    </tr>\n",
       "    <tr>\n",
       "      <th>1</th>\n",
       "      <td>D2</td>\n",
       "      <td>Sunny</td>\n",
       "      <td>Hot</td>\n",
       "      <td>High</td>\n",
       "      <td>Strong</td>\n",
       "      <td>No</td>\n",
       "    </tr>\n",
       "    <tr>\n",
       "      <th>2</th>\n",
       "      <td>D3</td>\n",
       "      <td>Overcast</td>\n",
       "      <td>Hot</td>\n",
       "      <td>High</td>\n",
       "      <td>Weak</td>\n",
       "      <td>Yes</td>\n",
       "    </tr>\n",
       "    <tr>\n",
       "      <th>3</th>\n",
       "      <td>D4</td>\n",
       "      <td>Rain</td>\n",
       "      <td>Mild</td>\n",
       "      <td>High</td>\n",
       "      <td>Weak</td>\n",
       "      <td>Yes</td>\n",
       "    </tr>\n",
       "    <tr>\n",
       "      <th>4</th>\n",
       "      <td>D5</td>\n",
       "      <td>Rain</td>\n",
       "      <td>Cool</td>\n",
       "      <td>Normal</td>\n",
       "      <td>Weak</td>\n",
       "      <td>Yes</td>\n",
       "    </tr>\n",
       "    <tr>\n",
       "      <th>5</th>\n",
       "      <td>D6</td>\n",
       "      <td>Rain</td>\n",
       "      <td>Cool</td>\n",
       "      <td>Normal</td>\n",
       "      <td>Strong</td>\n",
       "      <td>No</td>\n",
       "    </tr>\n",
       "    <tr>\n",
       "      <th>6</th>\n",
       "      <td>D7</td>\n",
       "      <td>Overcast</td>\n",
       "      <td>Cool</td>\n",
       "      <td>Normal</td>\n",
       "      <td>Strong</td>\n",
       "      <td>Yes</td>\n",
       "    </tr>\n",
       "    <tr>\n",
       "      <th>7</th>\n",
       "      <td>D8</td>\n",
       "      <td>Sunny</td>\n",
       "      <td>Mild</td>\n",
       "      <td>High</td>\n",
       "      <td>Weak</td>\n",
       "      <td>No</td>\n",
       "    </tr>\n",
       "    <tr>\n",
       "      <th>8</th>\n",
       "      <td>D9</td>\n",
       "      <td>Sunny</td>\n",
       "      <td>Cool</td>\n",
       "      <td>Normal</td>\n",
       "      <td>Weak</td>\n",
       "      <td>Yes</td>\n",
       "    </tr>\n",
       "    <tr>\n",
       "      <th>9</th>\n",
       "      <td>D10</td>\n",
       "      <td>Rain</td>\n",
       "      <td>Mild</td>\n",
       "      <td>Normal</td>\n",
       "      <td>Weak</td>\n",
       "      <td>Yes</td>\n",
       "    </tr>\n",
       "    <tr>\n",
       "      <th>10</th>\n",
       "      <td>D11</td>\n",
       "      <td>Sunny</td>\n",
       "      <td>Mild</td>\n",
       "      <td>Normal</td>\n",
       "      <td>Strong</td>\n",
       "      <td>Yes</td>\n",
       "    </tr>\n",
       "    <tr>\n",
       "      <th>11</th>\n",
       "      <td>D12</td>\n",
       "      <td>Overcast</td>\n",
       "      <td>Mild</td>\n",
       "      <td>High</td>\n",
       "      <td>Strong</td>\n",
       "      <td>Yes</td>\n",
       "    </tr>\n",
       "    <tr>\n",
       "      <th>12</th>\n",
       "      <td>D13</td>\n",
       "      <td>Overcast</td>\n",
       "      <td>Hot</td>\n",
       "      <td>Normal</td>\n",
       "      <td>Weak</td>\n",
       "      <td>Yes</td>\n",
       "    </tr>\n",
       "    <tr>\n",
       "      <th>13</th>\n",
       "      <td>D14</td>\n",
       "      <td>Rain</td>\n",
       "      <td>Mild</td>\n",
       "      <td>High</td>\n",
       "      <td>Strong</td>\n",
       "      <td>No</td>\n",
       "    </tr>\n",
       "  </tbody>\n",
       "</table>\n",
       "</div>"
      ],
      "text/plain": [
       "    day   outlook  temp humidity    wind play\n",
       "0    D1     Sunny   Hot     High    Weak   No\n",
       "1    D2     Sunny   Hot     High  Strong   No\n",
       "2    D3  Overcast   Hot     High    Weak  Yes\n",
       "3    D4      Rain  Mild     High    Weak  Yes\n",
       "4    D5      Rain  Cool   Normal    Weak  Yes\n",
       "5    D6      Rain  Cool   Normal  Strong   No\n",
       "6    D7  Overcast  Cool   Normal  Strong  Yes\n",
       "7    D8     Sunny  Mild     High    Weak   No\n",
       "8    D9     Sunny  Cool   Normal    Weak  Yes\n",
       "9   D10      Rain  Mild   Normal    Weak  Yes\n",
       "10  D11     Sunny  Mild   Normal  Strong  Yes\n",
       "11  D12  Overcast  Mild     High  Strong  Yes\n",
       "12  D13  Overcast   Hot   Normal    Weak  Yes\n",
       "13  D14      Rain  Mild     High  Strong   No"
      ]
     },
     "execution_count": 2,
     "metadata": {},
     "output_type": "execute_result"
    }
   ],
   "source": [
    "df = pd.read_csv(\"play_tennis.csv\")  #importing test dataset into dataframe\n",
    "df"
   ]
  },
  {
   "cell_type": "code",
   "execution_count": 9,
   "id": "3165d7e4",
   "metadata": {},
   "outputs": [],
   "source": [
    "# Entropy of Data H(D) i.e class \n",
    "def EntropyD(data):  \n",
    "    unique , counts = np.unique(data , return_counts=True)\n",
    "    ans = 0\n",
    "    for i in counts: # applying entropy ka formula pilog2(pi) \n",
    "        ans += i/(len(data)) * np.log2(i/(len(data)))\n",
    "    \n",
    "    ans = (-1)*ans\n",
    "    return ans"
   ]
  },
  {
   "cell_type": "code",
   "execution_count": 121,
   "id": "afd0d123",
   "metadata": {},
   "outputs": [],
   "source": [
    "# Entropy of each column w.r.t class \n",
    "def entropy(feature,label):\n",
    "    \n",
    "    unique_label , counts_label = np.unique(label , return_counts=True)\n",
    "    unique_feature , counts_feature = np.unique(feature , return_counts=True)\n",
    "\n",
    "    yes = []\n",
    "    no  = []\n",
    "    yes_c = 0\n",
    "    no_c  = 0\n",
    "    for j in unique_feature: \n",
    "        yes_c = 0\n",
    "        no_c  = 0 \n",
    "        for i in range(len(feature)):\n",
    "            if j == feature[i]:\n",
    "                if  label[i] == 'Yes':\n",
    "                    yes_c +=1\n",
    "                else:\n",
    "                    no_c+=1\n",
    "\n",
    "        yes.append(yes_c)\n",
    "        no.append(no_c)\n",
    "        \n",
    "    entropyList=[]\n",
    "    for i in range(0,len(unique_feature)): # applying entropy ka formula pilog2(pi) \n",
    "        ans=0\n",
    "        if (yes[i]==0):\n",
    "            ans += (no[i]/(counts_feature[i])*np.log2(no[i]/(counts_feature[i])))\n",
    "        elif (no[i]==0):\n",
    "            ans += (yes[i]/(counts_feature[i])*np.log2(yes[i]/(counts_feature[i])))      \n",
    "        else:\n",
    "            ans += (yes[i]/(counts_feature[i])*np.log2(yes[i]/(counts_feature[i])))\n",
    "            ans += (no[i]/(counts_feature[i])*np.log2(no[i]/(counts_feature[i])))\n",
    "        ans = (-1)*ans\n",
    "        entropyList.append(ans)\n",
    "    \n",
    "    return entropyList, counts_feature"
   ]
  },
  {
   "cell_type": "code",
   "execution_count": 122,
   "id": "85050649",
   "metadata": {},
   "outputs": [],
   "source": [
    "def infoGain(feature, label):\n",
    "    list1, counts_feature= entropy(feature, label) # finding the entropy of each feature \n",
    "    label_en = EntropyD(label) # finding H(D)\n",
    "    total=0\n",
    "    for i in range(len(counts_feature)):\n",
    "        total += list1[i] * counts_feature[i]/len(label) # finding split entropy H(S)\n",
    "    \n",
    "    ig = label_en - total # information gain\n",
    "    \n",
    "    print(\"Information Gain:\" , ig)\n",
    "    \n",
    "    return ig"
   ]
  },
  {
   "cell_type": "code",
   "execution_count": 123,
   "id": "c00d4d21",
   "metadata": {},
   "outputs": [
    {
     "name": "stdout",
     "output_type": "stream",
     "text": [
      "Information Gain: 0.24674981977443922\n",
      "Information Gain: 0.02922256565895487\n",
      "Information Gain: 0.15183550136234159\n",
      "Information Gain: 0.04812703040826949\n"
     ]
    }
   ],
   "source": [
    "# information gain of each feature \n",
    "ig1 = infoGain(np.array(df['outlook']) , np.array(df['play']))\n",
    "ig2 = infoGain(np.array(df['temp']) , np.array(df['play']))\n",
    "ig3 = infoGain(np.array(df['humidity']) , np.array(df['play']))\n",
    "ig4 = infoGain(np.array(df['wind']) , np.array(df['play']))"
   ]
  },
  {
   "cell_type": "code",
   "execution_count": 124,
   "id": "a288eada",
   "metadata": {},
   "outputs": [],
   "source": [
    "data=[]\n",
    "for i in df['outlook'].unique():  # storing the unique values of outlook in a list \n",
    "    data.append(df[df['outlook']==i])  "
   ]
  },
  {
   "cell_type": "code",
   "execution_count": 125,
   "id": "fc6e1d80",
   "metadata": {},
   "outputs": [
    {
     "name": "stdout",
     "output_type": "stream",
     "text": [
      "    day outlook  temp humidity    wind play\n",
      "0    D1   Sunny   Hot     High    Weak   No\n",
      "1    D2   Sunny   Hot     High  Strong   No\n",
      "7    D8   Sunny  Mild     High    Weak   No\n",
      "8    D9   Sunny  Cool   Normal    Weak  Yes\n",
      "10  D11   Sunny  Mild   Normal  Strong  Yes \n",
      "\n",
      "    day   outlook  temp humidity    wind play\n",
      "2    D3  Overcast   Hot     High    Weak  Yes\n",
      "6    D7  Overcast  Cool   Normal  Strong  Yes\n",
      "11  D12  Overcast  Mild     High  Strong  Yes\n",
      "12  D13  Overcast   Hot   Normal    Weak  Yes \n",
      "\n",
      "    day outlook  temp humidity    wind play\n",
      "3    D4    Rain  Mild     High    Weak  Yes\n",
      "4    D5    Rain  Cool   Normal    Weak  Yes\n",
      "5    D6    Rain  Cool   Normal  Strong   No\n",
      "9   D10    Rain  Mild   Normal    Weak  Yes\n",
      "13  D14    Rain  Mild     High  Strong   No \n",
      "\n"
     ]
    }
   ],
   "source": [
    "# splitting data on the basis of Outlook ki unique values\n",
    "df1 = pd.DataFrame(data[0])\n",
    "print(df1, \"\\n\")\n",
    "df2 = pd.DataFrame(data[1])\n",
    "print(df2, \"\\n\")\n",
    "df3 = pd.DataFrame(data[2])\n",
    "print(df3, \"\\n\")"
   ]
  },
  {
   "cell_type": "markdown",
   "id": "6fa3641f",
   "metadata": {},
   "source": [
    "Overcast is pure so no need to further break it down"
   ]
  },
  {
   "cell_type": "code",
   "execution_count": 126,
   "id": "a54a96ce",
   "metadata": {},
   "outputs": [
    {
     "name": "stdout",
     "output_type": "stream",
     "text": [
      "Information Gain: 0.5709505944546686\n",
      "Information Gain: 0.9709505944546686\n",
      "Information Gain: 0.01997309402197478\n"
     ]
    }
   ],
   "source": [
    "ig2 = infoGain(np.array(df1['temp']) , np.array(df1['play']))\n",
    "ig3 = infoGain(np.array(df1['humidity']) , np.array(df1['play']))\n",
    "ig4 = infoGain(np.array(df1['wind']) , np.array(df1['play']))"
   ]
  },
  {
   "cell_type": "code",
   "execution_count": 127,
   "id": "53ae6087",
   "metadata": {},
   "outputs": [
    {
     "name": "stdout",
     "output_type": "stream",
     "text": [
      "High\n",
      "Normal\n"
     ]
    }
   ],
   "source": [
    "# as humidity has highest info gain \n",
    "data=[]\n",
    "for i in df1['humidity'].unique():\n",
    "    print(i)\n",
    "    data.append(df1[df1['humidity']==i]) "
   ]
  },
  {
   "cell_type": "code",
   "execution_count": 128,
   "id": "befd9b92",
   "metadata": {},
   "outputs": [
    {
     "name": "stdout",
     "output_type": "stream",
     "text": [
      "  day outlook  temp humidity    wind play\n",
      "0  D1   Sunny   Hot     High    Weak   No\n",
      "1  D2   Sunny   Hot     High  Strong   No\n",
      "7  D8   Sunny  Mild     High    Weak   No \n",
      "\n",
      "    day outlook  temp humidity    wind play\n",
      "8    D9   Sunny  Cool   Normal    Weak  Yes\n",
      "10  D11   Sunny  Mild   Normal  Strong  Yes \n",
      "\n"
     ]
    }
   ],
   "source": [
    "df4 = pd.DataFrame(data[0])\n",
    "print(df4, \"\\n\")\n",
    "df5 = pd.DataFrame(data[1])\n",
    "print(df5, \"\\n\")"
   ]
  },
  {
   "cell_type": "markdown",
   "id": "8e02ace6",
   "metadata": {},
   "source": [
    "No further splitting required as classes are pure"
   ]
  },
  {
   "cell_type": "code",
   "execution_count": 130,
   "id": "3a42a306",
   "metadata": {},
   "outputs": [
    {
     "name": "stdout",
     "output_type": "stream",
     "text": [
      "Information Gain: 0.01997309402197478\n",
      "Information Gain: 0.01997309402197478\n",
      "Information Gain: 0.9709505944546686\n"
     ]
    }
   ],
   "source": [
    "# When dataframe reduced w.r.t rain\n",
    "\n",
    "ig2 = infoGain(np.array(df3['temp']) , np.array(df3['play']))\n",
    "ig3 = infoGain(np.array(df3['humidity']) , np.array(df3['play']))\n",
    "ig4 = infoGain(np.array(df3['wind']) , np.array(df3['play']))"
   ]
  },
  {
   "cell_type": "code",
   "execution_count": 131,
   "id": "c9a1727a",
   "metadata": {},
   "outputs": [
    {
     "name": "stdout",
     "output_type": "stream",
     "text": [
      "Weak\n",
      "Strong\n"
     ]
    }
   ],
   "source": [
    "data=[]\n",
    "for i in df3['wind'].unique():\n",
    "    print(i)\n",
    "    data.append(df3[df3['wind']==i]) "
   ]
  },
  {
   "cell_type": "code",
   "execution_count": 132,
   "id": "169c97fd",
   "metadata": {},
   "outputs": [
    {
     "name": "stdout",
     "output_type": "stream",
     "text": [
      "   day outlook  temp humidity  wind play\n",
      "3   D4    Rain  Mild     High  Weak  Yes\n",
      "4   D5    Rain  Cool   Normal  Weak  Yes\n",
      "9  D10    Rain  Mild   Normal  Weak  Yes \n",
      "\n",
      "    day outlook  temp humidity    wind play\n",
      "5    D6    Rain  Cool   Normal  Strong   No\n",
      "13  D14    Rain  Mild     High  Strong   No \n",
      "\n"
     ]
    }
   ],
   "source": [
    "df7 = pd.DataFrame(data[0])\n",
    "print(df7, \"\\n\")\n",
    "df8 = pd.DataFrame(data[1])\n",
    "print(df8, \"\\n\")"
   ]
  },
  {
   "cell_type": "markdown",
   "id": "ccd662cd",
   "metadata": {},
   "source": [
    "No further splitting required as classes are pure"
   ]
  },
  {
   "cell_type": "code",
   "execution_count": 145,
   "id": "a979dce7",
   "metadata": {},
   "outputs": [],
   "source": [
    "# Decision tree made from above results \n",
    "def DT (test):\n",
    "    result = 0\n",
    "    if test[0]=='Overcast':\n",
    "        result = 'Yes'\n",
    "    elif test[0] == 'Rain':\n",
    "        if test[3] == 'Weak':\n",
    "            result='No'\n",
    "        elif test[3] == 'Strong':\n",
    "            result='Yes'\n",
    "    elif test[0] == 'Sunny':\n",
    "        if test[2] == 'High':\n",
    "            result = 'No'\n",
    "        elif test[2] == 'Normal':\n",
    "            result = 'Yes'\n",
    "                \n",
    "    return result        \n",
    " "
   ]
  },
  {
   "cell_type": "code",
   "execution_count": 146,
   "id": "62ae1fd5",
   "metadata": {},
   "outputs": [
    {
     "data": {
      "text/plain": [
       "'Yes'"
      ]
     },
     "execution_count": 146,
     "metadata": {},
     "output_type": "execute_result"
    }
   ],
   "source": [
    "t1=['Overcast' , 'Hot' , 'High' , 'Strong']\n",
    "DT(t1)"
   ]
  },
  {
   "cell_type": "code",
   "execution_count": 147,
   "id": "7339d1c5",
   "metadata": {},
   "outputs": [
    {
     "data": {
      "text/plain": [
       "'No'"
      ]
     },
     "execution_count": 147,
     "metadata": {},
     "output_type": "execute_result"
    }
   ],
   "source": [
    "t2=['Rain' , 'Cool' , 'High' , 'Weak']\n",
    "DT(t2)"
   ]
  },
  {
   "cell_type": "markdown",
   "id": "fa22cc16",
   "metadata": {},
   "source": [
    "### You have used Naïve Bayes for this dataset in the previous labs, can you tell where to use a decision tree and where to use Naïve Bayes?"
   ]
  },
  {
   "cell_type": "markdown",
   "id": "0baf0d08",
   "metadata": {},
   "source": [
    "The Naive Bayes is a classification algorithm that is suitable for binary and multiclass classification. It performs better for categorical input variables compared to numerical variables. It is useful for making predictions and forecasting data based on historical results\n",
    "\n",
    "Decision Tree can be used for both numeric and categorical data. It help evaluate your options and are excellent tools for choosing between several courses of action."
   ]
  },
  {
   "cell_type": "code",
   "execution_count": null,
   "id": "e2398566",
   "metadata": {},
   "outputs": [],
   "source": []
  }
 ],
 "metadata": {
  "kernelspec": {
   "display_name": "Python 3",
   "language": "python",
   "name": "python3"
  },
  "language_info": {
   "codemirror_mode": {
    "name": "ipython",
    "version": 3
   },
   "file_extension": ".py",
   "mimetype": "text/x-python",
   "name": "python",
   "nbconvert_exporter": "python",
   "pygments_lexer": "ipython3",
   "version": "3.8.8"
  }
 },
 "nbformat": 4,
 "nbformat_minor": 5
}
