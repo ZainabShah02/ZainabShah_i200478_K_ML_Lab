{
 "cells": [
  {
   "cell_type": "markdown",
   "id": "49421045",
   "metadata": {},
   "source": [
    "## Zainab Shah \n",
    "## 20I-0478 \n",
    "## ML Lab 3 "
   ]
  },
  {
   "cell_type": "markdown",
   "id": "4d5bd00b",
   "metadata": {},
   "source": [
    "### Task 1 "
   ]
  },
  {
   "cell_type": "code",
   "execution_count": 4,
   "id": "d5f3ac97",
   "metadata": {},
   "outputs": [
    {
     "name": "stdout",
     "output_type": "stream",
     "text": [
      "Input no. of cols:\n",
      "3\n",
      "[[7]\n",
      " [8]\n",
      " [8]]\n"
     ]
    }
   ],
   "source": [
    "import numpy as np  \n",
    "print(\"Input no. of cols:\")\n",
    "n=int(input())\n",
    "v1 = np.random.randint(low = 2, high = 9 , size = (n, 1))\n",
    "print(v1)"
   ]
  },
  {
   "cell_type": "markdown",
   "id": "f7f5b151",
   "metadata": {},
   "source": [
    "### Task 2 "
   ]
  },
  {
   "cell_type": "code",
   "execution_count": 5,
   "id": "ea1cd146",
   "metadata": {},
   "outputs": [
    {
     "name": "stdout",
     "output_type": "stream",
     "text": [
      "[-15]\n",
      "[-1.875]\n"
     ]
    },
    {
     "data": {
      "text/plain": [
       "array([[ 1.   ],\n",
       "       [ 1.   ],\n",
       "       [-1.875]])"
      ]
     },
     "execution_count": 5,
     "metadata": {},
     "output_type": "execute_result"
    }
   ],
   "source": [
    "A = sum(v1[:-1])*-1\n",
    "print(A)\n",
    "v = A/v1[-1]\n",
    "print(v)\n",
    "arr = np.ones(n)\n",
    "arr[-1]= v\n",
    "arr.reshape(n, 1)  # this is the orthogonal vector "
   ]
  },
  {
   "cell_type": "code",
   "execution_count": 6,
   "id": "38e51dfc",
   "metadata": {},
   "outputs": [
    {
     "data": {
      "text/plain": [
       "array([0.])"
      ]
     },
     "execution_count": 6,
     "metadata": {},
     "output_type": "execute_result"
    }
   ],
   "source": [
    "np.dot(v1.T, arr)"
   ]
  },
  {
   "cell_type": "code",
   "execution_count": 7,
   "id": "ad241d20",
   "metadata": {},
   "outputs": [
    {
     "name": "stdout",
     "output_type": "stream",
     "text": [
      "[1.57079633]\n"
     ]
    }
   ],
   "source": [
    "angle = np.arccos(np.dot(v1.T, arr))\n",
    "print(angle)"
   ]
  },
  {
   "cell_type": "markdown",
   "id": "04a00a64",
   "metadata": {},
   "source": [
    "### Task 3 "
   ]
  },
  {
   "cell_type": "code",
   "execution_count": 8,
   "id": "ea4e030b",
   "metadata": {},
   "outputs": [
    {
     "name": "stdout",
     "output_type": "stream",
     "text": [
      "[[0.]\n",
      " [0.]\n",
      " [0.]]\n",
      "[ 0.  0. -0.]\n"
     ]
    }
   ],
   "source": [
    "# Finding the projections ( a.b /|b| * b)\n",
    "p1 = np.dot(v1.T, arr)/np.dot(v1.T, v1)*v1 # orthogonal projecting onto original vector \n",
    "p2 = np.dot(arr.T, v1)/np.dot(arr.T, arr)*arr # originial vector onto orthogonal vector \n",
    "print(p1)\n",
    "print(p2)"
   ]
  },
  {
   "cell_type": "markdown",
   "id": "78457922",
   "metadata": {},
   "source": [
    "### Task 4 "
   ]
  },
  {
   "cell_type": "code",
   "execution_count": 9,
   "id": "e3c8dd8e",
   "metadata": {},
   "outputs": [],
   "source": [
    "# In this case initial vectors can not be found as the projections are zero\n",
    "# i.e vectors are perpendicular, independent from one another "
   ]
  },
  {
   "cell_type": "markdown",
   "id": "4b6343d5",
   "metadata": {},
   "source": [
    "### Task 5 "
   ]
  },
  {
   "cell_type": "code",
   "execution_count": 146,
   "id": "1b71786c",
   "metadata": {
    "scrolled": true
   },
   "outputs": [
    {
     "name": "stdout",
     "output_type": "stream",
     "text": [
      "[[5.01351351]\n",
      " [3.58108108]]\n",
      "[[7]\n",
      " [5]]\n",
      "[[4]\n",
      " [5]]\n"
     ]
    }
   ],
   "source": [
    "v2 = np.random.randint(low = 2, high = 9 , size = (2,1))\n",
    "v3 = np.random.randint(low = 2, high = 9 , size = (2,1))\n",
    "\n",
    "projectionX= np.dot(v2.T, v3)/np.dot(v2.T, v2)*v2\n",
    "print(projectionX)\n",
    "projectionY = np.dot(v3.T, v2)/np.dot(v3.T, v3)*v3\n",
    "print(v2)\n",
    "print(v3)"
   ]
  },
  {
   "cell_type": "code",
   "execution_count": 147,
   "id": "c58f0746",
   "metadata": {},
   "outputs": [
    {
     "data": {
      "image/png": "[encoded data removed]",
      "text/plain": [
       "<Figure size 360x360 with 1 Axes>"
      ]
     },
     "metadata": {
      "needs_background": "light"
     },
     "output_type": "display_data"
    }
   ],
   "source": [
    "import matplotlib.pyplot as plt\n",
    "\n",
    "fig = plt.figure(figsize=(5,5))\n",
    "m = fig.add_subplot(111)\n",
    "m.grid(alpha=0.3)\n",
    "m.set(xlim=(0, 15), ylim=(0, 15))\n",
    "# V2 \n",
    "m.annotate('', xy=v2, xytext=(0, 0), arrowprops=dict(facecolor='green'))\n",
    "# v3\n",
    "m.annotate('', xy=v3, xytext=(0, 0), arrowprops=dict(facecolor='blue'))\n",
    "# X Projection\n",
    "m.annotate('', xy=projectionX, xytext=(0, 0), arrowprops=dict(facecolor='red'))\n",
    "#  Y Projection \n",
    "m.annotate('', xy=projectionY, xytext=(0, 0), arrowprops=dict(facecolor='yellow'))\n",
    "\n",
    "plt.show()"
   ]
  },
  {
   "cell_type": "code",
   "execution_count": 155,
   "id": "e26547df",
   "metadata": {},
   "outputs": [
    {
     "name": "stderr",
     "output_type": "stream",
     "text": [
      "<ipython-input-155-8c6a9e7ac414>:1: RuntimeWarning: invalid value encountered in arccos\n",
      "  angle = np.arccos(np.dot(v3.T, v2))\n"
     ]
    },
    {
     "data": {
      "text/plain": [
       "array([[nan]])"
      ]
     },
     "execution_count": 155,
     "metadata": {},
     "output_type": "execute_result"
    }
   ],
   "source": [
    "angle = np.arccos(np.dot(v3.T, v2))\n",
    "angle"
   ]
  },
  {
   "cell_type": "markdown",
   "id": "c42a745b",
   "metadata": {},
   "source": [
    "### Task 6 "
   ]
  },
  {
   "cell_type": "code",
   "execution_count": 100,
   "id": "569f6db5",
   "metadata": {},
   "outputs": [
    {
     "name": "stdout",
     "output_type": "stream",
     "text": [
      "Eigen values:  [ 9.83727522 -0.25061646  0.05726033 -0.0439191 ]\n",
      "Eigen vectors:  [[-0.52955642  0.45570445 -0.10972786  0.05072119]\n",
      " [-0.49369692 -0.82342212  0.02810628 -0.02712648]\n",
      " [-0.48800707  0.32839825  0.18552805 -0.25638252]\n",
      " [-0.48752687 -0.08039939  0.97608871  0.96486243]]\n"
     ]
    }
   ],
   "source": [
    "from sklearn import datasets\n",
    "import pandas as pd \n",
    "iris_data = datasets.load_iris()\n",
    "df = pd.DataFrame(data=iris_data.data, columns=iris_data.feature_names)\n",
    "dff = df.to_numpy()\n",
    "\n",
    "\n",
    "# finding eigen value and vector of a chunk of data\n",
    "arr = []\n",
    "for i in range(0, 4):\n",
    "    arr.append(dff[i])\n",
    "   \n",
    "eival, evec = np.linalg.eig(arr)\n",
    "print(\"Eigen values: \",eival)\n",
    "print(\"Eigen vectors: \",evec)"
   ]
  },
  {
   "cell_type": "markdown",
   "id": "cd0cb5a5",
   "metadata": {},
   "source": [
    "### Task 7 "
   ]
  },
  {
   "cell_type": "code",
   "execution_count": 103,
   "id": "2d148b1d",
   "metadata": {},
   "outputs": [
    {
     "data": {
      "image/png": "[encoded data removed]",
      "text/plain": [
       "<Figure size 432x288 with 1 Axes>"
      ]
     },
     "metadata": {
      "needs_background": "light"
     },
     "output_type": "display_data"
    },
    {
     "data": {
      "image/png": "[encoded data removed]",
      "text/plain": [
       "<Figure size 432x288 with 1 Axes>"
      ]
     },
     "metadata": {
      "needs_background": "light"
     },
     "output_type": "display_data"
    }
   ],
   "source": [
    "# Centering the data\n",
    "# finding the mean\n",
    "mean = np.mean(dff,axis=0)\n",
    "o = np.ones((dff.shape))\n",
    "mean = o * mean \n",
    "#subtracting the mean from all the values \n",
    "Z = dff - mean\n",
    "#plotting graphs \n",
    "plt.subplot(1,2,2)\n",
    "plt.title(\"Before Zero-Centering\")\n",
    "plt.scatter(dff,mean)\n",
    "plt.show()\n",
    "\n",
    "plt.subplot(1,2,2)\n",
    "plt.title(\"After Zero-Centering\")\n",
    "plt.scatter(Z,mean)\n",
    "plt.show()"
   ]
  },
  {
   "cell_type": "markdown",
   "id": "a7f85276",
   "metadata": {},
   "source": [
    "### Task 8 "
   ]
  },
  {
   "cell_type": "code",
   "execution_count": 113,
   "id": "1faae2a3",
   "metadata": {},
   "outputs": [
    {
     "name": "stdout",
     "output_type": "stream",
     "text": [
      "eigen values:  [-6.82171438e-01+5.09154653j -6.82171438e-01-5.09154653j\n",
      " -4.80656197e+00+0.j          6.90739450e-01+4.38749013j\n",
      "  6.90739450e-01-4.38749013j  4.08282213e+00+0.j\n",
      " -2.38704040e+00+2.45944591j -2.38704040e+00-2.45944591j\n",
      " -2.88765246e+00+1.00662288j -2.88765246e+00-1.00662288j\n",
      "  2.35208382e+00+1.48830841j  2.35208382e+00-1.48830841j\n",
      " -1.77891891e+00+1.76168523j -1.77891891e+00-1.76168523j\n",
      "  1.85563900e-02+2.42542285j  1.85563900e-02-2.42542285j\n",
      " -1.83814244e+00+0.j          2.02677080e+00+0.25087648j\n",
      "  2.02677080e+00-0.25087648j  2.03282659e+00+0.j\n",
      "  6.89773418e-01+1.76568722j  6.89773418e-01-1.76568722j\n",
      "  1.19971044e+00+1.44009865j  1.19971044e+00-1.44009865j\n",
      " -8.05023573e-01+1.60187976j -8.05023573e-01-1.60187976j\n",
      "  1.70177942e+00+0.j         -1.31026183e+00+0.54002338j\n",
      " -1.31026183e+00-0.54002338j  7.99522778e-01+1.01270386j\n",
      "  7.99522778e-01-1.01270386j  1.26774913e+00+0.j\n",
      "  9.23476979e-01+0.82162257j  9.23476979e-01-0.82162257j\n",
      " -8.10198482e-01+0.99253571j -8.10198482e-01-0.99253571j\n",
      " -1.21238128e+00+0.21064004j -1.21238128e+00-0.21064004j\n",
      " -1.15883316e+00+0.j         -7.86900423e-01+0.87430184j\n",
      " -7.86900423e-01-0.87430184j  1.12613313e-01+1.14470928j\n",
      "  1.12613313e-01-1.14470928j -2.97706761e-01+1.08813325j\n",
      " -2.97706761e-01-1.08813325j  1.10899895e+00+0.30687334j\n",
      "  1.10899895e+00-0.30687334j  1.96347164e-01+0.90681167j\n",
      "  1.96347164e-01-0.90681167j  8.63168079e-01+0.26360765j\n",
      "  8.63168079e-01-0.26360765j -5.91980181e-01+0.66351807j\n",
      " -5.91980181e-01-0.66351807j  6.98454725e-01+0.45087874j\n",
      "  6.98454725e-01-0.45087874j  1.00811531e-01+0.82020361j\n",
      "  1.00811531e-01-0.82020361j -7.41270651e-01+0.20859296j\n",
      " -7.41270651e-01-0.20859296j -5.88298942e-01+0.4890982j\n",
      " -5.88298942e-01-0.4890982j  -1.67738710e-01+0.7360068j\n",
      " -1.67738710e-01-0.7360068j   1.17969369e-01+0.67336018j\n",
      "  1.17969369e-01-0.67336018j  5.81372481e-01+0.20171193j\n",
      "  5.81372481e-01-0.20171193j  4.84196077e-01+0.35224848j\n",
      "  4.84196077e-01-0.35224848j -5.41259603e-01+0.14244792j\n",
      " -5.41259603e-01-0.14244792j -3.24176589e-01+0.37615668j\n",
      " -3.24176589e-01-0.37615668j  1.96999143e-01+0.41019532j\n",
      "  1.96999143e-01-0.41019532j -3.23819394e-01+0.29986217j\n",
      " -3.23819394e-01-0.29986217j -1.72185624e-02+0.43827913j\n",
      " -1.72185624e-02-0.43827913j  1.17463728e-02+0.3974716j\n",
      "  1.17463728e-02-0.3974716j  -3.58980926e-01+0.13938872j\n",
      " -3.58980926e-01-0.13938872j  4.49201431e-01+0.j\n",
      "  3.63362906e-01+0.j          2.92073069e-01+0.j\n",
      "  2.09368309e-01+0.09900554j  2.09368309e-01-0.09900554j\n",
      " -5.99533215e-02+0.14976208j -5.99533215e-02-0.14976208j\n",
      " -1.66726714e-01+0.j         -1.35506114e-01+0.j\n",
      "  1.01490627e-02+0.09911315j  1.01490627e-02-0.09911315j\n",
      "  3.81445844e-07+0.j         -7.70431854e-03+0.04898241j\n",
      " -7.70431854e-03-0.04898241j]\n",
      "eigen vectors:  [[ 3.83672972e-02-2.83424475e-02j  3.83672972e-02+2.83424475e-02j\n",
      "   6.08723978e-02+0.00000000e+00j ...  2.35485008e-08+0.00000000e+00j\n",
      "   1.05037332e-03-5.22787936e-05j  1.05037332e-03+5.22787936e-05j]\n",
      " [ 7.47963840e-03-1.63485168e-02j  7.47963840e-03+1.63485168e-02j\n",
      "   1.71827833e-01+0.00000000e+00j ...  1.02062104e-01+0.00000000e+00j\n",
      "   1.05139735e-01+1.88200563e-02j  1.05139735e-01-1.88200563e-02j]\n",
      " [ 2.56830267e-02-1.26018986e-02j  2.56830267e-02+1.26018986e-02j\n",
      "   5.60993755e-02+0.00000000e+00j ...  1.02062028e-01+0.00000000e+00j\n",
      "   8.58055824e-02+1.87359823e-02j  8.58055824e-02-1.87359823e-02j]\n",
      " ...\n",
      " [ 3.34280011e-02-1.19011773e-01j  3.34280011e-02+1.19011773e-01j\n",
      "   1.13366702e-02+0.00000000e+00j ...  1.02062062e-01+0.00000000e+00j\n",
      "   9.11635056e-02+1.19397816e-02j  9.11635056e-02-1.19397816e-02j]\n",
      " [ 6.87369495e-03-4.67912453e-02j  6.87369495e-03+4.67912453e-02j\n",
      "  -7.94496714e-03+0.00000000e+00j ...  1.02062082e-01+0.00000000e+00j\n",
      "   1.05256387e-01+2.64863457e-02j  1.05256387e-01-2.64863457e-02j]\n",
      " [-2.16941219e-02-5.55863513e-02j -2.16941219e-02+5.55863513e-02j\n",
      "   1.33773857e-01+0.00000000e+00j ...  1.02062099e-01+0.00000000e+00j\n",
      "   8.82743065e-02+1.42546002e-02j  8.82743065e-02-1.42546002e-02j]]\n"
     ]
    }
   ],
   "source": [
    "t8 = np.genfromtxt('ECG200_TRAIN.csv',delimiter='  ')\n",
    "\n",
    "arr = []\n",
    "for i in range(0,97):\n",
    "    arr.append(t8[i])\n",
    "    \n",
    "eival, evec = np.linalg.eig(arr)\n",
    "print(\"eigen values: \",eival)\n",
    "print(\"eigen vectors: \",evec)"
   ]
  },
  {
   "cell_type": "code",
   "execution_count": 114,
   "id": "d64b1520",
   "metadata": {},
   "outputs": [
    {
     "data": {
      "image/png": "[encoded data removed]",
      "text/plain": [
       "<Figure size 432x288 with 1 Axes>"
      ]
     },
     "metadata": {
      "needs_background": "light"
     },
     "output_type": "display_data"
    },
    {
     "data": {
      "image/png": "[encoded data removed]",
      "text/plain": [
       "<Figure size 432x288 with 1 Axes>"
      ]
     },
     "metadata": {
      "needs_background": "light"
     },
     "output_type": "display_data"
    }
   ],
   "source": [
    "mean = np.mean(t8,axis=0)\n",
    "o = np.ones((t8.shape))\n",
    "mean = o * mean \n",
    "#subtracting the mean from all the values \n",
    "Z = t8 - mean\n",
    "#plotting graphs \n",
    "plt.subplot(1,2,2)\n",
    "plt.title(\"Before Zero-Centering\")\n",
    "plt.scatter(t8,mean)\n",
    "plt.show()\n",
    "\n",
    "plt.subplot(1,2,2)\n",
    "plt.title(\"After Zero-Centering\")\n",
    "plt.scatter(Z,mean)\n",
    "plt.show()"
   ]
  },
  {
   "cell_type": "code",
   "execution_count": null,
   "id": "6d109cb9",
   "metadata": {},
   "outputs": [],
   "source": []
  },
  {
   "cell_type": "code",
   "execution_count": null,
   "id": "2836e4ae",
   "metadata": {},
   "outputs": [],
   "source": []
  }
 ],
 "metadata": {
  "kernelspec": {
   "display_name": "Python 3",
   "language": "python",
   "name": "python3"
  },
  "language_info": {
   "codemirror_mode": {
    "name": "ipython",
    "version": 3
   },
   "file_extension": ".py",
   "mimetype": "text/x-python",
   "name": "python",
   "nbconvert_exporter": "python",
   "pygments_lexer": "ipython3",
   "version": "3.8.8"
  }
 },
 "nbformat": 4,
 "nbformat_minor": 5
}
