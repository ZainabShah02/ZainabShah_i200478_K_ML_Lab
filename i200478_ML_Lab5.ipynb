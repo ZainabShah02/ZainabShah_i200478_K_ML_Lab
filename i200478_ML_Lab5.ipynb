{
 "cells": [
  {
   "cell_type": "code",
   "execution_count": 5,
   "id": "4e948a92",
   "metadata": {},
   "outputs": [],
   "source": [
    "import pandas as pd\n",
    "import numpy as np"
   ]
  },
  {
   "cell_type": "code",
   "execution_count": 6,
   "id": "3d6e53ee",
   "metadata": {},
   "outputs": [
    {
     "name": "stdout",
     "output_type": "stream",
     "text": [
      "       SepalLength  SepalWidth  PetalLength  PetalWidth\n",
      "count   149.000000  149.000000   149.000000  149.000000\n",
      "mean      5.848322    3.051007     3.774497    1.205369\n",
      "std       0.828594    0.433499     1.759651    0.761292\n",
      "min       4.300000    2.000000     1.000000    0.100000\n",
      "25%       5.100000    2.800000     1.600000    0.300000\n",
      "50%       5.800000    3.000000     4.400000    1.300000\n",
      "75%       6.400000    3.300000     5.100000    1.800000\n",
      "max       7.900000    4.400000     6.900000    2.500000\n"
     ]
    }
   ],
   "source": [
    "data=pd.read_csv('iris.data')\n",
    "data.columns=['SepalLength','SepalWidth','PetalLength','PetalWidth','Class']\n",
    "print (data.describe())"
   ]
  },
  {
   "cell_type": "code",
   "execution_count": 8,
   "id": "fcb4b7b1",
   "metadata": {},
   "outputs": [],
   "source": [
    "datalist=[] \n",
    "datalist.append(list(data['SepalLength'].dropna()))\n",
    "datalist.append(list(data['SepalWidth'].dropna()))\n",
    "datalist.append(list(data['PetalLength'].dropna()))\n",
    "datalist.append(list(data['PetalWidth'].dropna()))\n",
    "\n",
    "X = np.array(data.drop('Class',axis=1))\n",
    "versicolor = X[50:]\n",
    "virginica = versicolor[:50]\n",
    "setosa = X[:50]"
   ]
  },
  {
   "cell_type": "markdown",
   "id": "1a61bffb",
   "metadata": {},
   "source": [
    "### Task 1"
   ]
  },
  {
   "cell_type": "code",
   "execution_count": 9,
   "id": "01577103",
   "metadata": {},
   "outputs": [],
   "source": [
    "def factorial(num):\n",
    "    f = 1\n",
    "    for i in range(1, num+1): \n",
    "        f *= i\n",
    "    return f"
   ]
  },
  {
   "cell_type": "code",
   "execution_count": 10,
   "id": "3472e76a",
   "metadata": {},
   "outputs": [],
   "source": [
    "def task1(arr):\n",
    "    \n",
    "    comb = factorial(15)/(factorial(3)*factorial(15-3))\n",
    "    r = arr[0]\n",
    "    w = arr[1]\n",
    "    b = arr[2]\n",
    "    pred = factorial(4)/(factorial(r)*factorial(4-r))\n",
    "    pwhite = factorial(6)/(factorial(w)*factorial(6-w))\n",
    "    pblue = factorial(5)/(factorial(b)*factorial(5-b))\n",
    "    return (pred*pwhite*pblue)/comb\n",
    "    \n",
    "    "
   ]
  },
  {
   "cell_type": "code",
   "execution_count": 27,
   "id": "382e679f",
   "metadata": {},
   "outputs": [
    {
     "name": "stdout",
     "output_type": "stream",
     "text": [
      "[1, 1, 1]\n"
     ]
    }
   ],
   "source": [
    "cred = [0,1,2,3]\n",
    "cblue = [0,1,2,3]\n",
    "cwhite = [0,1,2,3]\n",
    "\n",
    "\n",
    "jtable=[]\n",
    "pl=[]\n",
    "\n",
    "for i in range(0,4):\n",
    "    for j in range(0,4):\n",
    "        for k in range(0,4):\n",
    "            if((i+j+k)==3):\n",
    "                x = [i,j,k]\n",
    "                jtable.append(x)          \n",
    "\n",
    "\n",
    "for i in range(len(jtable)):\n",
    "    pl.append(task1(jtable[i]))\n",
    "\n",
    "MaxI = pl.index(max(pl))\n",
    "\n",
    "\n",
    "print(jtable[MaxI])"
   ]
  },
  {
   "cell_type": "markdown",
   "id": "f8ab9b97",
   "metadata": {},
   "source": [
    "### Task 2"
   ]
  },
  {
   "cell_type": "code",
   "execution_count": 28,
   "id": "5e80f3f8",
   "metadata": {},
   "outputs": [],
   "source": [
    "\n",
    "import math\n",
    "from sklearn.naive_bayes import GaussianNB\n",
    "from math import pi,e"
   ]
  },
  {
   "cell_type": "code",
   "execution_count": 31,
   "id": "a9d63220",
   "metadata": {},
   "outputs": [],
   "source": [
    "def task2(arr):\n",
    "    covar = np.cov(arr)\n",
    "    diagonal = covar.diagonal()\n",
    "    zeroArr = np.zeros((4,4))\n",
    "\n",
    "\n",
    "    for i in range(0,4):\n",
    "        for j in range(0,4):\n",
    "            if (i==j):\n",
    "                zeroArr[i][j] = diagonal[i]\n",
    "\n",
    "    mean = arr.mean()\n",
    "    deter = np.linalg.det(zeroArr)\n",
    "    inverse = np.linalg.inv(zeroArr)\n",
    "\n",
    "\n",
    "    return mean, deter, inverse\n",
    "\n",
    "\n",
    "# Naive Bayes Func\n",
    "def gaussianpdf(X, mean, deter, inverse):\n",
    "    n = 4 \n",
    "    qq = 1/math.sqrt(((2*2.14)**4)*deter)\n",
    "    tp = np.transpose(-(X/2)-mean)    \n",
    "    dot1 = np.dot(inverse,(X-mean))\n",
    "    dot2 = np.dot(tp,dot1)   \n",
    "    ans = qq*(2.71**(dot2))\n",
    "    return ans  \n"
   ]
  },
  {
   "cell_type": "code",
   "execution_count": 32,
   "id": "4c907e95",
   "metadata": {},
   "outputs": [
    {
     "name": "stdout",
     "output_type": "stream",
     "text": [
      "Probability of Versicolor: 0.00013733464802075627\n",
      "Probability of Virginica: 1.2334157164812e-05\n",
      "Probability of Setosa: 3.1700054848644564e-07\n"
     ]
    }
   ],
   "source": [
    "# Versicolor \n",
    "mean, det, inverse = task2(versicolor)\n",
    "vers = gaussianpdf(np.array([6.3,2.8,5.1,1.5], dtype='float32'), mean, det, inverse)\n",
    "print(\"Probability of Versicolor:\", vers*(len(versicolor)/149))\n",
    "\n",
    "\n",
    "\n",
    "# Virginica\n",
    "mean, det, inverse = task2(virginica)\n",
    "virg = gaussianpdf(np.array([6.3,2.8,5.1,1.5], dtype='float32'), mean, det, inverse)\n",
    "print(\"Probability of Virginica:\", virg*(len(virginica)/149))\n",
    "\n",
    "\n",
    "\n",
    "# Setosa \n",
    "mean, det, inverse = task2(setosa)\n",
    "seto = gaussianpdf(np.array([6.3,2.8,5.1,1.5], dtype='float32'), mean, det, inverse)\n",
    "print(\"Probability of Setosa:\", seto*(len(setosa)/149))"
   ]
  },
  {
   "cell_type": "code",
   "execution_count": null,
   "id": "3cb0f84b",
   "metadata": {},
   "outputs": [],
   "source": []
  }
 ],
 "metadata": {
  "kernelspec": {
   "display_name": "Python 3",
   "language": "python",
   "name": "python3"
  },
  "language_info": {
   "codemirror_mode": {
    "name": "ipython",
    "version": 3
   },
   "file_extension": ".py",
   "mimetype": "text/x-python",
   "name": "python",
   "nbconvert_exporter": "python",
   "pygments_lexer": "ipython3",
   "version": "3.8.8"
  }
 },
 "nbformat": 4,
 "nbformat_minor": 5
}
