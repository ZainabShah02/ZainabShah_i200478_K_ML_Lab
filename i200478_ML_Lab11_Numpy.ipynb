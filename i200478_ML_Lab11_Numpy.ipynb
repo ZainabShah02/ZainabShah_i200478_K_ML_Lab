{
 "cells": [
  {
   "cell_type": "markdown",
   "metadata": {},
   "source": [
    "### Zainab Shah\n",
    "### 20I-0478 "
   ]
  },
  {
   "cell_type": "markdown",
   "metadata": {},
   "source": [
    "### Numpy Exercise\n",
    "In this exercise, we will be working with a dataset with the information of baseball players. Here is the code to read the dataset and convert it into lists."
   ]
  },
  {
   "cell_type": "code",
   "execution_count": 4,
   "metadata": {},
   "outputs": [
    {
     "name": "stdout",
     "output_type": "stream",
     "text": [
      "Populating the interactive namespace from numpy and matplotlib\n"
     ]
    }
   ],
   "source": [
    "%pylab inline"
   ]
  },
  {
   "cell_type": "code",
   "execution_count": 5,
   "metadata": {},
   "outputs": [],
   "source": [
    "import pandas as pd"
   ]
  },
  {
   "cell_type": "code",
   "execution_count": 6,
   "metadata": {},
   "outputs": [],
   "source": [
    "bbdata=pd.read_csv('baseball.csv')\n",
    "\n",
    "height=list(bbdata['height'])\n",
    "weight=list(bbdata['weights'])"
   ]
  },
  {
   "cell_type": "code",
   "execution_count": 7,
   "metadata": {},
   "outputs": [
    {
     "data": {
      "text/plain": [
       "<matplotlib.collections.PathCollection at 0x2774e5706a0>"
      ]
     },
     "execution_count": 7,
     "metadata": {},
     "output_type": "execute_result"
    },
    {
     "data": {
      "image/png": "[encoded data removed]",
      "text/plain": [
       "<Figure size 432x288 with 1 Axes>"
      ]
     },
     "metadata": {
      "needs_background": "light"
     },
     "output_type": "display_data"
    }
   ],
   "source": [
    "plt.scatter(height,weight)"
   ]
  },
  {
   "cell_type": "markdown",
   "metadata": {},
   "source": [
    "### Real Work begins\n",
    "We have height and weidths as lists now, you task is to convert them into numpy arrays and then acheive the following insights.\n",
    "The units are height in inches, weight in Kgs"
   ]
  },
  {
   "cell_type": "code",
   "execution_count": 8,
   "metadata": {},
   "outputs": [
    {
     "name": "stdout",
     "output_type": "stream",
     "text": [
      "Height in Inches:  [74 74 72 ... 75 75 73]\n",
      "\n",
      "Weight in Kg:  [180. 215. 210. ... 205. 190. 195.]\n"
     ]
    }
   ],
   "source": [
    "# height is available as a regular list\n",
    "\n",
    "# Import numpy\n",
    "import numpy as np\n",
    "\n",
    "# Create a Numpy array from height: np_height\n",
    "np_height = np.array(height)\n",
    "\n",
    "# Print out np_height\n",
    "print('Height in Inches: ', np_height)\n",
    "\n",
    "\n",
    "# Create array from weight with correct units: np_weight_kg \n",
    "np_weight_kg = np.array(weight)\n",
    "\n",
    "# print the array np_weight_kg\n",
    "print(\"\\nWeight in Kg: \", np_weight_kg)"
   ]
  },
  {
   "cell_type": "markdown",
   "metadata": {},
   "source": [
    "* 1 meter = 39.3701 inches"
   ]
  },
  {
   "cell_type": "code",
   "execution_count": 9,
   "metadata": {},
   "outputs": [
    {
     "name": "stdout",
     "output_type": "stream",
     "text": [
      "[1.87959899 1.87959899 1.82879901 ... 1.90499897 1.90499897 1.854199  ]\n"
     ]
    }
   ],
   "source": [
    "# Convert np_height to meters: np_height_m\n",
    "np_height_m = np.divide(np_height, 39.3701)\n",
    "\n",
    "# Print np_height_m\n",
    "print(np_height_m)"
   ]
  },
  {
   "cell_type": "markdown",
   "metadata": {},
   "source": [
    "- BMI=weight(kg)/(height (in m)**2)"
   ]
  },
  {
   "cell_type": "code",
   "execution_count": 10,
   "metadata": {},
   "outputs": [
    {
     "name": "stdout",
     "output_type": "stream",
     "text": [
      "[50.94975517 60.85665201 62.78954524 ... 56.48906288 52.35571681\n",
      " 56.71813303]\n"
     ]
    }
   ],
   "source": [
    "# Calculate the BMI: bmi\n",
    "\n",
    "bmi = np.divide(np_weight_kg, np_height_m**2)\n",
    "\n",
    "# Print out bmi\n",
    "print(bmi)"
   ]
  },
  {
   "cell_type": "markdown",
   "metadata": {},
   "source": [
    "Create a boolean Numpy array: the element of the array should be True if the corresponding baseball player's BMI is below 21. You can use the < operator for this. Name the array light.\n",
    "Print the array light.\n",
    "Print out a Numpy array with the BMIs of all baseball players whose BMI is below 21. Use light inside square brackets to do a selection on the bmi array.\n"
   ]
  },
  {
   "cell_type": "code",
   "execution_count": 11,
   "metadata": {},
   "outputs": [
    {
     "name": "stdout",
     "output_type": "stream",
     "text": [
      "[False False False ... False False False]\n"
     ]
    }
   ],
   "source": [
    "print (bmi < 21)"
   ]
  },
  {
   "cell_type": "code",
   "execution_count": 12,
   "metadata": {},
   "outputs": [
    {
     "name": "stdout",
     "output_type": "stream",
     "text": [
      "[[180.   78.4]\n",
      " [215.  102.7]\n",
      " [210.   98.5]\n",
      " [188.   75.2]]\n",
      "(4, 2)\n"
     ]
    }
   ],
   "source": [
    "# Create baseball, a list of lists\n",
    "baseball = [[180, 78.4],\n",
    "            [215, 102.7],\n",
    "            [210, 98.5],\n",
    "            [188, 75.2]]\n",
    "\n",
    "# Import numpy\n",
    "import numpy as np\n",
    "\n",
    "# Create a 2D Numpy array from baseball: np_baseball\n",
    "np_baseball = np.array(baseball)\n",
    "\n",
    "# Print out the type of np_baseball\n",
    "print(np_baseball)\n",
    "\n",
    "# Print out the shape of np_baseball\n",
    "print(np_baseball.shape)"
   ]
  },
  {
   "cell_type": "code",
   "execution_count": 13,
   "metadata": {},
   "outputs": [
    {
     "name": "stdout",
     "output_type": "stream",
     "text": [
      "(1034, 2)\n"
     ]
    }
   ],
   "source": [
    "# Create a 2D Numpy array named np_baseball from the lists of weight and height\n",
    "np_baseball2 = list(zip(height, weight))\n",
    "np_baseball2 = np.array(np_baseball2)\n",
    "\n",
    "# Print out the shape of np_baseball\n",
    "print(np_baseball2.shape)"
   ]
  },
  {
   "cell_type": "markdown",
   "metadata": {},
   "source": [
    "- If you want to convert the units of height and weight. As a first step, create a Numpy array with two values: 0.0254, 0.453592. Name this array conversion.\n",
    "Multiply np_baseball with conversion and print out the result."
   ]
  },
  {
   "cell_type": "code",
   "execution_count": 14,
   "metadata": {},
   "outputs": [
    {
     "name": "stdout",
     "output_type": "stream",
     "text": [
      "[40.1336128 52.0448984 50.012812  38.8853184]\n"
     ]
    }
   ],
   "source": [
    "arr = [0.0254, 0.453592]\n",
    "arr = np.array(arr)\n",
    "print(np.matmul(np_baseball, arr))"
   ]
  },
  {
   "cell_type": "markdown",
   "metadata": {},
   "source": [
    "### Now it's time for some statistics"
   ]
  },
  {
   "cell_type": "code",
   "execution_count": 15,
   "metadata": {},
   "outputs": [
    {
     "name": "stdout",
     "output_type": "stream",
     "text": [
      "73.6972920696325\n",
      "74.0\n",
      "Median: 74.0\n",
      "Standard Deviation: 2.304703041620148\n",
      "Correlation: [15381379.]\n"
     ]
    }
   ],
   "source": [
    "# Print out the mean of np_height\n",
    "meanH = np.mean(np_height)\n",
    "print(meanH)\n",
    "\n",
    "# Print out the median of np_height\n",
    "medianH = np.median(np_height)\n",
    "print(medianH)\n",
    "\n",
    "# Print median height. Replace 'None'\n",
    "print(\"Median: \" + str(medianH))\n",
    "\n",
    "# Print out the standard deviation on height. Replace 'None'\n",
    "sd = np.std(np_height)\n",
    "print(\"Standard Deviation: \" + str(sd))\n",
    "\n",
    "# Print out correlation between first and second column. Replace 'None'\n",
    "\n",
    "height1 = np.nan_to_num(height, nan=meanH)\n",
    "weight1 = np.nan_to_num(weight, nan=0)\n",
    "corr = np.correlate(height1, weight1)\n",
    "print(\"Correlation: \" + str(corr))"
   ]
  },
  {
   "cell_type": "code",
   "execution_count": 16,
   "metadata": {},
   "outputs": [
    {
     "data": {
      "text/plain": [
       "928"
      ]
     },
     "execution_count": 16,
     "metadata": {},
     "output_type": "execute_result"
    }
   ],
   "source": [
    "# Print the index of player with maximum height\n",
    "maxH = np.argmax(np_height)\n",
    "maxH"
   ]
  },
  {
   "cell_type": "code",
   "execution_count": 17,
   "metadata": {},
   "outputs": [
    {
     "name": "stdout",
     "output_type": "stream",
     "text": [
      "[6.16666667 6.16666667 6.         ... 6.25       6.25       6.08333333]\n",
      "[6. 6. 6. ... 6. 6. 6.]\n"
     ]
    }
   ],
   "source": [
    "#Replace all the players height greater than 6 Feet with 6 Feet\n",
    "height_feet = np_height / 12\n",
    "print(height_feet)\n",
    "height_feet[height_feet > 6] = 6\n",
    "print(height_feet)"
   ]
  },
  {
   "cell_type": "code",
   "execution_count": 18,
   "metadata": {},
   "outputs": [
    {
     "data": {
      "text/plain": [
       "1033"
      ]
     },
     "execution_count": 18,
     "metadata": {},
     "output_type": "execute_result"
    }
   ],
   "source": [
    "#Count number of players with weight greater than 75 kg..\n",
    "count = (np_weight_kg > 75).sum()\n",
    "count"
   ]
  },
  {
   "cell_type": "code",
   "execution_count": 19,
   "metadata": {},
   "outputs": [],
   "source": [
    "# Sort the height, and get the sorting index as well\n",
    "np_height_m = np_height_m.sort()"
   ]
  },
  {
   "cell_type": "code",
   "execution_count": 20,
   "metadata": {},
   "outputs": [
    {
     "name": "stdout",
     "output_type": "stream",
     "text": [
      "(2, 4)\n",
      "(4, 2)\n"
     ]
    }
   ],
   "source": [
    "#Reshape the 2 x Number of Players array to Number of Players x 2\n",
    "print(reshape(np_baseball,(2,4)).shape)\n",
    "print(np_baseball.shape)"
   ]
  },
  {
   "cell_type": "code",
   "execution_count": 21,
   "metadata": {},
   "outputs": [
    {
     "data": {
      "text/plain": [
       "<matplotlib.collections.PathCollection at 0x2774e68f100>"
      ]
     },
     "execution_count": 21,
     "metadata": {},
     "output_type": "execute_result"
    },
    {
     "data": {
      "image/png": "[encoded data removed]",
      "text/plain": [
       "<Figure size 432x288 with 1 Axes>"
      ]
     },
     "metadata": {
      "needs_background": "light"
     },
     "output_type": "display_data"
    }
   ],
   "source": [
    "#Generate Scatter Plot, See plt.scatter, use height as one axis and weight as second axis\n",
    "plt.scatter(height,weight)"
   ]
  },
  {
   "cell_type": "code",
   "execution_count": 22,
   "metadata": {},
   "outputs": [
    {
     "data": {
      "image/png": "[encoded data removed]",
      "text/plain": [
       "<Figure size 432x288 with 1 Axes>"
      ]
     },
     "metadata": {
      "needs_background": "light"
     },
     "output_type": "display_data"
    }
   ],
   "source": [
    "#Now choose a random player, and project player height and weight to this random player, you can plot\n",
    "# the vector using plt.arrow function\n",
    "a = np.random.randint(0,1000)\n",
    "plt.xlabel(\"Height in inches\")\n",
    "plt.ylabel(\"Weight in pounds\")\n",
    "plt.plot(height,weight)\n",
    "plt.arrow(60, 150, height[a],weight[a], width = 2)\n",
    "# Showing the graph\n",
    "plt.show()\n"
   ]
  },
  {
   "cell_type": "markdown",
   "metadata": {},
   "source": [
    "#### Advanced Operations"
   ]
  },
  {
   "cell_type": "markdown",
   "metadata": {},
   "source": [
    "1. Construct an array from the list: [1,2,3]\n",
    "2. Cast it into floats\n",
    "3. Create an array of int ranging from 0-10 \n",
    "4. Create an array containing 7 evenly spaced numbers between 0 and 23\n",
    "5. Create an array with shape (2,5,1,5,2,1) containing only the number 5\n",
    "6. Eliminate all length-1 dimensions. See the function squeeze.\n",
    "7. Reshape the resulting array from shape (2,5,3,2) to only 2D\n",
    "8. Calculate the mean, std, var, max, min, of an array with shape (3,3,12,3) containing floats drawn\n",
    "from a normal distribution with mean 21 and sigma 4.5. see the np.random.normal.\n",
    "9. Do the same but not on all elements but only on the 2nd dimension. \n",
    "10. Transform the array such that it is only 1d. See the function Flatten or ravel\n",
    "11. Remove all values smaller 15 and larger 26.\n",
    "12. Clip all values smaller 15 and larger 26 to NaN. See the function Clip\n",
    "13. Calculate the sum of the resulting array. It should not be NaN!.\n",
    "14. Convert the NaN’s to 0.0. See Where\n",
    "15. Save the array and load it again."
   ]
  },
  {
   "cell_type": "code",
   "execution_count": 23,
   "metadata": {},
   "outputs": [
    {
     "data": {
      "text/plain": [
       "array([1, 2, 3])"
      ]
     },
     "execution_count": 23,
     "metadata": {},
     "output_type": "execute_result"
    }
   ],
   "source": [
    "# 1 Construct an array from the list: [1,2,3]\n",
    "ll = [1,2,3]\n",
    "arr = np.array(ll)\n",
    "arr"
   ]
  },
  {
   "cell_type": "code",
   "execution_count": 24,
   "metadata": {},
   "outputs": [
    {
     "data": {
      "text/plain": [
       "array([1., 2., 3.])"
      ]
     },
     "execution_count": 24,
     "metadata": {},
     "output_type": "execute_result"
    }
   ],
   "source": [
    "#2 Cast it into floats\n",
    "arrf = arr.astype('float')\n",
    "arrf"
   ]
  },
  {
   "cell_type": "code",
   "execution_count": 27,
   "metadata": {},
   "outputs": [
    {
     "data": {
      "text/plain": [
       "array([6, 3, 7, 0, 8, 5, 4, 5, 7, 4, 6, 2, 3, 3, 4, 0, 7, 0, 1, 1])"
      ]
     },
     "execution_count": 27,
     "metadata": {},
     "output_type": "execute_result"
    }
   ],
   "source": [
    "#3 Create an array of int ranging from 0-10\n",
    "np.random.randint(0,10,size=20)"
   ]
  },
  {
   "cell_type": "code",
   "execution_count": 28,
   "metadata": {},
   "outputs": [
    {
     "data": {
      "text/plain": [
       "array([ 0.        ,  3.83333333,  7.66666667, 11.5       , 15.33333333,\n",
       "       19.16666667, 23.        ])"
      ]
     },
     "execution_count": 28,
     "metadata": {},
     "output_type": "execute_result"
    }
   ],
   "source": [
    "#4 Create an array containing 7 evenly spaced numbers between 0 and 23\n",
    "np.linspace(0,23,7)"
   ]
  },
  {
   "cell_type": "code",
   "execution_count": 29,
   "metadata": {},
   "outputs": [
    {
     "data": {
      "text/plain": [
       "array([[[[[[5],\n",
       "           [5]],\n",
       "\n",
       "          [[5],\n",
       "           [5]],\n",
       "\n",
       "          [[5],\n",
       "           [5]],\n",
       "\n",
       "          [[5],\n",
       "           [5]],\n",
       "\n",
       "          [[5],\n",
       "           [5]]]],\n",
       "\n",
       "\n",
       "\n",
       "        [[[[5],\n",
       "           [5]],\n",
       "\n",
       "          [[5],\n",
       "           [5]],\n",
       "\n",
       "          [[5],\n",
       "           [5]],\n",
       "\n",
       "          [[5],\n",
       "           [5]],\n",
       "\n",
       "          [[5],\n",
       "           [5]]]],\n",
       "\n",
       "\n",
       "\n",
       "        [[[[5],\n",
       "           [5]],\n",
       "\n",
       "          [[5],\n",
       "           [5]],\n",
       "\n",
       "          [[5],\n",
       "           [5]],\n",
       "\n",
       "          [[5],\n",
       "           [5]],\n",
       "\n",
       "          [[5],\n",
       "           [5]]]],\n",
       "\n",
       "\n",
       "\n",
       "        [[[[5],\n",
       "           [5]],\n",
       "\n",
       "          [[5],\n",
       "           [5]],\n",
       "\n",
       "          [[5],\n",
       "           [5]],\n",
       "\n",
       "          [[5],\n",
       "           [5]],\n",
       "\n",
       "          [[5],\n",
       "           [5]]]],\n",
       "\n",
       "\n",
       "\n",
       "        [[[[5],\n",
       "           [5]],\n",
       "\n",
       "          [[5],\n",
       "           [5]],\n",
       "\n",
       "          [[5],\n",
       "           [5]],\n",
       "\n",
       "          [[5],\n",
       "           [5]],\n",
       "\n",
       "          [[5],\n",
       "           [5]]]]],\n",
       "\n",
       "\n",
       "\n",
       "\n",
       "       [[[[[5],\n",
       "           [5]],\n",
       "\n",
       "          [[5],\n",
       "           [5]],\n",
       "\n",
       "          [[5],\n",
       "           [5]],\n",
       "\n",
       "          [[5],\n",
       "           [5]],\n",
       "\n",
       "          [[5],\n",
       "           [5]]]],\n",
       "\n",
       "\n",
       "\n",
       "        [[[[5],\n",
       "           [5]],\n",
       "\n",
       "          [[5],\n",
       "           [5]],\n",
       "\n",
       "          [[5],\n",
       "           [5]],\n",
       "\n",
       "          [[5],\n",
       "           [5]],\n",
       "\n",
       "          [[5],\n",
       "           [5]]]],\n",
       "\n",
       "\n",
       "\n",
       "        [[[[5],\n",
       "           [5]],\n",
       "\n",
       "          [[5],\n",
       "           [5]],\n",
       "\n",
       "          [[5],\n",
       "           [5]],\n",
       "\n",
       "          [[5],\n",
       "           [5]],\n",
       "\n",
       "          [[5],\n",
       "           [5]]]],\n",
       "\n",
       "\n",
       "\n",
       "        [[[[5],\n",
       "           [5]],\n",
       "\n",
       "          [[5],\n",
       "           [5]],\n",
       "\n",
       "          [[5],\n",
       "           [5]],\n",
       "\n",
       "          [[5],\n",
       "           [5]],\n",
       "\n",
       "          [[5],\n",
       "           [5]]]],\n",
       "\n",
       "\n",
       "\n",
       "        [[[[5],\n",
       "           [5]],\n",
       "\n",
       "          [[5],\n",
       "           [5]],\n",
       "\n",
       "          [[5],\n",
       "           [5]],\n",
       "\n",
       "          [[5],\n",
       "           [5]],\n",
       "\n",
       "          [[5],\n",
       "           [5]]]]]])"
      ]
     },
     "execution_count": 29,
     "metadata": {},
     "output_type": "execute_result"
    }
   ],
   "source": [
    "#5 create an array with shape (2,5,1,5,2,1) containing only the number 5\n",
    "np.full((2, 5,1,5,2,1), 5)"
   ]
  },
  {
   "cell_type": "code",
   "execution_count": 30,
   "metadata": {},
   "outputs": [
    {
     "name": "stdout",
     "output_type": "stream",
     "text": [
      "1\n"
     ]
    },
    {
     "data": {
      "text/plain": [
       "array([[[[5, 5],\n",
       "         [5, 5],\n",
       "         [5, 5],\n",
       "         [5, 5],\n",
       "         [5, 5]],\n",
       "\n",
       "        [[5, 5],\n",
       "         [5, 5],\n",
       "         [5, 5],\n",
       "         [5, 5],\n",
       "         [5, 5]],\n",
       "\n",
       "        [[5, 5],\n",
       "         [5, 5],\n",
       "         [5, 5],\n",
       "         [5, 5],\n",
       "         [5, 5]],\n",
       "\n",
       "        [[5, 5],\n",
       "         [5, 5],\n",
       "         [5, 5],\n",
       "         [5, 5],\n",
       "         [5, 5]],\n",
       "\n",
       "        [[5, 5],\n",
       "         [5, 5],\n",
       "         [5, 5],\n",
       "         [5, 5],\n",
       "         [5, 5]]],\n",
       "\n",
       "\n",
       "       [[[5, 5],\n",
       "         [5, 5],\n",
       "         [5, 5],\n",
       "         [5, 5],\n",
       "         [5, 5]],\n",
       "\n",
       "        [[5, 5],\n",
       "         [5, 5],\n",
       "         [5, 5],\n",
       "         [5, 5],\n",
       "         [5, 5]],\n",
       "\n",
       "        [[5, 5],\n",
       "         [5, 5],\n",
       "         [5, 5],\n",
       "         [5, 5],\n",
       "         [5, 5]],\n",
       "\n",
       "        [[5, 5],\n",
       "         [5, 5],\n",
       "         [5, 5],\n",
       "         [5, 5],\n",
       "         [5, 5]],\n",
       "\n",
       "        [[5, 5],\n",
       "         [5, 5],\n",
       "         [5, 5],\n",
       "         [5, 5],\n",
       "         [5, 5]]]])"
      ]
     },
     "execution_count": 30,
     "metadata": {},
     "output_type": "execute_result"
    }
   ],
   "source": [
    "#6 Eliminate all length-1 dimensions. See the function squeeze.\n",
    "x = len(np.full((2, 5,1,5,2,1), 5))-1\n",
    "print(x)\n",
    "np.squeeze(np.full((2, 5,1,5,2,1), 5))"
   ]
  },
  {
   "cell_type": "code",
   "execution_count": 31,
   "metadata": {},
   "outputs": [
    {
     "data": {
      "text/plain": [
       "array([[5, 5, 5, 5, 5, 5, 5, 5, 5, 5, 5, 5, 5, 5, 5, 5, 5, 5, 5, 5, 5, 5,\n",
       "        5, 5, 5, 5, 5, 5, 5, 5, 5, 5, 5, 5, 5, 5, 5, 5, 5, 5, 5, 5, 5, 5,\n",
       "        5, 5, 5, 5, 5, 5],\n",
       "       [5, 5, 5, 5, 5, 5, 5, 5, 5, 5, 5, 5, 5, 5, 5, 5, 5, 5, 5, 5, 5, 5,\n",
       "        5, 5, 5, 5, 5, 5, 5, 5, 5, 5, 5, 5, 5, 5, 5, 5, 5, 5, 5, 5, 5, 5,\n",
       "        5, 5, 5, 5, 5, 5]])"
      ]
     },
     "execution_count": 31,
     "metadata": {},
     "output_type": "execute_result"
    }
   ],
   "source": [
    "#7 Reshape the resulting array from shape (2,5,3,2) to only 2D\n",
    "x = np.squeeze(np.full((2, 5,1,5,2,1), 5))\n",
    "x = np.reshape(x,(2,-1))\n",
    "x"
   ]
  },
  {
   "cell_type": "code",
   "execution_count": 33,
   "metadata": {},
   "outputs": [
    {
     "name": "stdout",
     "output_type": "stream",
     "text": [
      "Normal Distribution:  [[[[24.96086813 18.60867371 17.61815335]\n",
      "   [26.53231521 12.63587758 23.6154047 ]\n",
      "   [10.79047872 20.95064671 25.75839131]\n",
      "   [21.6050829  21.93198016 16.3780728 ]\n",
      "   [13.58157095 31.16426187 18.57856907]\n",
      "   [16.3341256  25.02090227 16.62424259]\n",
      "   [25.08455123 21.31156169 16.1066221 ]\n",
      "   [20.19584205 19.96350295 16.41788794]\n",
      "   [28.54558309 17.1260339  25.36803477]\n",
      "   [28.33656707 19.03311523 20.7336673 ]\n",
      "   [15.32031583 21.53929163 14.12346948]\n",
      "   [14.97431211 27.0000578  15.0674415 ]]\n",
      "\n",
      "  [[20.02480477 19.33976945 20.60800657]\n",
      "   [18.57815969 15.06749286 23.11230965]\n",
      "   [21.71670123 26.10124131 16.88261001]\n",
      "   [24.33216529 11.5604796  21.49324033]\n",
      "   [23.41045451 19.73597297 16.66311202]\n",
      "   [22.96443269 14.50741901 20.78080526]\n",
      "   [21.22231384 25.21588631 25.63204788]\n",
      "   [20.1828717  21.20230186 14.96802399]\n",
      "   [30.70097046 15.82128592 18.62481157]\n",
      "   [17.71132159 21.91247303 26.43757761]\n",
      "   [15.03259102 19.64428069 21.77746109]\n",
      "   [23.05262543 14.53241977 27.65908263]]\n",
      "\n",
      "  [[18.12322385 21.88502649 15.40988443]\n",
      "   [24.95450176 23.45755986 27.28275433]\n",
      "   [18.34896015 21.79175261 27.61279481]\n",
      "   [22.97035433 21.81040098 17.65276073]\n",
      "   [19.07349515 25.50493014 23.14469012]\n",
      "   [23.03181096 27.62543322 15.84721872]\n",
      "   [24.02748946 23.29352715 15.77103522]\n",
      "   [12.83069154 16.76155994 22.70840195]\n",
      "   [19.01360409 33.73723754 21.34271019]\n",
      "   [16.03977661 18.21467309 14.47518311]\n",
      "   [24.66525696 10.35082355 22.85934141]\n",
      "   [27.68179825 21.59494786 17.48349379]]]\n",
      "\n",
      "\n",
      " [[[20.37117035 19.84775294 20.01073638]\n",
      "   [24.2824923  21.71593885 21.69992949]\n",
      "   [24.47775949 15.46098989 18.13990587]\n",
      "   [25.8641206  27.03590706 14.33302756]\n",
      "   [31.51289806 20.06171917 27.96235019]\n",
      "   [24.01801116 16.13307197  7.29530602]\n",
      "   [19.75521172 22.02541542 24.03330956]\n",
      "   [25.11753562 14.86040306 20.92738073]\n",
      "   [19.55943304 23.46139554 14.41583863]\n",
      "   [28.37235138 22.68127564 25.59640487]\n",
      "   [24.32334042 22.95366411 20.76719014]\n",
      "   [28.10314067 20.20717491 14.42295252]]\n",
      "\n",
      "  [[19.80520689 21.09589684 22.0532417 ]\n",
      "   [21.4553184  24.68337926 14.69863157]\n",
      "   [19.22123559 17.62377618 19.40053086]\n",
      "   [23.36244734 21.54577932 27.66712918]\n",
      "   [15.64884237 26.28832766 20.22406285]\n",
      "   [28.29631265 15.89314736 20.97731563]\n",
      "   [27.49736072 22.36200229 25.84678132]\n",
      "   [27.24895864 21.81580607 13.81641894]\n",
      "   [27.52603575 16.65500303  8.89548629]\n",
      "   [13.28053058 21.94111512 32.63080255]\n",
      "   [17.6655406  17.37344607 29.94743882]\n",
      "   [13.61665842 23.61392796 16.41603942]]\n",
      "\n",
      "  [[34.7795845  17.49723986 25.9300229 ]\n",
      "   [25.68813791 18.75704167 23.27328693]\n",
      "   [23.18328394 20.27514663 21.15586361]\n",
      "   [18.14146785 23.13573881 22.0581467 ]\n",
      "   [15.65821545 18.50663192 21.7655397 ]\n",
      "   [23.65388362 19.9430962  21.79651754]\n",
      "   [22.0186996  18.3790011  18.56905634]\n",
      "   [22.71099124 20.23217509 23.93876368]\n",
      "   [19.75973829 20.40202074 14.6873121 ]\n",
      "   [16.54401325 15.77308122 23.95157022]\n",
      "   [19.40947639 14.59473233 17.27452817]\n",
      "   [24.97984444 26.47650592 23.66070595]]]\n",
      "\n",
      "\n",
      " [[[20.95137853 21.89105446 17.09033607]\n",
      "   [25.5614612  25.07475061 22.19327999]\n",
      "   [28.03512697 18.31425957 19.33151549]\n",
      "   [22.22170099 27.02731557 17.13140657]\n",
      "   [18.138613   20.07228214 14.49077304]\n",
      "   [24.92090291 34.20288264 20.78551222]\n",
      "   [16.75341513 20.36925826 29.30312759]\n",
      "   [28.93984519 20.64873511 27.59220241]\n",
      "   [22.34962938 16.62505941 32.32080275]\n",
      "   [26.8283733  20.13627564 19.19263997]\n",
      "   [21.4007818  22.834709   23.32041594]\n",
      "   [21.75287853 19.85512457 28.03702509]]\n",
      "\n",
      "  [[19.65272849 20.83329747 19.22769861]\n",
      "   [28.90435174 13.14706371 22.33256343]\n",
      "   [24.28421406 22.43145668 24.77449406]\n",
      "   [16.34774912 22.52135913 16.99514928]\n",
      "   [25.35890798 14.65405191 19.93424751]\n",
      "   [17.37788884 17.92458848 21.11007472]\n",
      "   [19.26345975 18.89261148 25.94168482]\n",
      "   [25.20488689 16.52912283 17.95690855]\n",
      "   [20.11257099 24.76743609 17.77413342]\n",
      "   [25.9757297  22.35249293 16.03475941]\n",
      "   [23.60034941 14.45979607 20.1747685 ]\n",
      "   [29.59665543 20.48694925 24.4543436 ]]\n",
      "\n",
      "  [[24.99570301 20.27793767 22.1055363 ]\n",
      "   [21.69703797 20.89166386 18.39430883]\n",
      "   [24.94415206 16.75896606 25.16080198]\n",
      "   [13.32487994 29.38914375 19.92374069]\n",
      "   [17.62766134 16.87068994 15.54448982]\n",
      "   [19.76347082 23.31803485 18.23501824]\n",
      "   [14.94909191 27.58948575 23.288289  ]\n",
      "   [24.96865435 23.82812084 12.85307744]\n",
      "   [16.68461672 18.31530057 17.54081242]\n",
      "   [21.20247127 13.80846691 23.64643601]\n",
      "   [15.75248502 22.08328237 21.24147451]\n",
      "   [17.48820459 17.22111468 20.54403259]]]]\n",
      "Mean:  20.99783226557347\n",
      "\n",
      "Median:  20.95101261931481\n",
      "\n",
      "Standard Deviation:  4.591003388501513\n",
      "\n",
      "Max:  34.77958449687945\n",
      "\n",
      "Min: 7.295306016849281\n"
     ]
    }
   ],
   "source": [
    "#8 Calculate the mean, std, var, max, min, of an array with shape (3,3,12,3)\n",
    "# containing floats drawn from a normal distribution with mean 21 and sigma 4.5.\n",
    "\n",
    "xNorm = np.random.normal(21,4.5,(3,3,12,3))\n",
    "print(\"Normal Distribution: \", xNorm)\n",
    "print(\"Mean: \", np.mean(xNorm))\n",
    "print(\"\\nMedian: \", np.median(xNorm))\n",
    "print(\"\\nStandard Deviation: \", np.std(xNorm))\n",
    "print(\"\\nMax: \", np.max(xNorm))\n",
    "print(\"\\nMin:\", np.min(xNorm))\n"
   ]
  },
  {
   "cell_type": "code",
   "execution_count": 36,
   "metadata": {},
   "outputs": [
    {
     "data": {
      "text/plain": [
       "array([24.96086813, 18.60867371, 17.61815335, 26.53231521, 12.63587758,\n",
       "       23.6154047 , 10.79047872, 20.95064671, 25.75839131, 21.6050829 ,\n",
       "       21.93198016, 16.3780728 , 13.58157095, 31.16426187, 18.57856907,\n",
       "       16.3341256 , 25.02090227, 16.62424259, 25.08455123, 21.31156169,\n",
       "       16.1066221 , 20.19584205, 19.96350295, 16.41788794, 28.54558309,\n",
       "       17.1260339 , 25.36803477, 28.33656707, 19.03311523, 20.7336673 ,\n",
       "       15.32031583, 21.53929163, 14.12346948, 14.97431211, 27.0000578 ,\n",
       "       15.0674415 , 20.02480477, 19.33976945, 20.60800657, 18.57815969,\n",
       "       15.06749286, 23.11230965, 21.71670123, 26.10124131, 16.88261001,\n",
       "       24.33216529, 11.5604796 , 21.49324033, 23.41045451, 19.73597297,\n",
       "       16.66311202, 22.96443269, 14.50741901, 20.78080526, 21.22231384,\n",
       "       25.21588631, 25.63204788, 20.1828717 , 21.20230186, 14.96802399,\n",
       "       30.70097046, 15.82128592, 18.62481157, 17.71132159, 21.91247303,\n",
       "       26.43757761, 15.03259102, 19.64428069, 21.77746109, 23.05262543,\n",
       "       14.53241977, 27.65908263, 18.12322385, 21.88502649, 15.40988443,\n",
       "       24.95450176, 23.45755986, 27.28275433, 18.34896015, 21.79175261,\n",
       "       27.61279481, 22.97035433, 21.81040098, 17.65276073, 19.07349515,\n",
       "       25.50493014, 23.14469012, 23.03181096, 27.62543322, 15.84721872,\n",
       "       24.02748946, 23.29352715, 15.77103522, 12.83069154, 16.76155994,\n",
       "       22.70840195, 19.01360409, 33.73723754, 21.34271019, 16.03977661,\n",
       "       18.21467309, 14.47518311, 24.66525696, 10.35082355, 22.85934141,\n",
       "       27.68179825, 21.59494786, 17.48349379, 20.37117035, 19.84775294,\n",
       "       20.01073638, 24.2824923 , 21.71593885, 21.69992949, 24.47775949,\n",
       "       15.46098989, 18.13990587, 25.8641206 , 27.03590706, 14.33302756,\n",
       "       31.51289806, 20.06171917, 27.96235019, 24.01801116, 16.13307197,\n",
       "        7.29530602, 19.75521172, 22.02541542, 24.03330956, 25.11753562,\n",
       "       14.86040306, 20.92738073, 19.55943304, 23.46139554, 14.41583863,\n",
       "       28.37235138, 22.68127564, 25.59640487, 24.32334042, 22.95366411,\n",
       "       20.76719014, 28.10314067, 20.20717491, 14.42295252, 19.80520689,\n",
       "       21.09589684, 22.0532417 , 21.4553184 , 24.68337926, 14.69863157,\n",
       "       19.22123559, 17.62377618, 19.40053086, 23.36244734, 21.54577932,\n",
       "       27.66712918, 15.64884237, 26.28832766, 20.22406285, 28.29631265,\n",
       "       15.89314736, 20.97731563, 27.49736072, 22.36200229, 25.84678132,\n",
       "       27.24895864, 21.81580607, 13.81641894, 27.52603575, 16.65500303,\n",
       "        8.89548629, 13.28053058, 21.94111512, 32.63080255, 17.6655406 ,\n",
       "       17.37344607, 29.94743882, 13.61665842, 23.61392796, 16.41603942,\n",
       "       34.7795845 , 17.49723986, 25.9300229 , 25.68813791, 18.75704167,\n",
       "       23.27328693, 23.18328394, 20.27514663, 21.15586361, 18.14146785,\n",
       "       23.13573881, 22.0581467 , 15.65821545, 18.50663192, 21.7655397 ,\n",
       "       23.65388362, 19.9430962 , 21.79651754, 22.0186996 , 18.3790011 ,\n",
       "       18.56905634, 22.71099124, 20.23217509, 23.93876368, 19.75973829,\n",
       "       20.40202074, 14.6873121 , 16.54401325, 15.77308122, 23.95157022,\n",
       "       19.40947639, 14.59473233, 17.27452817, 24.97984444, 26.47650592,\n",
       "       23.66070595, 20.95137853, 21.89105446, 17.09033607, 25.5614612 ,\n",
       "       25.07475061, 22.19327999, 28.03512697, 18.31425957, 19.33151549,\n",
       "       22.22170099, 27.02731557, 17.13140657, 18.138613  , 20.07228214,\n",
       "       14.49077304, 24.92090291, 34.20288264, 20.78551222, 16.75341513,\n",
       "       20.36925826, 29.30312759, 28.93984519, 20.64873511, 27.59220241,\n",
       "       22.34962938, 16.62505941, 32.32080275, 26.8283733 , 20.13627564,\n",
       "       19.19263997, 21.4007818 , 22.834709  , 23.32041594, 21.75287853,\n",
       "       19.85512457, 28.03702509, 19.65272849, 20.83329747, 19.22769861,\n",
       "       28.90435174, 13.14706371, 22.33256343, 24.28421406, 22.43145668,\n",
       "       24.77449406, 16.34774912, 22.52135913, 16.99514928, 25.35890798,\n",
       "       14.65405191, 19.93424751, 17.37788884, 17.92458848, 21.11007472,\n",
       "       19.26345975, 18.89261148, 25.94168482, 25.20488689, 16.52912283,\n",
       "       17.95690855, 20.11257099, 24.76743609, 17.77413342, 25.9757297 ,\n",
       "       22.35249293, 16.03475941, 23.60034941, 14.45979607, 20.1747685 ,\n",
       "       29.59665543, 20.48694925, 24.4543436 , 24.99570301, 20.27793767,\n",
       "       22.1055363 , 21.69703797, 20.89166386, 18.39430883, 24.94415206,\n",
       "       16.75896606, 25.16080198, 13.32487994, 29.38914375, 19.92374069,\n",
       "       17.62766134, 16.87068994, 15.54448982, 19.76347082, 23.31803485,\n",
       "       18.23501824, 14.94909191, 27.58948575, 23.288289  , 24.96865435,\n",
       "       23.82812084, 12.85307744, 16.68461672, 18.31530057, 17.54081242,\n",
       "       21.20247127, 13.80846691, 23.64643601, 15.75248502, 22.08328237,\n",
       "       21.24147451, 17.48820459, 17.22111468, 20.54403259])"
      ]
     },
     "execution_count": 36,
     "metadata": {},
     "output_type": "execute_result"
    }
   ],
   "source": [
    "#10 transform the array such that it is only 1d. See the function Flatten or ravel\n",
    "norm1D = np.ravel(xNorm)\n",
    "norm1D"
   ]
  },
  {
   "cell_type": "code",
   "execution_count": 37,
   "metadata": {},
   "outputs": [
    {
     "data": {
      "text/plain": [
       "array([24.96086813, 18.60867371, 17.61815335, 26.53231521, 12.63587758,\n",
       "       23.6154047 , 10.79047872, 20.95064671, 25.75839131, 21.6050829 ,\n",
       "       21.93198016, 16.3780728 , 13.58157095, 31.16426187, 18.57856907,\n",
       "       16.3341256 , 25.02090227, 16.62424259, 25.08455123, 21.31156169,\n",
       "       16.1066221 , 20.19584205, 19.96350295, 16.41788794, 28.54558309,\n",
       "       17.1260339 , 25.36803477, 28.33656707, 19.03311523, 20.7336673 ,\n",
       "       15.32031583, 21.53929163, 14.12346948, 14.97431211, 27.0000578 ,\n",
       "       15.0674415 , 20.02480477, 19.33976945, 20.60800657, 18.57815969,\n",
       "       15.06749286, 23.11230965, 21.71670123, 26.10124131, 16.88261001,\n",
       "       24.33216529, 11.5604796 , 21.49324033, 23.41045451, 19.73597297,\n",
       "       16.66311202, 22.96443269, 14.50741901, 20.78080526, 21.22231384,\n",
       "       25.21588631, 25.63204788, 20.1828717 , 21.20230186, 14.96802399,\n",
       "       30.70097046, 15.82128592, 18.62481157, 17.71132159, 21.91247303,\n",
       "       26.43757761, 15.03259102, 19.64428069, 21.77746109, 23.05262543,\n",
       "       14.53241977, 27.65908263, 18.12322385, 21.88502649, 15.40988443,\n",
       "       24.95450176, 23.45755986, 27.28275433, 18.34896015, 21.79175261,\n",
       "       27.61279481, 22.97035433, 21.81040098, 17.65276073, 19.07349515,\n",
       "       25.50493014, 23.14469012, 23.03181096, 27.62543322, 15.84721872,\n",
       "       24.02748946, 23.29352715, 15.77103522, 12.83069154, 16.76155994,\n",
       "       22.70840195, 19.01360409, 33.73723754, 21.34271019, 16.03977661,\n",
       "       18.21467309, 14.47518311, 24.66525696, 10.35082355, 22.85934141,\n",
       "       27.68179825, 21.59494786, 17.48349379, 20.37117035, 19.84775294,\n",
       "       20.01073638, 24.2824923 , 21.71593885, 21.69992949, 24.47775949,\n",
       "       15.46098989, 18.13990587, 25.8641206 , 27.03590706, 14.33302756,\n",
       "       31.51289806, 20.06171917, 27.96235019, 24.01801116, 16.13307197,\n",
       "        7.29530602, 19.75521172, 22.02541542, 24.03330956, 25.11753562,\n",
       "       14.86040306, 20.92738073, 19.55943304, 23.46139554, 14.41583863,\n",
       "       28.37235138, 22.68127564, 25.59640487, 24.32334042, 22.95366411,\n",
       "       20.76719014, 28.10314067, 20.20717491, 14.42295252, 19.80520689,\n",
       "       21.09589684, 22.0532417 , 21.4553184 , 24.68337926, 14.69863157,\n",
       "       19.22123559, 17.62377618, 19.40053086, 23.36244734, 21.54577932,\n",
       "       27.66712918, 15.64884237, 26.28832766, 20.22406285, 28.29631265,\n",
       "       15.89314736, 20.97731563, 27.49736072, 22.36200229, 25.84678132,\n",
       "       27.24895864, 21.81580607, 13.81641894, 27.52603575, 16.65500303,\n",
       "        8.89548629, 13.28053058, 21.94111512, 32.63080255, 17.6655406 ,\n",
       "       17.37344607, 29.94743882, 13.61665842, 23.61392796, 16.41603942,\n",
       "       34.7795845 , 17.49723986, 25.9300229 , 25.68813791, 18.75704167,\n",
       "       23.27328693, 23.18328394, 20.27514663, 21.15586361, 18.14146785,\n",
       "       23.13573881, 22.0581467 , 15.65821545, 18.50663192, 21.7655397 ,\n",
       "       23.65388362, 19.9430962 , 21.79651754, 22.0186996 , 18.3790011 ,\n",
       "       18.56905634, 22.71099124, 20.23217509, 23.93876368, 19.75973829,\n",
       "       20.40202074, 14.6873121 , 16.54401325, 15.77308122, 23.95157022,\n",
       "       19.40947639, 14.59473233, 17.27452817, 24.97984444, 26.47650592,\n",
       "       23.66070595, 20.95137853, 21.89105446, 17.09033607, 25.5614612 ,\n",
       "       25.07475061, 22.19327999, 28.03512697, 18.31425957, 19.33151549,\n",
       "       22.22170099, 27.02731557, 17.13140657, 18.138613  , 20.07228214,\n",
       "       14.49077304, 24.92090291, 34.20288264, 20.78551222, 16.75341513,\n",
       "       20.36925826, 29.30312759, 28.93984519, 20.64873511, 27.59220241,\n",
       "       22.34962938, 16.62505941, 32.32080275, 26.8283733 , 20.13627564,\n",
       "       19.19263997, 21.4007818 , 22.834709  , 23.32041594, 21.75287853,\n",
       "       19.85512457, 28.03702509, 19.65272849, 20.83329747, 19.22769861,\n",
       "       28.90435174, 13.14706371, 22.33256343, 24.28421406, 22.43145668,\n",
       "       24.77449406, 16.34774912, 22.52135913, 16.99514928, 25.35890798,\n",
       "       14.65405191, 19.93424751, 17.37788884, 17.92458848, 21.11007472,\n",
       "       19.26345975, 18.89261148, 25.94168482, 25.20488689, 16.52912283,\n",
       "       17.95690855, 20.11257099, 24.76743609, 17.77413342, 25.9757297 ,\n",
       "       22.35249293, 16.03475941, 23.60034941, 14.45979607, 20.1747685 ,\n",
       "       29.59665543, 20.48694925, 24.4543436 , 24.99570301, 20.27793767,\n",
       "       22.1055363 , 21.69703797, 20.89166386, 18.39430883, 24.94415206,\n",
       "       16.75896606, 25.16080198, 13.32487994, 29.38914375, 19.92374069,\n",
       "       17.62766134, 16.87068994, 15.54448982, 19.76347082, 23.31803485,\n",
       "       18.23501824, 14.94909191, 27.58948575, 23.288289  , 24.96865435,\n",
       "       23.82812084, 12.85307744, 16.68461672, 18.31530057, 17.54081242,\n",
       "       21.20247127, 13.80846691, 23.64643601, 15.75248502, 22.08328237,\n",
       "       21.24147451, 17.48820459, 17.22111468, 20.54403259])"
      ]
     },
     "execution_count": 37,
     "metadata": {},
     "output_type": "execute_result"
    }
   ],
   "source": [
    "#11 Remove all values smaller 15 and larger 26.\n",
    "indexes = np.where((norm1D < 15) & (norm1D > 26))\n",
    "np.delete(norm1D,indexes)"
   ]
  },
  {
   "cell_type": "code",
   "execution_count": 42,
   "metadata": {},
   "outputs": [
    {
     "name": "stdout",
     "output_type": "stream",
     "text": [
      "[ 0.          0.          0.         26.53231521 12.63587758  0.\n",
      " 10.79047872  0.          0.          0.          0.          0.\n",
      " 13.58157095 31.16426187  0.          0.          0.          0.\n",
      "  0.          0.          0.          0.          0.          0.\n",
      " 28.54558309  0.          0.         28.33656707  0.          0.\n",
      "  0.          0.         14.12346948 14.97431211 27.0000578   0.\n",
      "  0.          0.          0.          0.          0.          0.\n",
      "  0.         26.10124131  0.          0.         11.5604796   0.\n",
      "  0.          0.          0.          0.         14.50741901  0.\n",
      "  0.          0.          0.          0.          0.         14.96802399\n",
      " 30.70097046  0.          0.          0.          0.         26.43757761\n",
      "  0.          0.          0.          0.         14.53241977 27.65908263\n",
      "  0.          0.          0.          0.          0.         27.28275433\n",
      "  0.          0.         27.61279481  0.          0.          0.\n",
      "  0.          0.          0.          0.         27.62543322  0.\n",
      "  0.          0.          0.         12.83069154  0.          0.\n",
      "  0.         33.73723754  0.          0.          0.         14.47518311\n",
      "  0.         10.35082355  0.         27.68179825  0.          0.\n",
      "  0.          0.          0.          0.          0.          0.\n",
      "  0.          0.          0.          0.         27.03590706 14.33302756\n",
      " 31.51289806  0.         27.96235019  0.          0.          7.29530602\n",
      "  0.          0.          0.          0.         14.86040306  0.\n",
      "  0.          0.         14.41583863 28.37235138  0.          0.\n",
      "  0.          0.          0.         28.10314067  0.         14.42295252\n",
      "  0.          0.          0.          0.          0.         14.69863157\n",
      "  0.          0.          0.          0.          0.         27.66712918\n",
      "  0.         26.28832766  0.         28.29631265  0.          0.\n",
      " 27.49736072  0.          0.         27.24895864  0.         13.81641894\n",
      " 27.52603575  0.          8.89548629 13.28053058  0.         32.63080255\n",
      "  0.          0.         29.94743882 13.61665842  0.          0.\n",
      " 34.7795845   0.          0.          0.          0.          0.\n",
      "  0.          0.          0.          0.          0.          0.\n",
      "  0.          0.          0.          0.          0.          0.\n",
      "  0.          0.          0.          0.          0.          0.\n",
      "  0.          0.         14.6873121   0.          0.          0.\n",
      "  0.         14.59473233  0.          0.         26.47650592  0.\n",
      "  0.          0.          0.          0.          0.          0.\n",
      " 28.03512697  0.          0.          0.         27.02731557  0.\n",
      "  0.          0.         14.49077304  0.         34.20288264  0.\n",
      "  0.          0.         29.30312759 28.93984519  0.         27.59220241\n",
      "  0.          0.         32.32080275 26.8283733   0.          0.\n",
      "  0.          0.          0.          0.          0.         28.03702509\n",
      "  0.          0.          0.         28.90435174 13.14706371  0.\n",
      "  0.          0.          0.          0.          0.          0.\n",
      "  0.         14.65405191  0.          0.          0.          0.\n",
      "  0.          0.          0.          0.          0.          0.\n",
      "  0.          0.          0.          0.          0.          0.\n",
      "  0.         14.45979607  0.         29.59665543  0.          0.\n",
      "  0.          0.          0.          0.          0.          0.\n",
      "  0.          0.          0.         13.32487994 29.38914375  0.\n",
      "  0.          0.          0.          0.          0.          0.\n",
      " 14.94909191 27.58948575  0.          0.          0.         12.85307744\n",
      "  0.          0.          0.          0.         13.80846691  0.\n",
      "  0.          0.          0.          0.          0.          0.        ]\n"
     ]
    }
   ],
   "source": [
    "#12 Clip all values smaller 15 and larger 26 to NaN. See the function Clip\n",
    "clip = np.clip(norm1D, a_min = 15, a_max = 26)\n",
    "norm1D[norm1D == clip] = 'NaN'\n",
    "print(norm1D)"
   ]
  },
  {
   "cell_type": "code",
   "execution_count": 43,
   "metadata": {},
   "outputs": [
    {
     "name": "stdout",
     "output_type": "stream",
     "text": [
      "Sum  1635.4643654655022\n"
     ]
    }
   ],
   "source": [
    "#13 Calculate the sum of the resulting array. It should not be NaN!.\n",
    "print(\"Sum \",np.nansum(norm1D))"
   ]
  },
  {
   "cell_type": "code",
   "execution_count": 40,
   "metadata": {},
   "outputs": [
    {
     "name": "stdout",
     "output_type": "stream",
     "text": [
      "[ 0.          0.          0.         26.53231521 12.63587758  0.\n",
      " 10.79047872  0.          0.          0.          0.          0.\n",
      " 13.58157095 31.16426187  0.          0.          0.          0.\n",
      "  0.          0.          0.          0.          0.          0.\n",
      " 28.54558309  0.          0.         28.33656707  0.          0.\n",
      "  0.          0.         14.12346948 14.97431211 27.0000578   0.\n",
      "  0.          0.          0.          0.          0.          0.\n",
      "  0.         26.10124131  0.          0.         11.5604796   0.\n",
      "  0.          0.          0.          0.         14.50741901  0.\n",
      "  0.          0.          0.          0.          0.         14.96802399\n",
      " 30.70097046  0.          0.          0.          0.         26.43757761\n",
      "  0.          0.          0.          0.         14.53241977 27.65908263\n",
      "  0.          0.          0.          0.          0.         27.28275433\n",
      "  0.          0.         27.61279481  0.          0.          0.\n",
      "  0.          0.          0.          0.         27.62543322  0.\n",
      "  0.          0.          0.         12.83069154  0.          0.\n",
      "  0.         33.73723754  0.          0.          0.         14.47518311\n",
      "  0.         10.35082355  0.         27.68179825  0.          0.\n",
      "  0.          0.          0.          0.          0.          0.\n",
      "  0.          0.          0.          0.         27.03590706 14.33302756\n",
      " 31.51289806  0.         27.96235019  0.          0.          7.29530602\n",
      "  0.          0.          0.          0.         14.86040306  0.\n",
      "  0.          0.         14.41583863 28.37235138  0.          0.\n",
      "  0.          0.          0.         28.10314067  0.         14.42295252\n",
      "  0.          0.          0.          0.          0.         14.69863157\n",
      "  0.          0.          0.          0.          0.         27.66712918\n",
      "  0.         26.28832766  0.         28.29631265  0.          0.\n",
      " 27.49736072  0.          0.         27.24895864  0.         13.81641894\n",
      " 27.52603575  0.          8.89548629 13.28053058  0.         32.63080255\n",
      "  0.          0.         29.94743882 13.61665842  0.          0.\n",
      " 34.7795845   0.          0.          0.          0.          0.\n",
      "  0.          0.          0.          0.          0.          0.\n",
      "  0.          0.          0.          0.          0.          0.\n",
      "  0.          0.          0.          0.          0.          0.\n",
      "  0.          0.         14.6873121   0.          0.          0.\n",
      "  0.         14.59473233  0.          0.         26.47650592  0.\n",
      "  0.          0.          0.          0.          0.          0.\n",
      " 28.03512697  0.          0.          0.         27.02731557  0.\n",
      "  0.          0.         14.49077304  0.         34.20288264  0.\n",
      "  0.          0.         29.30312759 28.93984519  0.         27.59220241\n",
      "  0.          0.         32.32080275 26.8283733   0.          0.\n",
      "  0.          0.          0.          0.          0.         28.03702509\n",
      "  0.          0.          0.         28.90435174 13.14706371  0.\n",
      "  0.          0.          0.          0.          0.          0.\n",
      "  0.         14.65405191  0.          0.          0.          0.\n",
      "  0.          0.          0.          0.          0.          0.\n",
      "  0.          0.          0.          0.          0.          0.\n",
      "  0.         14.45979607  0.         29.59665543  0.          0.\n",
      "  0.          0.          0.          0.          0.          0.\n",
      "  0.          0.          0.         13.32487994 29.38914375  0.\n",
      "  0.          0.          0.          0.          0.          0.\n",
      " 14.94909191 27.58948575  0.          0.          0.         12.85307744\n",
      "  0.          0.          0.          0.         13.80846691  0.\n",
      "  0.          0.          0.          0.          0.          0.        ]\n"
     ]
    }
   ],
   "source": [
    "#14 Convert the NaN’s to 0.0. See Where\n",
    "res = np.nan_to_num(norm1D,0) \n",
    "print(res)"
   ]
  },
  {
   "cell_type": "code",
   "execution_count": 41,
   "metadata": {},
   "outputs": [
    {
     "name": "stdout",
     "output_type": "stream",
     "text": [
      "[ 0.          0.          0.         26.53231521 12.63587758  0.\n",
      " 10.79047872  0.          0.          0.          0.          0.\n",
      " 13.58157095 31.16426187  0.          0.          0.          0.\n",
      "  0.          0.          0.          0.          0.          0.\n",
      " 28.54558309  0.          0.         28.33656707  0.          0.\n",
      "  0.          0.         14.12346948 14.97431211 27.0000578   0.\n",
      "  0.          0.          0.          0.          0.          0.\n",
      "  0.         26.10124131  0.          0.         11.5604796   0.\n",
      "  0.          0.          0.          0.         14.50741901  0.\n",
      "  0.          0.          0.          0.          0.         14.96802399\n",
      " 30.70097046  0.          0.          0.          0.         26.43757761\n",
      "  0.          0.          0.          0.         14.53241977 27.65908263\n",
      "  0.          0.          0.          0.          0.         27.28275433\n",
      "  0.          0.         27.61279481  0.          0.          0.\n",
      "  0.          0.          0.          0.         27.62543322  0.\n",
      "  0.          0.          0.         12.83069154  0.          0.\n",
      "  0.         33.73723754  0.          0.          0.         14.47518311\n",
      "  0.         10.35082355  0.         27.68179825  0.          0.\n",
      "  0.          0.          0.          0.          0.          0.\n",
      "  0.          0.          0.          0.         27.03590706 14.33302756\n",
      " 31.51289806  0.         27.96235019  0.          0.          7.29530602\n",
      "  0.          0.          0.          0.         14.86040306  0.\n",
      "  0.          0.         14.41583863 28.37235138  0.          0.\n",
      "  0.          0.          0.         28.10314067  0.         14.42295252\n",
      "  0.          0.          0.          0.          0.         14.69863157\n",
      "  0.          0.          0.          0.          0.         27.66712918\n",
      "  0.         26.28832766  0.         28.29631265  0.          0.\n",
      " 27.49736072  0.          0.         27.24895864  0.         13.81641894\n",
      " 27.52603575  0.          8.89548629 13.28053058  0.         32.63080255\n",
      "  0.          0.         29.94743882 13.61665842  0.          0.\n",
      " 34.7795845   0.          0.          0.          0.          0.\n",
      "  0.          0.          0.          0.          0.          0.\n",
      "  0.          0.          0.          0.          0.          0.\n",
      "  0.          0.          0.          0.          0.          0.\n",
      "  0.          0.         14.6873121   0.          0.          0.\n",
      "  0.         14.59473233  0.          0.         26.47650592  0.\n",
      "  0.          0.          0.          0.          0.          0.\n",
      " 28.03512697  0.          0.          0.         27.02731557  0.\n",
      "  0.          0.         14.49077304  0.         34.20288264  0.\n",
      "  0.          0.         29.30312759 28.93984519  0.         27.59220241\n",
      "  0.          0.         32.32080275 26.8283733   0.          0.\n",
      "  0.          0.          0.          0.          0.         28.03702509\n",
      "  0.          0.          0.         28.90435174 13.14706371  0.\n",
      "  0.          0.          0.          0.          0.          0.\n",
      "  0.         14.65405191  0.          0.          0.          0.\n",
      "  0.          0.          0.          0.          0.          0.\n",
      "  0.          0.          0.          0.          0.          0.\n",
      "  0.         14.45979607  0.         29.59665543  0.          0.\n",
      "  0.          0.          0.          0.          0.          0.\n",
      "  0.          0.          0.         13.32487994 29.38914375  0.\n",
      "  0.          0.          0.          0.          0.          0.\n",
      " 14.94909191 27.58948575  0.          0.          0.         12.85307744\n",
      "  0.          0.          0.          0.         13.80846691  0.\n",
      "  0.          0.          0.          0.          0.          0.        ]\n"
     ]
    }
   ],
   "source": [
    "#15 Save the array and load it again.\n",
    "np.save('arr15.npy', res)\n",
    "loaded = np.load('arr15.npy')\n",
    "print(loaded)"
   ]
  },
  {
   "cell_type": "markdown",
   "metadata": {},
   "source": [
    "**Task 2**"
   ]
  },
  {
   "cell_type": "code",
   "execution_count": 44,
   "metadata": {},
   "outputs": [
    {
     "name": "stdout",
     "output_type": "stream",
     "text": [
      "32\n",
      "Computation time of iteration:  0.0\n",
      "\n",
      " Computation time of sum function:  0.0\n"
     ]
    }
   ],
   "source": [
    "# Create a vectorised function that outputs values if they are even.\n",
    "def func(x):\n",
    "#     np.vectorize(x)\n",
    "    if x % 2 == 0:\n",
    "        print(x)\n",
    "        return x\n",
    "    \n",
    "np.vectorize(func(32))\n",
    "np.vectorize(func(5))\n",
    "\n",
    "# Perform sum over an array using .sum() and then through iteration, compute the time taken in\n",
    "# both operations. Which is better?\n",
    "\n",
    "arr = np.array([12,33,65,46,546,81,4,6,8])\n",
    "\n",
    "import time\n",
    "\n",
    "def iterate(x):\n",
    "    a = 0\n",
    "    for i in x:\n",
    "        a += i\n",
    "    return a\n",
    "\n",
    "def summ(x):\n",
    "    return np.sum(x)\n",
    "\n",
    "start = time.time()\n",
    "\n",
    "iterate(arr)\n",
    "\n",
    "end = time.time()\n",
    "print(\"Computation time of iteration: \",end-start)\n",
    "\n",
    "\n",
    "start = time.time()\n",
    "\n",
    "summ(arr)\n",
    "\n",
    "end = time.time()\n",
    "print(\"\\n Computation time of sum function: \",end-start)\n",
    "\n"
   ]
  },
  {
   "cell_type": "code",
   "execution_count": null,
   "metadata": {},
   "outputs": [],
   "source": []
  }
 ],
 "metadata": {
  "kernelspec": {
   "display_name": "Python 3",
   "language": "python",
   "name": "python3"
  },
  "language_info": {
   "codemirror_mode": {
    "name": "ipython",
    "version": 3
   },
   "file_extension": ".py",
   "mimetype": "text/x-python",
   "name": "python",
   "nbconvert_exporter": "python",
   "pygments_lexer": "ipython3",
   "version": "3.8.8"
  }
 },
 "nbformat": 4,
 "nbformat_minor": 1
}
